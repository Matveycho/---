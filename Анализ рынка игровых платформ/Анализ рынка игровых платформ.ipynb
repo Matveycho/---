{
 "cells": [
  {
   "cell_type": "markdown",
   "metadata": {},
   "source": [
    "# Анализ рынка игровых платформ\n",
    "\n",
    "   Интернет-магазине «Стримчик» продаёт по всему миру компьютерные игры. Из открытых источников доступны исторические данные о продажах игр, оценки пользователей и экспертов, жанры и платформы (например, Xbox или PlayStation). \n",
    "\n",
    "1. Необходимо выявить определяющие успешность игры закономерности. Это позволит сделать ставку на потенциально популярный продукт и спланировать рекламные кампании.\n",
    "\n",
    "2. Перед вами данные до 2016 года. Представим, что сейчас декабрь 2016 г., и вы планируете кампанию на 2017-й. Нужно отработать принцип работы с данными. Неважно, прогнозируете ли вы продажи на 2017 год по данным 2016-го или же 2027-й — по данным 2026 года.\n",
    "\n",
    "3. В наборе данных попадается аббревиатура ESRB (Entertainment Software Rating Board) — это ассоциация, определяющая возрастной рейтинг компьютерных игр. ESRB оценивает игровой контент и присваивает ему подходящую возрастную категорию, например, «Для взрослых», «Для детей младшего возраста» или «Для подростков»."
   ]
  },
  {
   "cell_type": "markdown",
   "metadata": {},
   "source": [
    "# Описание имеющихся данных\n",
    "\n",
    "\n",
    "    Name — название игры\n",
    "    Platform — платформа\n",
    "    Year_of_Release — год выпуска\n",
    "    Genre — жанр игры\n",
    "    NA_sales — продажи в Северной Америке (миллионы проданных копий)\n",
    "    EU_sales — продажи в Европе (миллионы проданных копий)\n",
    "    JP_sales — продажи в Японии (миллионы проданных копий)\n",
    "    Other_sales — продажи в других странах (миллионы проданных копий)\n",
    "    Critic_Score — оценка критиков (максимум 100)\n",
    "    User_Score — оценка пользователей (максимум 10)\n",
    "    Rating — рейтинг от организации ESRB (англ. Entertainment Software Rating Board). Эта ассоциация определяет рейтинг компьютерных игр и присваивает им подходящую возрастную категорию.\n",
    "Данные за 2016 год могут быть неполными."
   ]
  },
  {
   "cell_type": "markdown",
   "metadata": {},
   "source": [
    "## Чтение файла"
   ]
  },
  {
   "cell_type": "code",
   "execution_count": 1,
   "metadata": {},
   "outputs": [],
   "source": [
    "import pandas as pd\n",
    "from IPython.display import display\n",
    "import numpy as np\n",
    "import scipy.stats as st\n",
    "import datetime\n",
    "from tqdm import tqdm\n",
    "import matplotlib.pyplot as plt\n",
    "game_data = pd.read_csv('/datasets/games.csv')"
   ]
  },
  {
   "cell_type": "markdown",
   "metadata": {},
   "source": [
    "## Подготовка данных\n",
    "### Анализ данных\n",
    "1. Прочитаем файл методом info() \n",
    "2. Проверим на наличие пропуску и дубликатов. \n",
    "3. Выведим информацию о названии столбцов "
   ]
  },
  {
   "cell_type": "code",
   "execution_count": 2,
   "metadata": {},
   "outputs": [
    {
     "data": {
      "text/html": [
       "<div>\n",
       "<style scoped>\n",
       "    .dataframe tbody tr th:only-of-type {\n",
       "        vertical-align: middle;\n",
       "    }\n",
       "\n",
       "    .dataframe tbody tr th {\n",
       "        vertical-align: top;\n",
       "    }\n",
       "\n",
       "    .dataframe thead th {\n",
       "        text-align: right;\n",
       "    }\n",
       "</style>\n",
       "<table border=\"1\" class=\"dataframe\">\n",
       "  <thead>\n",
       "    <tr style=\"text-align: right;\">\n",
       "      <th></th>\n",
       "      <th>Name</th>\n",
       "      <th>Platform</th>\n",
       "      <th>Year_of_Release</th>\n",
       "      <th>Genre</th>\n",
       "      <th>NA_sales</th>\n",
       "      <th>EU_sales</th>\n",
       "      <th>JP_sales</th>\n",
       "      <th>Other_sales</th>\n",
       "      <th>Critic_Score</th>\n",
       "      <th>User_Score</th>\n",
       "      <th>Rating</th>\n",
       "    </tr>\n",
       "  </thead>\n",
       "  <tbody>\n",
       "    <tr>\n",
       "      <td>0</td>\n",
       "      <td>Wii Sports</td>\n",
       "      <td>Wii</td>\n",
       "      <td>2006.0</td>\n",
       "      <td>Sports</td>\n",
       "      <td>41.36</td>\n",
       "      <td>28.96</td>\n",
       "      <td>3.77</td>\n",
       "      <td>8.45</td>\n",
       "      <td>76.0</td>\n",
       "      <td>8</td>\n",
       "      <td>E</td>\n",
       "    </tr>\n",
       "    <tr>\n",
       "      <td>1</td>\n",
       "      <td>Super Mario Bros.</td>\n",
       "      <td>NES</td>\n",
       "      <td>1985.0</td>\n",
       "      <td>Platform</td>\n",
       "      <td>29.08</td>\n",
       "      <td>3.58</td>\n",
       "      <td>6.81</td>\n",
       "      <td>0.77</td>\n",
       "      <td>NaN</td>\n",
       "      <td>NaN</td>\n",
       "      <td>NaN</td>\n",
       "    </tr>\n",
       "    <tr>\n",
       "      <td>2</td>\n",
       "      <td>Mario Kart Wii</td>\n",
       "      <td>Wii</td>\n",
       "      <td>2008.0</td>\n",
       "      <td>Racing</td>\n",
       "      <td>15.68</td>\n",
       "      <td>12.76</td>\n",
       "      <td>3.79</td>\n",
       "      <td>3.29</td>\n",
       "      <td>82.0</td>\n",
       "      <td>8.3</td>\n",
       "      <td>E</td>\n",
       "    </tr>\n",
       "    <tr>\n",
       "      <td>3</td>\n",
       "      <td>Wii Sports Resort</td>\n",
       "      <td>Wii</td>\n",
       "      <td>2009.0</td>\n",
       "      <td>Sports</td>\n",
       "      <td>15.61</td>\n",
       "      <td>10.93</td>\n",
       "      <td>3.28</td>\n",
       "      <td>2.95</td>\n",
       "      <td>80.0</td>\n",
       "      <td>8</td>\n",
       "      <td>E</td>\n",
       "    </tr>\n",
       "    <tr>\n",
       "      <td>4</td>\n",
       "      <td>Pokemon Red/Pokemon Blue</td>\n",
       "      <td>GB</td>\n",
       "      <td>1996.0</td>\n",
       "      <td>Role-Playing</td>\n",
       "      <td>11.27</td>\n",
       "      <td>8.89</td>\n",
       "      <td>10.22</td>\n",
       "      <td>1.00</td>\n",
       "      <td>NaN</td>\n",
       "      <td>NaN</td>\n",
       "      <td>NaN</td>\n",
       "    </tr>\n",
       "  </tbody>\n",
       "</table>\n",
       "</div>"
      ],
      "text/plain": [
       "                       Name Platform  Year_of_Release         Genre  NA_sales  \\\n",
       "0                Wii Sports      Wii           2006.0        Sports     41.36   \n",
       "1         Super Mario Bros.      NES           1985.0      Platform     29.08   \n",
       "2            Mario Kart Wii      Wii           2008.0        Racing     15.68   \n",
       "3         Wii Sports Resort      Wii           2009.0        Sports     15.61   \n",
       "4  Pokemon Red/Pokemon Blue       GB           1996.0  Role-Playing     11.27   \n",
       "\n",
       "   EU_sales  JP_sales  Other_sales  Critic_Score User_Score Rating  \n",
       "0     28.96      3.77         8.45          76.0          8      E  \n",
       "1      3.58      6.81         0.77           NaN        NaN    NaN  \n",
       "2     12.76      3.79         3.29          82.0        8.3      E  \n",
       "3     10.93      3.28         2.95          80.0          8      E  \n",
       "4      8.89     10.22         1.00           NaN        NaN    NaN  "
      ]
     },
     "metadata": {},
     "output_type": "display_data"
    }
   ],
   "source": [
    "# Шапка данных\n",
    "display(game_data.head(5))"
   ]
  },
  {
   "cell_type": "code",
   "execution_count": 3,
   "metadata": {},
   "outputs": [
    {
     "name": "stdout",
     "output_type": "stream",
     "text": [
      "<class 'pandas.core.frame.DataFrame'>\n",
      "RangeIndex: 16715 entries, 0 to 16714\n",
      "Data columns (total 11 columns):\n",
      "Name               16713 non-null object\n",
      "Platform           16715 non-null object\n",
      "Year_of_Release    16446 non-null float64\n",
      "Genre              16713 non-null object\n",
      "NA_sales           16715 non-null float64\n",
      "EU_sales           16715 non-null float64\n",
      "JP_sales           16715 non-null float64\n",
      "Other_sales        16715 non-null float64\n",
      "Critic_Score       8137 non-null float64\n",
      "User_Score         10014 non-null object\n",
      "Rating             9949 non-null object\n",
      "dtypes: float64(6), object(5)\n",
      "memory usage: 1.4+ MB\n"
     ]
    }
   ],
   "source": [
    "# Общая информация о данных\n",
    "game_data.info()"
   ]
  },
  {
   "cell_type": "code",
   "execution_count": 4,
   "metadata": {},
   "outputs": [
    {
     "data": {
      "text/plain": [
       "Name                0.011965\n",
       "Platform            0.000000\n",
       "Year_of_Release     1.609333\n",
       "Genre               0.011965\n",
       "NA_sales            0.000000\n",
       "EU_sales            0.000000\n",
       "JP_sales            0.000000\n",
       "Other_sales         0.000000\n",
       "Critic_Score       51.319174\n",
       "User_Score         40.089740\n",
       "Rating             40.478612\n",
       "dtype: float64"
      ]
     },
     "execution_count": 4,
     "metadata": {},
     "output_type": "execute_result"
    }
   ],
   "source": [
    "# Пропуски данных в процентном соотношении\n",
    "game_data.isna().sum()/len(game_data)*100"
   ]
  },
  {
   "cell_type": "code",
   "execution_count": 5,
   "metadata": {},
   "outputs": [
    {
     "data": {
      "text/plain": [
       "0"
      ]
     },
     "execution_count": 5,
     "metadata": {},
     "output_type": "execute_result"
    }
   ],
   "source": [
    "# Поиск дубликатов\n",
    "game_data.duplicated().sum()"
   ]
  },
  {
   "cell_type": "code",
   "execution_count": 6,
   "metadata": {},
   "outputs": [
    {
     "data": {
      "text/plain": [
       "Index(['Name', 'Platform', 'Year_of_Release', 'Genre', 'NA_sales', 'EU_sales',\n",
       "       'JP_sales', 'Other_sales', 'Critic_Score', 'User_Score', 'Rating'],\n",
       "      dtype='object')"
      ]
     },
     "execution_count": 6,
     "metadata": {},
     "output_type": "execute_result"
    }
   ],
   "source": [
    "game_data.columns"
   ]
  },
  {
   "cell_type": "markdown",
   "metadata": {},
   "source": [
    "Вывод:\n",
    "\n",
    "1. Дубликаты отсутсвуют\n",
    "2. В столбцах Name, Year_of_Release, Genre, Critic_Score, User_Score, Rating имеются пропуски данных\n",
    "3. Заголовки написаны с заглавных букв, их необходимо перевести в строчные"
   ]
  },
  {
   "cell_type": "markdown",
   "metadata": {},
   "source": [
    "### Корректировка данных\n"
   ]
  },
  {
   "cell_type": "code",
   "execution_count": 7,
   "metadata": {},
   "outputs": [],
   "source": [
    "# Переведем названия столбцов к нижнему регистру\n",
    "game_data.columns = game_data.columns.str.lower() "
   ]
  },
  {
   "cell_type": "code",
   "execution_count": 8,
   "metadata": {
    "scrolled": true
   },
   "outputs": [
    {
     "data": {
      "text/html": [
       "<div>\n",
       "<style scoped>\n",
       "    .dataframe tbody tr th:only-of-type {\n",
       "        vertical-align: middle;\n",
       "    }\n",
       "\n",
       "    .dataframe tbody tr th {\n",
       "        vertical-align: top;\n",
       "    }\n",
       "\n",
       "    .dataframe thead th {\n",
       "        text-align: right;\n",
       "    }\n",
       "</style>\n",
       "<table border=\"1\" class=\"dataframe\">\n",
       "  <thead>\n",
       "    <tr style=\"text-align: right;\">\n",
       "      <th></th>\n",
       "      <th>name</th>\n",
       "      <th>platform</th>\n",
       "      <th>year_of_release</th>\n",
       "      <th>genre</th>\n",
       "      <th>na_sales</th>\n",
       "      <th>eu_sales</th>\n",
       "      <th>jp_sales</th>\n",
       "      <th>other_sales</th>\n",
       "      <th>critic_score</th>\n",
       "      <th>user_score</th>\n",
       "      <th>rating</th>\n",
       "    </tr>\n",
       "  </thead>\n",
       "  <tbody>\n",
       "    <tr>\n",
       "      <td>0</td>\n",
       "      <td>Wii Sports</td>\n",
       "      <td>Wii</td>\n",
       "      <td>2006.0</td>\n",
       "      <td>Sports</td>\n",
       "      <td>41.36</td>\n",
       "      <td>28.96</td>\n",
       "      <td>3.77</td>\n",
       "      <td>8.45</td>\n",
       "      <td>76.0</td>\n",
       "      <td>8</td>\n",
       "      <td>E</td>\n",
       "    </tr>\n",
       "  </tbody>\n",
       "</table>\n",
       "</div>"
      ],
      "text/plain": [
       "         name platform  year_of_release   genre  na_sales  eu_sales  jp_sales  \\\n",
       "0  Wii Sports      Wii           2006.0  Sports     41.36     28.96      3.77   \n",
       "\n",
       "   other_sales  critic_score user_score rating  \n",
       "0         8.45          76.0          8      E  "
      ]
     },
     "execution_count": 8,
     "metadata": {},
     "output_type": "execute_result"
    }
   ],
   "source": [
    "game_data.head(1)"
   ]
  },
  {
   "cell_type": "code",
   "execution_count": 9,
   "metadata": {},
   "outputs": [],
   "source": [
    "#Заменим столбец year_of_release на int, предварительно заполним пропуски О\n",
    "game_data['year_of_release'] = game_data['year_of_release'].fillna(0).astype('int')"
   ]
  },
  {
   "cell_type": "code",
   "execution_count": 10,
   "metadata": {},
   "outputs": [],
   "source": [
    "#Удалим значения Nan в столбце name. Их всего 2 строки\n",
    "game_data = game_data.dropna(subset = ['name'])"
   ]
  },
  {
   "cell_type": "code",
   "execution_count": 11,
   "metadata": {
    "scrolled": true
   },
   "outputs": [
    {
     "data": {
      "text/plain": [
       "tbd    2424\n",
       "7.8     324\n",
       "8       290\n",
       "8.2     282\n",
       "8.3     254\n",
       "       ... \n",
       "0.7       2\n",
       "0.6       2\n",
       "0.5       2\n",
       "0         1\n",
       "9.7       1\n",
       "Name: user_score, Length: 96, dtype: int64"
      ]
     },
     "execution_count": 11,
     "metadata": {},
     "output_type": "execute_result"
    }
   ],
   "source": [
    "game_data['user_score'].value_counts()"
   ]
  },
  {
   "cell_type": "markdown",
   "metadata": {},
   "source": [
    "Проанализируем пропуски TBD по году. Узнаем, где больше всего встречается данных с TBD"
   ]
  },
  {
   "cell_type": "code",
   "execution_count": 12,
   "metadata": {},
   "outputs": [
    {
     "data": {
      "text/plain": [
       "<matplotlib.axes._subplots.AxesSubplot at 0x7f2ea79b4390>"
      ]
     },
     "execution_count": 12,
     "metadata": {},
     "output_type": "execute_result"
    },
    {
     "data": {
      "image/png": "[encoded data removed]",
      "text/plain": [
       "<Figure size 720x504 with 1 Axes>"
      ]
     },
     "metadata": {
      "needs_background": "light"
     },
     "output_type": "display_data"
    }
   ],
   "source": [
    "game_data_tbd = game_data.query('user_score == \"tbd\"')\n",
    "game_data_tbd['year_of_release'].plot(kind = 'hist', bins = 1000,range = (1989,2016), figsize = (10,7))"
   ]
  },
  {
   "cell_type": "markdown",
   "metadata": {},
   "source": [
    "Удалять строки со значениями TBD нельзя, так как мы потеряем существенное количество данных по продажам, которые могут повлиять на дальнейшие выводы. Так как рейтинг = 0 всего 1, предлагаю значение TBD заменить нулевыми значениями. "
   ]
  },
  {
   "cell_type": "code",
   "execution_count": 13,
   "metadata": {},
   "outputs": [],
   "source": [
    "game_data['user_score']= np.where((game_data.user_score =='tbd'), 0, game_data.user_score)"
   ]
  },
  {
   "cell_type": "code",
   "execution_count": 14,
   "metadata": {},
   "outputs": [
    {
     "data": {
      "text/plain": [
       "0      2424\n",
       "7.8     324\n",
       "8       290\n",
       "8.2     282\n",
       "8.3     254\n",
       "       ... \n",
       "0.7       2\n",
       "0.6       2\n",
       "0.5       2\n",
       "0         1\n",
       "9.7       1\n",
       "Name: user_score, Length: 96, dtype: int64"
      ]
     },
     "execution_count": 14,
     "metadata": {},
     "output_type": "execute_result"
    }
   ],
   "source": [
    "game_data['user_score'].value_counts()"
   ]
  },
  {
   "cell_type": "code",
   "execution_count": 15,
   "metadata": {},
   "outputs": [],
   "source": [
    "game_data['user_score'] = game_data['user_score'].astype('float')  "
   ]
  },
  {
   "cell_type": "code",
   "execution_count": 16,
   "metadata": {
    "scrolled": true
   },
   "outputs": [
    {
     "name": "stdout",
     "output_type": "stream",
     "text": [
      "<class 'pandas.core.frame.DataFrame'>\n",
      "Int64Index: 16713 entries, 0 to 16714\n",
      "Data columns (total 11 columns):\n",
      "name               16713 non-null object\n",
      "platform           16713 non-null object\n",
      "year_of_release    16713 non-null int64\n",
      "genre              16713 non-null object\n",
      "na_sales           16713 non-null float64\n",
      "eu_sales           16713 non-null float64\n",
      "jp_sales           16713 non-null float64\n",
      "other_sales        16713 non-null float64\n",
      "critic_score       8137 non-null float64\n",
      "user_score         10014 non-null float64\n",
      "rating             9949 non-null object\n",
      "dtypes: float64(6), int64(1), object(4)\n",
      "memory usage: 1.5+ MB\n"
     ]
    }
   ],
   "source": [
    "game_data.info()"
   ]
  },
  {
   "cell_type": "markdown",
   "metadata": {},
   "source": [
    "Создадим столбец total_sales для объединение общего суммарного значения продаж каждоый игры"
   ]
  },
  {
   "cell_type": "code",
   "execution_count": 17,
   "metadata": {},
   "outputs": [],
   "source": [
    "game_data['total_sales'] = game_data['na_sales'] + game_data['eu_sales'] + game_data['jp_sales'] + game_data['other_sales'] "
   ]
  },
  {
   "cell_type": "code",
   "execution_count": 18,
   "metadata": {},
   "outputs": [
    {
     "data": {
      "text/html": [
       "<div>\n",
       "<style scoped>\n",
       "    .dataframe tbody tr th:only-of-type {\n",
       "        vertical-align: middle;\n",
       "    }\n",
       "\n",
       "    .dataframe tbody tr th {\n",
       "        vertical-align: top;\n",
       "    }\n",
       "\n",
       "    .dataframe thead th {\n",
       "        text-align: right;\n",
       "    }\n",
       "</style>\n",
       "<table border=\"1\" class=\"dataframe\">\n",
       "  <thead>\n",
       "    <tr style=\"text-align: right;\">\n",
       "      <th></th>\n",
       "      <th>name</th>\n",
       "      <th>platform</th>\n",
       "      <th>year_of_release</th>\n",
       "      <th>genre</th>\n",
       "      <th>na_sales</th>\n",
       "      <th>eu_sales</th>\n",
       "      <th>jp_sales</th>\n",
       "      <th>other_sales</th>\n",
       "      <th>critic_score</th>\n",
       "      <th>user_score</th>\n",
       "      <th>rating</th>\n",
       "      <th>total_sales</th>\n",
       "    </tr>\n",
       "  </thead>\n",
       "  <tbody>\n",
       "    <tr>\n",
       "      <td>0</td>\n",
       "      <td>Wii Sports</td>\n",
       "      <td>Wii</td>\n",
       "      <td>2006</td>\n",
       "      <td>Sports</td>\n",
       "      <td>41.36</td>\n",
       "      <td>28.96</td>\n",
       "      <td>3.77</td>\n",
       "      <td>8.45</td>\n",
       "      <td>76.0</td>\n",
       "      <td>8.0</td>\n",
       "      <td>E</td>\n",
       "      <td>82.54</td>\n",
       "    </tr>\n",
       "    <tr>\n",
       "      <td>1</td>\n",
       "      <td>Super Mario Bros.</td>\n",
       "      <td>NES</td>\n",
       "      <td>1985</td>\n",
       "      <td>Platform</td>\n",
       "      <td>29.08</td>\n",
       "      <td>3.58</td>\n",
       "      <td>6.81</td>\n",
       "      <td>0.77</td>\n",
       "      <td>NaN</td>\n",
       "      <td>NaN</td>\n",
       "      <td>NaN</td>\n",
       "      <td>40.24</td>\n",
       "    </tr>\n",
       "    <tr>\n",
       "      <td>2</td>\n",
       "      <td>Mario Kart Wii</td>\n",
       "      <td>Wii</td>\n",
       "      <td>2008</td>\n",
       "      <td>Racing</td>\n",
       "      <td>15.68</td>\n",
       "      <td>12.76</td>\n",
       "      <td>3.79</td>\n",
       "      <td>3.29</td>\n",
       "      <td>82.0</td>\n",
       "      <td>8.3</td>\n",
       "      <td>E</td>\n",
       "      <td>35.52</td>\n",
       "    </tr>\n",
       "    <tr>\n",
       "      <td>3</td>\n",
       "      <td>Wii Sports Resort</td>\n",
       "      <td>Wii</td>\n",
       "      <td>2009</td>\n",
       "      <td>Sports</td>\n",
       "      <td>15.61</td>\n",
       "      <td>10.93</td>\n",
       "      <td>3.28</td>\n",
       "      <td>2.95</td>\n",
       "      <td>80.0</td>\n",
       "      <td>8.0</td>\n",
       "      <td>E</td>\n",
       "      <td>32.77</td>\n",
       "    </tr>\n",
       "    <tr>\n",
       "      <td>4</td>\n",
       "      <td>Pokemon Red/Pokemon Blue</td>\n",
       "      <td>GB</td>\n",
       "      <td>1996</td>\n",
       "      <td>Role-Playing</td>\n",
       "      <td>11.27</td>\n",
       "      <td>8.89</td>\n",
       "      <td>10.22</td>\n",
       "      <td>1.00</td>\n",
       "      <td>NaN</td>\n",
       "      <td>NaN</td>\n",
       "      <td>NaN</td>\n",
       "      <td>31.38</td>\n",
       "    </tr>\n",
       "  </tbody>\n",
       "</table>\n",
       "</div>"
      ],
      "text/plain": [
       "                       name platform  year_of_release         genre  na_sales  \\\n",
       "0                Wii Sports      Wii             2006        Sports     41.36   \n",
       "1         Super Mario Bros.      NES             1985      Platform     29.08   \n",
       "2            Mario Kart Wii      Wii             2008        Racing     15.68   \n",
       "3         Wii Sports Resort      Wii             2009        Sports     15.61   \n",
       "4  Pokemon Red/Pokemon Blue       GB             1996  Role-Playing     11.27   \n",
       "\n",
       "   eu_sales  jp_sales  other_sales  critic_score  user_score rating  \\\n",
       "0     28.96      3.77         8.45          76.0         8.0      E   \n",
       "1      3.58      6.81         0.77           NaN         NaN    NaN   \n",
       "2     12.76      3.79         3.29          82.0         8.3      E   \n",
       "3     10.93      3.28         2.95          80.0         8.0      E   \n",
       "4      8.89     10.22         1.00           NaN         NaN    NaN   \n",
       "\n",
       "   total_sales  \n",
       "0        82.54  \n",
       "1        40.24  \n",
       "2        35.52  \n",
       "3        32.77  \n",
       "4        31.38  "
      ]
     },
     "execution_count": 18,
     "metadata": {},
     "output_type": "execute_result"
    }
   ],
   "source": [
    "game_data.head(5)"
   ]
  },
  {
   "cell_type": "code",
   "execution_count": 19,
   "metadata": {
    "scrolled": true
   },
   "outputs": [
    {
     "data": {
      "text/plain": [
       "6764"
      ]
     },
     "execution_count": 19,
     "metadata": {},
     "output_type": "execute_result"
    }
   ],
   "source": [
    "game_data['rating'].isna().sum()"
   ]
  },
  {
   "cell_type": "code",
   "execution_count": 20,
   "metadata": {
    "scrolled": true
   },
   "outputs": [],
   "source": [
    "game_data['rating'] = game_data['rating'].fillna('0+') "
   ]
  },
  {
   "cell_type": "code",
   "execution_count": 22,
   "metadata": {
    "scrolled": true
   },
   "outputs": [
    {
     "data": {
      "text/plain": [
       "0"
      ]
     },
     "execution_count": 22,
     "metadata": {},
     "output_type": "execute_result"
    }
   ],
   "source": [
    "game_data['rating'].isna().sum()"
   ]
  },
  {
   "cell_type": "code",
   "execution_count": 21,
   "metadata": {
    "scrolled": true
   },
   "outputs": [
    {
     "data": {
      "text/plain": [
       "0+      6764\n",
       "E       3990\n",
       "T       2961\n",
       "M       1563\n",
       "E10+    1420\n",
       "EC         8\n",
       "RP         3\n",
       "K-A        3\n",
       "AO         1\n",
       "Name: rating, dtype: int64"
      ]
     },
     "execution_count": 21,
     "metadata": {},
     "output_type": "execute_result"
    }
   ],
   "source": [
    "game_data['rating'].value_counts() "
   ]
  },
  {
   "cell_type": "markdown",
   "metadata": {},
   "source": [
    "<div style=\"border:solid blue 2px; padding: 20px\"> <b>Вывод:</b><br>\n",
    " \n",
    "    \n",
    "1. Наименования столбцов были приведены к нижнему регистру.\n",
    "2. Была проведена проверка на наличие дубликатов - они отсутствуют\n",
    "3. Значени столбца с годом приведен в формат int, а столбце с пользовательским рейтингом приведен в формат float. Значения tbd имеется большое количество (т.е. рейтинг уточняется). Соответственно удалять такие значения нельзя. Это приведет к искажению дальнейшего анализа данных. Было принято заменить такие значения на нулевые. Пропуски не стал заменять на средние и медианные значения. С моей точки зрения это некорректно, так как нельзя привязаться к конкретной категории или группе игр. Все игры разные и пользователи оценивают их индивидуально.\n",
    "4. Был сделан новый столбец total_sales - это суммарный объем продаж отдельно взятой игры\n",
    "</div>"
   ]
  },
  {
   "cell_type": "markdown",
   "metadata": {},
   "source": [
    "## Исследовательский анализ данных\n",
    "### Построим гистограмму продаж игр по годам"
   ]
  },
  {
   "cell_type": "code",
   "execution_count": 23,
   "metadata": {},
   "outputs": [
    {
     "data": {
      "text/plain": [
       "<matplotlib.axes._subplots.AxesSubplot at 0x7f2e9edc81d0>"
      ]
     },
     "execution_count": 23,
     "metadata": {},
     "output_type": "execute_result"
    },
    {
     "data": {
      "image/png": "[encoded data removed]",
      "text/plain": [
       "<Figure size 1440x720 with 1 Axes>"
      ]
     },
     "metadata": {
      "needs_background": "light"
     },
     "output_type": "display_data"
    }
   ],
   "source": [
    "game_data_years = game_data.groupby('year_of_release').agg({'name':'count'}).reset_index()\n",
    "game_data_years.plot(kind = 'bar', x = 'year_of_release', y = 'name', title = 'Продажи по годам', figsize = (20,10))\n"
   ]
  },
  {
   "cell_type": "markdown",
   "metadata": {},
   "source": [
    "Вывод: Рост продаж компьютерных игр начинается после 2001 года и не падал ниже это отметки. Поэтому данные до 2001 года можно отбросить и взять анализируемый период в 15 лет"
   ]
  },
  {
   "cell_type": "markdown",
   "metadata": {},
   "source": [
    "### Построим гистограмму продаж игр по платформам"
   ]
  },
  {
   "cell_type": "code",
   "execution_count": 24,
   "metadata": {},
   "outputs": [
    {
     "data": {
      "text/html": [
       "<div>\n",
       "<style scoped>\n",
       "    .dataframe tbody tr th:only-of-type {\n",
       "        vertical-align: middle;\n",
       "    }\n",
       "\n",
       "    .dataframe tbody tr th {\n",
       "        vertical-align: top;\n",
       "    }\n",
       "\n",
       "    .dataframe thead th {\n",
       "        text-align: right;\n",
       "    }\n",
       "</style>\n",
       "<table border=\"1\" class=\"dataframe\">\n",
       "  <thead>\n",
       "    <tr style=\"text-align: right;\">\n",
       "      <th></th>\n",
       "      <th>year_of_release</th>\n",
       "      <th>total_sales</th>\n",
       "    </tr>\n",
       "    <tr>\n",
       "      <th>platform</th>\n",
       "      <th></th>\n",
       "      <th></th>\n",
       "    </tr>\n",
       "  </thead>\n",
       "  <tbody>\n",
       "    <tr>\n",
       "      <td>PS2</td>\n",
       "      <td>2004</td>\n",
       "      <td>211.81</td>\n",
       "    </tr>\n",
       "    <tr>\n",
       "      <td>Wii</td>\n",
       "      <td>2009</td>\n",
       "      <td>206.97</td>\n",
       "    </tr>\n",
       "    <tr>\n",
       "      <td>PS2</td>\n",
       "      <td>2002</td>\n",
       "      <td>205.38</td>\n",
       "    </tr>\n",
       "    <tr>\n",
       "      <td>PS2</td>\n",
       "      <td>2003</td>\n",
       "      <td>184.31</td>\n",
       "    </tr>\n",
       "    <tr>\n",
       "      <td>Wii</td>\n",
       "      <td>2008</td>\n",
       "      <td>171.32</td>\n",
       "    </tr>\n",
       "  </tbody>\n",
       "</table>\n",
       "</div>"
      ],
      "text/plain": [
       "          year_of_release  total_sales\n",
       "platform                              \n",
       "PS2                  2004       211.81\n",
       "Wii                  2009       206.97\n",
       "PS2                  2002       205.38\n",
       "PS2                  2003       184.31\n",
       "Wii                  2008       171.32"
      ]
     },
     "execution_count": 24,
     "metadata": {},
     "output_type": "execute_result"
    }
   ],
   "source": [
    "game_data_platform = game_data.groupby(['platform','year_of_release']).agg({'total_sales':'sum'}).reset_index().set_index('platform').query('year_of_release>=2000')\n",
    "game_data_platform.sort_values(by = 'total_sales', ascending = False).head(5)"
   ]
  },
  {
   "cell_type": "code",
   "execution_count": 25,
   "metadata": {
    "scrolled": false
   },
   "outputs": [
    {
     "data": {
      "image/png": "[encoded data removed]",
      "text/plain": [
       "<Figure size 1440x720 with 1 Axes>"
      ]
     },
     "metadata": {
      "needs_background": "light"
     },
     "output_type": "display_data"
    }
   ],
   "source": [
    "fig, ax = plt.subplots(figsize =(20,10))\n",
    "game_data_platform_years= game_data_platform.groupby('platform').agg({'total_sales':'sum'}).sort_values(by = 'total_sales', ascending = False).head(10).index\n",
    "#game_data_platform_years.plot(kind = 'bar', x = 'platform', y = 'total_sales', title = 'Продажи по годам', figsize = (20,10))\n",
    "for platform in game_data_platform_years:\n",
    "    game_data_platform.loc[platform].plot(style = '-o', xlim = (2000,2016), title = 'Продажи игровых платформ по годам', x = 'year_of_release', y ='total_sales', grid = True, ax=ax)\n",
    "ax.legend(game_data_platform_years,prop = {'size':11})\n",
    "ax.set_xlim([2000,2017])\n",
    "ax.set_xticks(np.arange(2000,2017))\n",
    "ax.set_xticklabels(range(2000,2017))\n",
    "plt.show()\n",
    "plt.show()"
   ]
  },
  {
   "cell_type": "markdown",
   "metadata": {},
   "source": [
    "\n",
    "Построим график продаж всех платформ за выбранный актуальный период для прогнозирования продаж на 2017 год.\n"
   ]
  },
  {
   "cell_type": "code",
   "execution_count": 26,
   "metadata": {
    "scrolled": false
   },
   "outputs": [
    {
     "data": {
      "image/png": "[encoded data removed]",
      "text/plain": [
       "<Figure size 1440x720 with 1 Axes>"
      ]
     },
     "metadata": {
      "needs_background": "light"
     },
     "output_type": "display_data"
    }
   ],
   "source": [
    "fig, ax = plt.subplots(figsize =(20,10))\n",
    "game_data_platform_years_all= game_data_platform.groupby('platform').agg({'total_sales':'sum'}).sort_values(by = 'total_sales', ascending = False).index\n",
    "#game_data_platform_years.plot(kind = 'bar', x = 'platform', y = 'total_sales', title = 'Продажи по годам', figsize = (20,10))\n",
    "for platform in game_data_platform_years_all:\n",
    "    game_data_platform.loc[platform].plot(style = '-o', xlim = (2013,2016), title = 'Продажи всех игровых платформ по годам', x = 'year_of_release', y ='total_sales', grid = True, ax=ax)\n",
    "ax.legend(game_data_platform_years_all,prop = {'size':15})\n",
    "ax.set_xlim([2013,2017])\n",
    "ax.set_xticks(np.arange(2013,2017))\n",
    "ax.set_xticklabels(range(2013,2017))\n",
    "plt.show()\n",
    "plt.show()"
   ]
  },
  {
   "cell_type": "markdown",
   "metadata": {},
   "source": [
    "\n",
    "Выведем суммы продаж за 2016 год по всем платформам.\n"
   ]
  },
  {
   "cell_type": "code",
   "execution_count": 27,
   "metadata": {
    "scrolled": true
   },
   "outputs": [
    {
     "data": {
      "text/html": [
       "<div>\n",
       "<style scoped>\n",
       "    .dataframe tbody tr th:only-of-type {\n",
       "        vertical-align: middle;\n",
       "    }\n",
       "\n",
       "    .dataframe tbody tr th {\n",
       "        vertical-align: top;\n",
       "    }\n",
       "\n",
       "    .dataframe thead th {\n",
       "        text-align: right;\n",
       "    }\n",
       "</style>\n",
       "<table border=\"1\" class=\"dataframe\">\n",
       "  <thead>\n",
       "    <tr style=\"text-align: right;\">\n",
       "      <th></th>\n",
       "      <th>year_of_release</th>\n",
       "      <th>total_sales</th>\n",
       "    </tr>\n",
       "    <tr>\n",
       "      <th>platform</th>\n",
       "      <th></th>\n",
       "      <th></th>\n",
       "    </tr>\n",
       "  </thead>\n",
       "  <tbody>\n",
       "    <tr>\n",
       "      <td>PS4</td>\n",
       "      <td>2016</td>\n",
       "      <td>69.25</td>\n",
       "    </tr>\n",
       "    <tr>\n",
       "      <td>XOne</td>\n",
       "      <td>2016</td>\n",
       "      <td>26.15</td>\n",
       "    </tr>\n",
       "    <tr>\n",
       "      <td>3DS</td>\n",
       "      <td>2016</td>\n",
       "      <td>15.14</td>\n",
       "    </tr>\n",
       "    <tr>\n",
       "      <td>PC</td>\n",
       "      <td>2016</td>\n",
       "      <td>5.25</td>\n",
       "    </tr>\n",
       "    <tr>\n",
       "      <td>WiiU</td>\n",
       "      <td>2016</td>\n",
       "      <td>4.60</td>\n",
       "    </tr>\n",
       "    <tr>\n",
       "      <td>PSV</td>\n",
       "      <td>2016</td>\n",
       "      <td>4.25</td>\n",
       "    </tr>\n",
       "    <tr>\n",
       "      <td>PS3</td>\n",
       "      <td>2016</td>\n",
       "      <td>3.60</td>\n",
       "    </tr>\n",
       "    <tr>\n",
       "      <td>X360</td>\n",
       "      <td>2016</td>\n",
       "      <td>1.52</td>\n",
       "    </tr>\n",
       "    <tr>\n",
       "      <td>Wii</td>\n",
       "      <td>2016</td>\n",
       "      <td>0.18</td>\n",
       "    </tr>\n",
       "  </tbody>\n",
       "</table>\n",
       "</div>"
      ],
      "text/plain": [
       "          year_of_release  total_sales\n",
       "platform                              \n",
       "PS4                  2016        69.25\n",
       "XOne                 2016        26.15\n",
       "3DS                  2016        15.14\n",
       "PC                   2016         5.25\n",
       "WiiU                 2016         4.60\n",
       "PSV                  2016         4.25\n",
       "PS3                  2016         3.60\n",
       "X360                 2016         1.52\n",
       "Wii                  2016         0.18"
      ]
     },
     "execution_count": 27,
     "metadata": {},
     "output_type": "execute_result"
    }
   ],
   "source": [
    "game_data_platform.loc[game_data_platform['year_of_release'] == 2016].sort_values(by = 'total_sales', ascending = False)"
   ]
  },
  {
   "cell_type": "markdown",
   "metadata": {},
   "source": [
    "\n",
    " \n",
    "На графике видно, что жизненный цикл платформ примерно одинаковый 8 - 11 лет.\n",
    "Активное появление платформ началось с 2004 года по 2008 год\n",
    "С 2013 года по 2016 ни одна игровая платформа не ушла срынка, однако у всех замечен спад продаж.\n",
    "\n",
    "В период с 2013 года появилась новая платформа ps4 по ней до 2015 года был активный рост продаж, но к 2016 году, как и у всех платформ замечен спад продаж\n",
    "\n",
    "Наиболее прибыльными с точки зрения продаж являются платформы ps4 и 3ds. Так как они находятся на среднем этапе своего жизненого цикла и согласно полученным данным, еще буду находиться на пике своей популярности достаточное количество времени (от 2-ух до 5 лет)"
   ]
  },
  {
   "cell_type": "markdown",
   "metadata": {},
   "source": [
    "\n",
    "После общего анализа всех платформ, в наш список перспективных платформ необходимо добавить XOne. Так как с 2013 по 2016 наблюдался активный рост продаж. И в 2016 году игровая платформа XOne находится на 2 позиции по объему проданных игр.\n"
   ]
  },
  {
   "cell_type": "markdown",
   "metadata": {},
   "source": [
    "### Построим график «ящик с усами»"
   ]
  },
  {
   "cell_type": "code",
   "execution_count": 28,
   "metadata": {},
   "outputs": [
    {
     "data": {
      "text/plain": [
       "2015    606\n",
       "2014    581\n",
       "2013    544\n",
       "2016    502\n",
       "Name: year_of_release, dtype: int64"
      ]
     },
     "execution_count": 28,
     "metadata": {},
     "output_type": "execute_result"
    }
   ],
   "source": [
    "# Сделаем срез данных по актуальному диапазону\n",
    "game_data_query = game_data.query('year_of_release >= 2013')\n",
    "game_data_query['year_of_release'].value_counts()"
   ]
  },
  {
   "cell_type": "code",
   "execution_count": 29,
   "metadata": {},
   "outputs": [
    {
     "data": {
      "text/plain": [
       "(0, 0.26)"
      ]
     },
     "execution_count": 29,
     "metadata": {},
     "output_type": "execute_result"
    },
    {
     "data": {
      "image/png": "[encoded data removed]",
      "text/plain": [
       "<Figure size 1080x360 with 1 Axes>"
      ]
     },
     "metadata": {
      "needs_background": "light"
     },
     "output_type": "display_data"
    }
   ],
   "source": [
    "# Построим график \"ящик с усиками\"\n",
    "import seaborn as sns\n",
    "top_quantile = game_data_query['total_sales'].quantile(0.75)\n",
    "low_quantile = game_data_query['total_sales'].quantile(0.25)\n",
    "threshold = top_quantile + 2*low_quantile\n",
    "fig, ax = plt.subplots(figsize =(15,5))\n",
    "sns.boxplot(x = 'platform', \n",
    "            y = 'total_sales',\n",
    "            data = game_data_query.query('total_sales <= @threshold'),ax=ax,)\n",
    "plt.title(\"График распределения без выбросов\")\n",
    "plt.ylim(0,0.26)"
   ]
  },
  {
   "cell_type": "code",
   "execution_count": 51,
   "metadata": {},
   "outputs": [
    {
     "data": {
      "text/plain": [
       "Text(0.5, 1.0, 'График распределения с выбросами')"
      ]
     },
     "execution_count": 51,
     "metadata": {},
     "output_type": "execute_result"
    },
    {
     "data": {
      "image/png": "[encoded data removed]",
      "text/plain": [
       "<Figure size 1080x360 with 1 Axes>"
      ]
     },
     "metadata": {
      "needs_background": "light"
     },
     "output_type": "display_data"
    }
   ],
   "source": [
    "# Построим график \"ящик с усиками\"\n",
    "fig, ax = plt.subplots(figsize =(15,5))\n",
    "sns.boxplot(x = 'platform', \n",
    "            y = 'total_sales',\n",
    "            data = game_data_query,ax=ax,)\n",
    "plt.title(\"График распределения с выбросами\")\n",
    "#plt.ylim(0,0.26)"
   ]
  },
  {
   "cell_type": "markdown",
   "metadata": {},
   "source": [
    "Вывод: у большей части платформ продажи находятся выше медианного значения. Наиболее равномерно распределены значения у платформы xone, ds "
   ]
  },
  {
   "cell_type": "markdown",
   "metadata": {},
   "source": [
    "### Анализ жанров по продажам"
   ]
  },
  {
   "cell_type": "code",
   "execution_count": 31,
   "metadata": {
    "scrolled": false
   },
   "outputs": [
    {
     "data": {
      "text/html": [
       "<div>\n",
       "<style scoped>\n",
       "    .dataframe tbody tr th:only-of-type {\n",
       "        vertical-align: middle;\n",
       "    }\n",
       "\n",
       "    .dataframe tbody tr th {\n",
       "        vertical-align: top;\n",
       "    }\n",
       "\n",
       "    .dataframe thead th {\n",
       "        text-align: right;\n",
       "    }\n",
       "</style>\n",
       "<table border=\"1\" class=\"dataframe\">\n",
       "  <thead>\n",
       "    <tr style=\"text-align: right;\">\n",
       "      <th></th>\n",
       "      <th>count</th>\n",
       "      <th>sum</th>\n",
       "      <th>median</th>\n",
       "      <th>mean</th>\n",
       "    </tr>\n",
       "    <tr>\n",
       "      <th>genre</th>\n",
       "      <th></th>\n",
       "      <th></th>\n",
       "      <th></th>\n",
       "      <th></th>\n",
       "    </tr>\n",
       "  </thead>\n",
       "  <tbody>\n",
       "    <tr>\n",
       "      <td>Action</td>\n",
       "      <td>766</td>\n",
       "      <td>321.87</td>\n",
       "      <td>0.110</td>\n",
       "      <td>0.420196</td>\n",
       "    </tr>\n",
       "    <tr>\n",
       "      <td>Shooter</td>\n",
       "      <td>187</td>\n",
       "      <td>232.98</td>\n",
       "      <td>0.450</td>\n",
       "      <td>1.245882</td>\n",
       "    </tr>\n",
       "    <tr>\n",
       "      <td>Sports</td>\n",
       "      <td>214</td>\n",
       "      <td>150.65</td>\n",
       "      <td>0.240</td>\n",
       "      <td>0.703972</td>\n",
       "    </tr>\n",
       "    <tr>\n",
       "      <td>Role-Playing</td>\n",
       "      <td>292</td>\n",
       "      <td>145.89</td>\n",
       "      <td>0.125</td>\n",
       "      <td>0.499623</td>\n",
       "    </tr>\n",
       "    <tr>\n",
       "      <td>Misc</td>\n",
       "      <td>155</td>\n",
       "      <td>62.82</td>\n",
       "      <td>0.100</td>\n",
       "      <td>0.405290</td>\n",
       "    </tr>\n",
       "    <tr>\n",
       "      <td>Platform</td>\n",
       "      <td>74</td>\n",
       "      <td>42.63</td>\n",
       "      <td>0.225</td>\n",
       "      <td>0.576081</td>\n",
       "    </tr>\n",
       "    <tr>\n",
       "      <td>Racing</td>\n",
       "      <td>85</td>\n",
       "      <td>39.89</td>\n",
       "      <td>0.120</td>\n",
       "      <td>0.469294</td>\n",
       "    </tr>\n",
       "    <tr>\n",
       "      <td>Fighting</td>\n",
       "      <td>80</td>\n",
       "      <td>35.31</td>\n",
       "      <td>0.125</td>\n",
       "      <td>0.441375</td>\n",
       "    </tr>\n",
       "    <tr>\n",
       "      <td>Adventure</td>\n",
       "      <td>245</td>\n",
       "      <td>23.64</td>\n",
       "      <td>0.030</td>\n",
       "      <td>0.096490</td>\n",
       "    </tr>\n",
       "    <tr>\n",
       "      <td>Simulation</td>\n",
       "      <td>62</td>\n",
       "      <td>21.76</td>\n",
       "      <td>0.100</td>\n",
       "      <td>0.350968</td>\n",
       "    </tr>\n",
       "    <tr>\n",
       "      <td>Strategy</td>\n",
       "      <td>56</td>\n",
       "      <td>10.08</td>\n",
       "      <td>0.080</td>\n",
       "      <td>0.180000</td>\n",
       "    </tr>\n",
       "    <tr>\n",
       "      <td>Puzzle</td>\n",
       "      <td>17</td>\n",
       "      <td>3.17</td>\n",
       "      <td>0.060</td>\n",
       "      <td>0.186471</td>\n",
       "    </tr>\n",
       "  </tbody>\n",
       "</table>\n",
       "</div>"
      ],
      "text/plain": [
       "              count     sum  median      mean\n",
       "genre                                        \n",
       "Action          766  321.87   0.110  0.420196\n",
       "Shooter         187  232.98   0.450  1.245882\n",
       "Sports          214  150.65   0.240  0.703972\n",
       "Role-Playing    292  145.89   0.125  0.499623\n",
       "Misc            155   62.82   0.100  0.405290\n",
       "Platform         74   42.63   0.225  0.576081\n",
       "Racing           85   39.89   0.120  0.469294\n",
       "Fighting         80   35.31   0.125  0.441375\n",
       "Adventure       245   23.64   0.030  0.096490\n",
       "Simulation       62   21.76   0.100  0.350968\n",
       "Strategy         56   10.08   0.080  0.180000\n",
       "Puzzle           17    3.17   0.060  0.186471"
      ]
     },
     "execution_count": 31,
     "metadata": {},
     "output_type": "execute_result"
    }
   ],
   "source": [
    "# Сгруппируем данные по по жанру и продажам.\n",
    "game_data_genre = game_data_query.groupby('genre').agg({'name':'count', 'total_sales':['sum','median','mean']})\n",
    "game_data_genre.columns = ['count','sum','median','mean']\n",
    "game_data_genre.sort_values(by = 'sum', ascending = False)"
   ]
  },
  {
   "cell_type": "markdown",
   "metadata": {},
   "source": [
    "Вывод: самым популярным жанром является экшн. Однако игр, выпущенных в жанре шутер меньше в 4 раза, Одна игра в среднем приносит намного больше выручки. Это можно понять по среднему и медианному значению. Так же не уступает по объему продаж, среднему и медианному значению - это жанр спорт.\n",
    "Если рассматривать дальнейшую разработку игр, более выгодно вкладываться в игровые жанры шутер и спорт"
   ]
  },
  {
   "cell_type": "markdown",
   "metadata": {},
   "source": [
    "### Влияние рейтинга игры на продажи"
   ]
  },
  {
   "cell_type": "code",
   "execution_count": 32,
   "metadata": {},
   "outputs": [
    {
     "data": {
      "text/plain": [
       "Text(0.5, 1.0, 'Рейтинг критиков')"
      ]
     },
     "execution_count": 32,
     "metadata": {},
     "output_type": "execute_result"
    },
    {
     "data": {
      "image/png": "[encoded data removed]",
      "text/plain": [
       "<Figure size 1080x504 with 1 Axes>"
      ]
     },
     "metadata": {
      "needs_background": "light"
     },
     "output_type": "display_data"
    },
    {
     "data": {
      "image/png": "[encoded data removed]",
      "text/plain": [
       "<Figure size 1080x504 with 1 Axes>"
      ]
     },
     "metadata": {
      "needs_background": "light"
     },
     "output_type": "display_data"
    }
   ],
   "source": [
    "# Сдедаем срез данных по рейтингу. Отбросим нулевые значения.\n",
    "data_user_score = game_data_query.query('user_score > 0 & platform == \"PS4\"').plot.scatter(\n",
    "                      x='total_sales',\n",
    "                      y='user_score',\n",
    "                     figsize = (15,7))\n",
    "plt.title(\"Пользовательский рейтинг\")\n",
    "data_critic_score = game_data_query.query('critic_score > 0 & platform == \"PS4\"').plot.scatter(\n",
    "                      x='total_sales',\n",
    "                      y='critic_score',\n",
    "                      figsize = (15,7))\n",
    "plt.title(\"Рейтинг критиков\")"
   ]
  },
  {
   "cell_type": "code",
   "execution_count": 33,
   "metadata": {},
   "outputs": [
    {
     "data": {
      "text/plain": [
       "-0.031957110204556424"
      ]
     },
     "metadata": {},
     "output_type": "display_data"
    },
    {
     "data": {
      "text/plain": [
       "0.40656790206178095"
      ]
     },
     "metadata": {},
     "output_type": "display_data"
    }
   ],
   "source": [
    "data_user_score = game_data_query.query('user_score > 0 & platform == \"PS4\"')\n",
    "data_critic_score = game_data_query.query('critic_score > 0 & platform == \"PS4\"')\n",
    "display(data_user_score['user_score'].corr(data_user_score['total_sales']))\n",
    "display(data_critic_score['critic_score'].corr(data_critic_score['total_sales']))"
   ]
  },
  {
   "cell_type": "code",
   "execution_count": 34,
   "metadata": {},
   "outputs": [
    {
     "data": {
      "text/plain": [
       "0.09310898029039405"
      ]
     },
     "execution_count": 34,
     "metadata": {},
     "output_type": "execute_result"
    }
   ],
   "source": [
    "game_data_query['user_score'].corr(game_data_query['total_sales'])"
   ]
  },
  {
   "cell_type": "code",
   "execution_count": 35,
   "metadata": {},
   "outputs": [
    {
     "data": {
      "text/plain": [
       "0.3136995151027369"
      ]
     },
     "execution_count": 35,
     "metadata": {},
     "output_type": "execute_result"
    }
   ],
   "source": [
    "game_data_query['critic_score'].corr(game_data_query['total_sales'])"
   ]
  },
  {
   "cell_type": "markdown",
   "metadata": {},
   "source": [
    "Вывод: Значительный вес в продажи вносит мнение критиков. Корреляция имеет положителный знак.\n",
    "\n",
    "Как показывает анализ пользователей платформы PS4, рейтинг пользователь в меньшей степени влияет на объем продаж."
   ]
  },
  {
   "cell_type": "markdown",
   "metadata": {},
   "source": [
    "## Портрет клиента по регионам"
   ]
  },
  {
   "cell_type": "markdown",
   "metadata": {},
   "source": [
    "### Самые популярные платформы"
   ]
  },
  {
   "cell_type": "code",
   "execution_count": 36,
   "metadata": {},
   "outputs": [],
   "source": [
    "rating_pivot_table = game_data_query.pivot_table(index = 'platform', values = ['na_sales','jp_sales','eu_sales'], aggfunc = ['sum'])"
   ]
  },
  {
   "cell_type": "code",
   "execution_count": 37,
   "metadata": {},
   "outputs": [],
   "source": [
    "rating_pivot_table.columns = ['na_sales','jp_sales','eu_sales']"
   ]
  },
  {
   "cell_type": "code",
   "execution_count": 38,
   "metadata": {},
   "outputs": [],
   "source": [
    "top5_eu = rating_pivot_table.sort_values(by = 'eu_sales', ascending = False).index[:5]\n",
    "top5_jp = rating_pivot_table.sort_values(by = 'jp_sales', ascending = False).index[:5]\n",
    "top5_na = rating_pivot_table.sort_values(by = 'na_sales', ascending = False).index[:5]"
   ]
  },
  {
   "cell_type": "code",
   "execution_count": 39,
   "metadata": {},
   "outputs": [
    {
     "name": "stdout",
     "output_type": "stream",
     "text": [
      "Топ платформ для европейского региона: PS4 XOne X360 PS3 3DS\n",
      "\n",
      "Рассмотрим подробнее следующую платформу:  PS4\n",
      "Доля продаж 0.2772352956173676\n",
      "\n",
      "Рассмотрим подробнее следующую платформу:  XOne\n",
      "Доля продаж 0.237411722713714\n",
      "\n",
      "Рассмотрим подробнее следующую платформу:  X360\n",
      "Доля продаж 0.20819417178696176\n",
      "\n",
      "Рассмотрим подробнее следующую платформу:  PS3\n",
      "Доля продаж 0.16189480661856576\n",
      "\n",
      "Рассмотрим подробнее следующую платформу:  3DS\n",
      "Доля продаж 0.09739183642250716\n",
      "\n",
      "Топ платформ для японского региона: 3DS PS3 PSV PS4 WiiU\n",
      "\n",
      "Рассмотрим подробнее следующую платформу:  3DS\n",
      "Доля продаж 0.4816735331723258\n",
      "\n",
      "Рассмотрим подробнее следующую платформу:  PS3\n",
      "Доля продаж 0.16586162807216942\n",
      "\n",
      "Рассмотрим подробнее следующую платформу:  PSV\n",
      "Доля продаж 0.13205000710328227\n",
      "\n",
      "Рассмотрим подробнее следующую платформу:  PS4\n",
      "Доля продаж 0.11336837618979946\n",
      "\n",
      "Рассмотрим подробнее следующую платформу:  WiiU\n",
      "Доля продаж 0.07728370507174308\n",
      "\n",
      "Топ платформ для северо-американского региона: PS4 PS3 XOne X360 3DS\n",
      "\n",
      "Рассмотрим подробнее следующую платформу:  PS4\n",
      "Доля продаж 0.3223367069520923\n",
      "\n",
      "Рассмотрим подробнее следующую платформу:  PS3\n",
      "Доля продаж 0.15491992415069358\n",
      "\n",
      "Рассмотрим подробнее следующую платформу:  XOne\n",
      "Доля продаж 0.11786342555573326\n",
      "\n",
      "Рассмотрим подробнее следующую платформу:  X360\n",
      "Доля продаж 0.09714194329578944\n",
      "\n",
      "Рассмотрим подробнее следующую платформу:  3DS\n",
      "Доля продаж 0.07073176303945541\n",
      "\n"
     ]
    }
   ],
   "source": [
    "list_of_top = [top5_eu,top5_jp,top5_na]\n",
    "for count,top in enumerate(list_of_top):\n",
    "    if count == 0: \n",
    "        print('Топ платформ для европейского региона:',*top)\n",
    "    elif count == 1:\n",
    "        print('Топ платформ для японского региона:',*top)\n",
    "    elif count == 2:\n",
    "        print('Топ платформ для северо-американского региона:',*top)\n",
    "    print()\n",
    "    for platform in top:\n",
    "        data = rating_pivot_table.loc[platform,['na_sales','jp_sales','eu_sales']]\n",
    "        if count == 0: \n",
    "            part = data['eu_sales']\n",
    "            sum_r = game_data_query['eu_sales'].sum()\n",
    "        elif count == 1:\n",
    "            part = data['jp_sales']\n",
    "            sum_r = game_data_query['jp_sales'].sum()\n",
    "        elif count == 2:\n",
    "            part = data['na_sales']\n",
    "            sum_r = game_data_query['na_sales'].sum()\n",
    "        ratio = part / sum_r\n",
    "        print('Рассмотрим подробнее следующую платформу: ',platform)\n",
    "        print('Доля продаж',ratio)\n",
    "        print()"
   ]
  },
  {
   "cell_type": "markdown",
   "metadata": {},
   "source": [
    "На европейском и американском рынке в топ 5 находятся одинаковые платформы, на японском рынке место платформы XOne X360\n",
    "появляются другие платформы WiiU и PSV. "
   ]
  },
  {
   "cell_type": "markdown",
   "metadata": {},
   "source": [
    "### Самый популярный жанр"
   ]
  },
  {
   "cell_type": "code",
   "execution_count": 40,
   "metadata": {},
   "outputs": [],
   "source": [
    "top_genre_pivot_table = game_data_query.pivot_table(index = ['genre'], values = ['na_sales','jp_sales','eu_sales'], aggfunc = ['sum'])"
   ]
  },
  {
   "cell_type": "code",
   "execution_count": 41,
   "metadata": {},
   "outputs": [],
   "source": [
    "top_genre_pivot_table.columns = ['na_sales','jp_sales','eu_sales']"
   ]
  },
  {
   "cell_type": "code",
   "execution_count": 42,
   "metadata": {},
   "outputs": [],
   "source": [
    "top5_genres_eu = top_genre_pivot_table.sort_values(by = 'eu_sales', ascending = False).index[:5]\n",
    "top5_genres_jp = top_genre_pivot_table.sort_values(by = 'jp_sales', ascending = False).index[:5]\n",
    "top5_genres_na = top_genre_pivot_table.sort_values(by = 'na_sales', ascending = False).index[:5]"
   ]
  },
  {
   "cell_type": "code",
   "execution_count": 43,
   "metadata": {
    "scrolled": false
   },
   "outputs": [
    {
     "data": {
      "text/plain": [
       "'Топ 5 самых популярных жанров в европейском регионе:'"
      ]
     },
     "metadata": {},
     "output_type": "display_data"
    },
    {
     "data": {
      "text/plain": [
       "'Action'"
      ]
     },
     "metadata": {},
     "output_type": "display_data"
    },
    {
     "data": {
      "text/plain": [
       "'Shooter'"
      ]
     },
     "metadata": {},
     "output_type": "display_data"
    },
    {
     "data": {
      "text/plain": [
       "'Sports'"
      ]
     },
     "metadata": {},
     "output_type": "display_data"
    },
    {
     "data": {
      "text/plain": [
       "'Role-Playing'"
      ]
     },
     "metadata": {},
     "output_type": "display_data"
    },
    {
     "data": {
      "text/plain": [
       "'Misc'"
      ]
     },
     "metadata": {},
     "output_type": "display_data"
    },
    {
     "data": {
      "text/plain": [
       "'Топ 5 самых популярных жанров в японском регионе:'"
      ]
     },
     "metadata": {},
     "output_type": "display_data"
    },
    {
     "data": {
      "text/plain": [
       "'Role-Playing'"
      ]
     },
     "metadata": {},
     "output_type": "display_data"
    },
    {
     "data": {
      "text/plain": [
       "'Action'"
      ]
     },
     "metadata": {},
     "output_type": "display_data"
    },
    {
     "data": {
      "text/plain": [
       "'Misc'"
      ]
     },
     "metadata": {},
     "output_type": "display_data"
    },
    {
     "data": {
      "text/plain": [
       "'Fighting'"
      ]
     },
     "metadata": {},
     "output_type": "display_data"
    },
    {
     "data": {
      "text/plain": [
       "'Shooter'"
      ]
     },
     "metadata": {},
     "output_type": "display_data"
    },
    {
     "data": {
      "text/plain": [
       "'Топ 5 самых популярных жанров в северо авереканском регионе:'"
      ]
     },
     "metadata": {},
     "output_type": "display_data"
    },
    {
     "data": {
      "text/plain": [
       "'Action'"
      ]
     },
     "metadata": {},
     "output_type": "display_data"
    },
    {
     "data": {
      "text/plain": [
       "'Shooter'"
      ]
     },
     "metadata": {},
     "output_type": "display_data"
    },
    {
     "data": {
      "text/plain": [
       "'Sports'"
      ]
     },
     "metadata": {},
     "output_type": "display_data"
    },
    {
     "data": {
      "text/plain": [
       "'Role-Playing'"
      ]
     },
     "metadata": {},
     "output_type": "display_data"
    },
    {
     "data": {
      "text/plain": [
       "'Racing'"
      ]
     },
     "metadata": {},
     "output_type": "display_data"
    }
   ],
   "source": [
    "display('Топ 5 самых популярных жанров в европейском регионе:',*top5_genres_eu)\n",
    "display('Топ 5 самых популярных жанров в японском регионе:',*top5_genres_jp)\n",
    "display('Топ 5 самых популярных жанров в северо авереканском регионе:',*top5_genres_na)"
   ]
  },
  {
   "cell_type": "markdown",
   "metadata": {},
   "source": [
    "Европейские игроки очень похожи по выбору жанра на северо-американских игроков. Единственное различие, европейские игроки больше предпочитают жанр 'Misc чем 'Racing'.\n",
    "Японские игроки немного отличаются от рассматриваемых регионов и на первое место поставили жанр 'Role-Playing'. В Европе и Америке на первое место поставили жанр 'Action'"
   ]
  },
  {
   "cell_type": "markdown",
   "metadata": {},
   "source": [
    "### Влияние рейтинга  ESRB на продажи игр"
   ]
  },
  {
   "cell_type": "code",
   "execution_count": 44,
   "metadata": {},
   "outputs": [],
   "source": [
    "esrb_pivot_table = game_data_query.pivot_table(index = ['rating'], values = ['na_sales','jp_sales','eu_sales'], aggfunc = ['sum'])"
   ]
  },
  {
   "cell_type": "code",
   "execution_count": 45,
   "metadata": {},
   "outputs": [],
   "source": [
    "esrb_pivot_table.columns = ['eu_sales','jp_sales','na_sales']"
   ]
  },
  {
   "cell_type": "code",
   "execution_count": 46,
   "metadata": {},
   "outputs": [
    {
     "data": {
      "text/html": [
       "<div>\n",
       "<style scoped>\n",
       "    .dataframe tbody tr th:only-of-type {\n",
       "        vertical-align: middle;\n",
       "    }\n",
       "\n",
       "    .dataframe tbody tr th {\n",
       "        vertical-align: top;\n",
       "    }\n",
       "\n",
       "    .dataframe thead th {\n",
       "        text-align: right;\n",
       "    }\n",
       "</style>\n",
       "<table border=\"1\" class=\"dataframe\">\n",
       "  <thead>\n",
       "    <tr style=\"text-align: right;\">\n",
       "      <th></th>\n",
       "      <th>eu_sales</th>\n",
       "      <th>jp_sales</th>\n",
       "      <th>na_sales</th>\n",
       "    </tr>\n",
       "    <tr>\n",
       "      <th>rating</th>\n",
       "      <th></th>\n",
       "      <th></th>\n",
       "      <th></th>\n",
       "    </tr>\n",
       "  </thead>\n",
       "  <tbody>\n",
       "    <tr>\n",
       "      <td>0+</td>\n",
       "      <td>78.91</td>\n",
       "      <td>85.05</td>\n",
       "      <td>89.42</td>\n",
       "    </tr>\n",
       "    <tr>\n",
       "      <td>E</td>\n",
       "      <td>83.36</td>\n",
       "      <td>15.14</td>\n",
       "      <td>79.05</td>\n",
       "    </tr>\n",
       "    <tr>\n",
       "      <td>E10+</td>\n",
       "      <td>42.69</td>\n",
       "      <td>5.89</td>\n",
       "      <td>54.24</td>\n",
       "    </tr>\n",
       "    <tr>\n",
       "      <td>M</td>\n",
       "      <td>145.32</td>\n",
       "      <td>14.11</td>\n",
       "      <td>165.21</td>\n",
       "    </tr>\n",
       "    <tr>\n",
       "      <td>T</td>\n",
       "      <td>41.95</td>\n",
       "      <td>20.59</td>\n",
       "      <td>49.79</td>\n",
       "    </tr>\n",
       "  </tbody>\n",
       "</table>\n",
       "</div>"
      ],
      "text/plain": [
       "        eu_sales  jp_sales  na_sales\n",
       "rating                              \n",
       "0+         78.91     85.05     89.42\n",
       "E          83.36     15.14     79.05\n",
       "E10+       42.69      5.89     54.24\n",
       "M         145.32     14.11    165.21\n",
       "T          41.95     20.59     49.79"
      ]
     },
     "execution_count": 46,
     "metadata": {},
     "output_type": "execute_result"
    }
   ],
   "source": [
    "esrb_pivot_table"
   ]
  },
  {
   "cell_type": "markdown",
   "metadata": {},
   "source": [
    "Да, рейтинг ESRB влияет на продажи в регионе, рейтинг в Европе и Америке влияет одинаково на продажи, наибольшие продажи с рейтингом M.\n",
    "В Японии несколько иначе распределен рейтинг по продажам. Здесь первое место занимает рейтинг 0+"
   ]
  },
  {
   "cell_type": "markdown",
   "metadata": {},
   "source": [
    "## Проверка гипотез\n",
    "### Гипотеза №1\n",
    "\n",
    "Нулевая гипотеза: Средние пользовательские рейтинги платформ Xbox One и PC одинаковые\n",
    "\n",
    "Альтернативная гипотеза : Средние пользовательские рейтинги платформ Xbox One и PC отличаются"
   ]
  },
  {
   "cell_type": "code",
   "execution_count": 47,
   "metadata": {},
   "outputs": [
    {
     "data": {
      "text/plain": [
       "'p-значение:'"
      ]
     },
     "metadata": {},
     "output_type": "display_data"
    },
    {
     "data": {
      "text/plain": [
       "0.14012658403611647"
      ]
     },
     "metadata": {},
     "output_type": "display_data"
    },
    {
     "name": "stdout",
     "output_type": "stream",
     "text": [
      "Не получилось отвергнуть нулевую гипотезу\n"
     ]
    }
   ],
   "source": [
    "alpha = 0.05\n",
    "xone_var = game_data_query.query('platform == \"XOne\" & user_score > 0')['user_score']\n",
    "pc_var = game_data_query.query('platform == \"PC\" & user_score > 0')['user_score']\n",
    "\n",
    "results = st.ttest_ind(xone_var,pc_var)\n",
    "\n",
    "display('p-значение:', results.pvalue)\n",
    "\n",
    "if results.pvalue < alpha:\n",
    "    print(\"Отвергаем нулевую гипотезу\")\n",
    "else:\n",
    "    print(\"Не получилось отвергнуть нулевую гипотезу\")"
   ]
  },
  {
   "cell_type": "code",
   "execution_count": 48,
   "metadata": {},
   "outputs": [
    {
     "data": {
      "text/plain": [
       "(6.8, 6.8)"
      ]
     },
     "execution_count": 48,
     "metadata": {},
     "output_type": "execute_result"
    }
   ],
   "source": [
    "xone_var.median(), pc_var.median()"
   ]
  },
  {
   "cell_type": "markdown",
   "metadata": {},
   "source": [
    "Вывод: в ходе тестирование нулевой гипотезы ее не удалось отвергуть. Так же, медианные значения двух платформ одинаковые, поэтому можно утверждать, что пользовательские рейтинги платформ Xbox One и PC одинаковые"
   ]
  },
  {
   "cell_type": "markdown",
   "metadata": {},
   "source": [
    "\n",
    "### Гипотеза №2\n",
    "\n",
    "Нулевая гипотеза: Средние пользовательские рейтинги жанров Action  и Sports одинаковые\n",
    "\n",
    "Альтернативна гипотеза: Средние пользовательские рейтинги жанров Action и Sports разные."
   ]
  },
  {
   "cell_type": "code",
   "execution_count": 49,
   "metadata": {},
   "outputs": [
    {
     "data": {
      "text/plain": [
       "'p-значение:'"
      ]
     },
     "metadata": {},
     "output_type": "display_data"
    },
    {
     "data": {
      "text/plain": [
       "1.0517832389140023e-27"
      ]
     },
     "metadata": {},
     "output_type": "display_data"
    },
    {
     "name": "stdout",
     "output_type": "stream",
     "text": [
      "Отвергаем нулевую гипотезу\n"
     ]
    }
   ],
   "source": [
    "action_var = game_data_query.query('genre == \"Action\" & user_score > 0')['user_score']\n",
    "sports_var = game_data_query.query('genre == \"Sports\" & user_score > 0')['user_score']\n",
    "\n",
    "results_2 = st.ttest_ind(action_var,sports_var)\n",
    "\n",
    "display('p-значение:', results_2.pvalue)\n",
    "\n",
    "if results_2.pvalue < alpha:\n",
    "    print(\"Отвергаем нулевую гипотезу\")\n",
    "else:\n",
    "    print(\"Не получилось отвергнуть нулевую гипотезу\")"
   ]
  },
  {
   "cell_type": "code",
   "execution_count": 50,
   "metadata": {},
   "outputs": [
    {
     "data": {
      "text/plain": [
       "(7.1, 5.5)"
      ]
     },
     "execution_count": 50,
     "metadata": {},
     "output_type": "execute_result"
    }
   ],
   "source": [
    "action_var.median(),sports_var.median()"
   ]
  },
  {
   "cell_type": "markdown",
   "metadata": {},
   "source": [
    "Вывод: в ходе тестирование нулевой гипотезы ее удалось отвергуть. Так же, медианные значения двух платформ отличаются, поэтому можно утверждать, что пользовательские рейтинги жанров Action и Sports отличаются"
   ]
  },
  {
   "cell_type": "markdown",
   "metadata": {},
   "source": [
    "## Вывод\n"
   ]
  },
  {
   "cell_type": "markdown",
   "metadata": {},
   "source": [
    "1. Если говорить о преобразовании и отчистке данных, то на вход к нам поступили относительно хорошие данные. Не пришлось делать\n",
    "множество манипуляций по преобразованию. \n",
    "- Были заменены наименования столбцов на строчные\n",
    "- Удалены строки, где не было названий игр\n",
    "- Преобразован столбец с датой выхода игры\n",
    "\n",
    "Удаление и замену пропусков в столбцах с рейтингом критиков и пользователей оставил без изменений. Преобразовал в тип float, чтобы была возможность проводить мат. операции со значениями. Далее, в ходе работы, делал срезы данных, в которых выводил рейтинг > 0\n",
    "\n",
    "2. Для прогнозирование продаж на 2017 год был найден актуальный временной период (с 2013 по 2016 год). В этот период не наблюдалось появление новых платформ и ухода с рынка старых.\n",
    "3. Было вывлено значительное снижение количество продаж по всем платформам, пик продаж был достигнут в период с 2008 по 2009 год. Сейчас до сих пор продолжается спад продаж. Единственный пик продаж был в момент выхода новой пдатформы PS4.\n",
    "4. Жизненный цикл платформ примерно одинаковый 8 - 11 лет.\n",
    "5. Активное появление платформ началось с 2004 года по 2008 год.\n",
    "6. В период с 2013 года появилась новая платформа PS4 по ней до 2015 года был активный рост продаж, но к 2016 году, как и у всех платформ замечен спад.\n",
    "7. Наиболее прибыльными с точки зрения продаж являются платформы PS4, XOne, 3DS. Так как они находятся на среднем этапе своего жизненого цикла и согласно полученным данным, еще буду находиться на пике своей популярности достаточное количество времени (от 2-ух до 5 лет)\n",
    "8. Самым популярным жанром является экшн. Однако игр, выпущенных в жанре шутер меньше в 4 раза, но одна игра в среднем приносит намного больше выручки. Это можно понять по среднему и медианному значению. Так же не уступает по объему продаж, среднему и медианному значению - это жанр спорт.\n",
    "\n",
    "Если рассматривать дальнейшую разработку игр, более выгодно вкладываться в игровые жанры шутер и спорт (но необходимо учитывать себестоимость разработки в каждом их жанров, поэтому это поверхностный вывод, который требует более детального анализа)\n",
    "\n",
    "# ПОРТРЕТ КЛИЕНТА\n",
    "- Топ платформ для европейского региона: PS4 XOne X360 PS3 3DS\n",
    "- Топ платформ для японского региона: 3DS PS3 PSV PS4 WiiU\n",
    "- Топ платформ для северо-американского региона: PS4 PS3 XOne X360 3DS\n",
    "\n",
    "    На европейском и американском рынке в топ 5 находятся одинаковые платформы, на японском рынке вместо платформ XOne X360\n",
    "появляются другие платформы WiiU и PSV. \n",
    "Преобладающее большиство продаж находится на европейском рынке\n",
    "\n",
    "    Европейские игроки очень похожи по выбору жанра на северо-американских игроков. Единственное различие, европейские игроки больше предпочитают жанр 'Misc чем 'Racing'.\n",
    "Японские игроки немного отличаются от рассматриваемых регионов и на первое место поставили жанр 'Role-Playing'. В Европе и Америке на первое место поставили жанр 'Action'\n",
    "\n",
    "# Подтвержденные гипотезы:\n",
    "\n",
    "1. Пользовательские рейтинги платформ Xbox One и PC одинаковые\n",
    "2. Пользовательские рейтинги жанров Action и Sports отличаются"
   ]
  }
 ],
 "metadata": {
  "ExecuteTimeLog": [
   {
    "duration": 757,
    "start_time": "2021-08-16T12:52:49.107Z"
   },
   {
    "duration": 16,
    "start_time": "2021-08-16T12:53:04.724Z"
   },
   {
    "duration": 22,
    "start_time": "2021-08-16T13:13:02.736Z"
   },
   {
    "duration": 18,
    "start_time": "2021-08-16T13:13:38.130Z"
   },
   {
    "duration": 13,
    "start_time": "2021-08-16T13:13:49.124Z"
   },
   {
    "duration": 24,
    "start_time": "2021-08-16T13:17:28.756Z"
   },
   {
    "duration": 21,
    "start_time": "2021-08-16T13:18:10.212Z"
   },
   {
    "duration": 23,
    "start_time": "2021-08-16T13:18:21.355Z"
   },
   {
    "duration": 22,
    "start_time": "2021-08-16T13:18:31.886Z"
   },
   {
    "duration": 5,
    "start_time": "2021-08-16T13:19:42.252Z"
   },
   {
    "duration": 13,
    "start_time": "2021-08-16T13:20:43.084Z"
   },
   {
    "duration": 28,
    "start_time": "2021-08-16T13:21:08.836Z"
   },
   {
    "duration": 653,
    "start_time": "2021-08-16T13:39:49.610Z"
   },
   {
    "duration": 28,
    "start_time": "2021-08-16T13:39:53.340Z"
   },
   {
    "duration": 25,
    "start_time": "2021-08-16T13:40:05.652Z"
   },
   {
    "duration": 14,
    "start_time": "2021-08-16T13:40:12.939Z"
   },
   {
    "duration": 12,
    "start_time": "2021-08-16T13:40:14.195Z"
   },
   {
    "duration": 23,
    "start_time": "2021-08-16T13:40:14.866Z"
   },
   {
    "duration": 6,
    "start_time": "2021-08-16T13:40:15.627Z"
   },
   {
    "duration": 4,
    "start_time": "2021-08-16T13:53:26.147Z"
   },
   {
    "duration": 6,
    "start_time": "2021-08-16T13:53:31.387Z"
   },
   {
    "duration": 5,
    "start_time": "2021-08-16T13:54:38.489Z"
   },
   {
    "duration": 6,
    "start_time": "2021-08-16T13:54:39.123Z"
   },
   {
    "duration": 18,
    "start_time": "2021-08-16T13:57:50.440Z"
   },
   {
    "duration": 18,
    "start_time": "2021-08-16T13:57:56.297Z"
   },
   {
    "duration": 24,
    "start_time": "2021-08-16T13:58:03.316Z"
   },
   {
    "duration": 1372,
    "start_time": "2021-08-17T11:09:46.932Z"
   },
   {
    "duration": 27,
    "start_time": "2021-08-17T11:09:48.307Z"
   },
   {
    "duration": 14,
    "start_time": "2021-08-17T11:09:50.767Z"
   },
   {
    "duration": 17,
    "start_time": "2021-08-17T11:09:51.717Z"
   },
   {
    "duration": 24,
    "start_time": "2021-08-17T11:09:52.383Z"
   },
   {
    "duration": 6,
    "start_time": "2021-08-17T11:09:53.247Z"
   },
   {
    "duration": 4,
    "start_time": "2021-08-17T11:09:54.862Z"
   },
   {
    "duration": 17,
    "start_time": "2021-08-17T11:09:55.566Z"
   },
   {
    "duration": 493,
    "start_time": "2021-08-17T11:09:57.239Z"
   },
   {
    "duration": 8,
    "start_time": "2021-08-17T11:25:48.304Z"
   },
   {
    "duration": 14,
    "start_time": "2021-08-17T11:25:59.286Z"
   },
   {
    "duration": 6,
    "start_time": "2021-08-17T11:26:23.302Z"
   },
   {
    "duration": 14,
    "start_time": "2021-08-17T11:26:27.711Z"
   },
   {
    "duration": 47,
    "start_time": "2021-08-17T11:27:24.895Z"
   },
   {
    "duration": 24,
    "start_time": "2021-08-17T11:27:27.925Z"
   },
   {
    "duration": 19,
    "start_time": "2021-08-17T11:27:31.175Z"
   },
   {
    "duration": 15,
    "start_time": "2021-08-17T11:27:33.886Z"
   },
   {
    "duration": 25,
    "start_time": "2021-08-17T11:27:36.623Z"
   },
   {
    "duration": 6,
    "start_time": "2021-08-17T11:27:39.447Z"
   },
   {
    "duration": 5,
    "start_time": "2021-08-17T11:27:42.190Z"
   },
   {
    "duration": 17,
    "start_time": "2021-08-17T11:27:42.806Z"
   },
   {
    "duration": 13,
    "start_time": "2021-08-17T11:27:49.219Z"
   },
   {
    "duration": 264,
    "start_time": "2021-08-17T11:35:27.446Z"
   },
   {
    "duration": 6,
    "start_time": "2021-08-17T11:35:36.736Z"
   },
   {
    "duration": 19,
    "start_time": "2021-08-17T11:35:39.782Z"
   },
   {
    "duration": 335,
    "start_time": "2021-08-17T11:45:05.705Z"
   },
   {
    "duration": 568,
    "start_time": "2021-08-17T11:45:20.392Z"
   },
   {
    "duration": 547,
    "start_time": "2021-08-17T11:45:55.584Z"
   },
   {
    "duration": 300,
    "start_time": "2021-08-17T11:46:20.960Z"
   },
   {
    "duration": 328,
    "start_time": "2021-08-17T11:46:58.208Z"
   },
   {
    "duration": 323,
    "start_time": "2021-08-17T11:47:26.320Z"
   },
   {
    "duration": 366,
    "start_time": "2021-08-17T11:47:39.808Z"
   },
   {
    "duration": 4,
    "start_time": "2021-08-17T12:05:22.021Z"
   },
   {
    "duration": 398,
    "start_time": "2021-08-17T12:05:56.449Z"
   },
   {
    "duration": 15,
    "start_time": "2021-08-17T12:06:49.210Z"
   },
   {
    "duration": 1534,
    "start_time": "2021-08-18T02:49:20.445Z"
   },
   {
    "duration": 29,
    "start_time": "2021-08-18T02:49:21.981Z"
   },
   {
    "duration": 14,
    "start_time": "2021-08-18T02:49:22.443Z"
   },
   {
    "duration": 18,
    "start_time": "2021-08-18T02:49:23.548Z"
   },
   {
    "duration": 37,
    "start_time": "2021-08-18T02:49:24.428Z"
   },
   {
    "duration": 7,
    "start_time": "2021-08-18T02:49:25.316Z"
   },
   {
    "duration": 5,
    "start_time": "2021-08-18T02:49:27.531Z"
   },
   {
    "duration": 18,
    "start_time": "2021-08-18T02:49:28.187Z"
   },
   {
    "duration": 7,
    "start_time": "2021-08-18T02:49:32.131Z"
   },
   {
    "duration": 405,
    "start_time": "2021-08-18T02:49:33.243Z"
   },
   {
    "duration": 12,
    "start_time": "2021-08-18T02:49:55.989Z"
   },
   {
    "duration": 10,
    "start_time": "2021-08-18T03:16:01.569Z"
   },
   {
    "duration": 10,
    "start_time": "2021-08-18T03:21:36.974Z"
   },
   {
    "duration": 51,
    "start_time": "2021-08-18T03:23:27.926Z"
   },
   {
    "duration": 4,
    "start_time": "2021-08-18T03:23:40.910Z"
   },
   {
    "duration": 7,
    "start_time": "2021-08-18T03:23:45.669Z"
   },
   {
    "duration": 11,
    "start_time": "2021-08-18T03:23:47.325Z"
   },
   {
    "duration": 11,
    "start_time": "2021-08-18T03:23:48.653Z"
   },
   {
    "duration": 289,
    "start_time": "2021-08-18T03:26:30.838Z"
   },
   {
    "duration": 8,
    "start_time": "2021-08-18T03:26:44.765Z"
   },
   {
    "duration": 9,
    "start_time": "2021-08-18T03:26:46.868Z"
   },
   {
    "duration": 52,
    "start_time": "2021-08-18T03:29:32.420Z"
   },
   {
    "duration": 6,
    "start_time": "2021-08-18T03:29:40.700Z"
   },
   {
    "duration": 4,
    "start_time": "2021-08-18T03:29:43.468Z"
   },
   {
    "duration": 6,
    "start_time": "2021-08-18T03:29:46.659Z"
   },
   {
    "duration": 11,
    "start_time": "2021-08-18T03:29:47.844Z"
   },
   {
    "duration": 11,
    "start_time": "2021-08-18T03:29:48.749Z"
   },
   {
    "duration": 267,
    "start_time": "2021-08-18T03:29:54.548Z"
   },
   {
    "duration": 311,
    "start_time": "2021-08-18T03:30:33.508Z"
   },
   {
    "duration": 272,
    "start_time": "2021-08-18T03:31:15.605Z"
   },
   {
    "duration": 10,
    "start_time": "2021-08-18T03:31:27.644Z"
   },
   {
    "duration": 343,
    "start_time": "2021-08-18T03:34:46.812Z"
   },
   {
    "duration": 291,
    "start_time": "2021-08-18T03:35:17.731Z"
   },
   {
    "duration": 703,
    "start_time": "2021-08-18T03:35:28.035Z"
   },
   {
    "duration": 290,
    "start_time": "2021-08-18T03:35:50.540Z"
   },
   {
    "duration": 6,
    "start_time": "2021-08-18T03:36:54.828Z"
   },
   {
    "duration": 11,
    "start_time": "2021-08-18T03:36:56.746Z"
   },
   {
    "duration": 1053,
    "start_time": "2021-08-18T03:38:58.469Z"
   },
   {
    "duration": 7,
    "start_time": "2021-08-18T03:39:35.443Z"
   },
   {
    "duration": 14,
    "start_time": "2021-08-18T03:40:07.538Z"
   },
   {
    "duration": 7,
    "start_time": "2021-08-18T03:40:56.746Z"
   },
   {
    "duration": 254,
    "start_time": "2021-08-18T03:41:06.593Z"
   },
   {
    "duration": 14,
    "start_time": "2021-08-18T03:41:10.714Z"
   },
   {
    "duration": 9,
    "start_time": "2021-08-18T03:48:45.474Z"
   },
   {
    "duration": 48,
    "start_time": "2021-08-18T03:48:55.288Z"
   },
   {
    "duration": 4,
    "start_time": "2021-08-18T03:49:02.704Z"
   },
   {
    "duration": 6,
    "start_time": "2021-08-18T03:49:05.825Z"
   },
   {
    "duration": 11,
    "start_time": "2021-08-18T03:49:06.793Z"
   },
   {
    "duration": 10,
    "start_time": "2021-08-18T03:49:08.976Z"
   },
   {
    "duration": 8,
    "start_time": "2021-08-18T03:49:13.192Z"
   },
   {
    "duration": 13,
    "start_time": "2021-08-18T03:50:46.776Z"
   },
   {
    "duration": 4170,
    "start_time": "2021-08-18T03:54:38.327Z"
   },
   {
    "duration": 773,
    "start_time": "2021-08-18T03:55:09.063Z"
   },
   {
    "duration": 455,
    "start_time": "2021-08-18T03:55:14.543Z"
   },
   {
    "duration": 265,
    "start_time": "2021-08-18T03:55:37.322Z"
   },
   {
    "duration": 302,
    "start_time": "2021-08-18T03:56:23.399Z"
   },
   {
    "duration": 3976,
    "start_time": "2021-08-18T03:56:35.327Z"
   },
   {
    "duration": 1784,
    "start_time": "2021-08-18T03:57:07.166Z"
   },
   {
    "duration": 774,
    "start_time": "2021-08-18T03:57:29.511Z"
   },
   {
    "duration": 3557,
    "start_time": "2021-08-18T03:57:41.311Z"
   },
   {
    "duration": 3610,
    "start_time": "2021-08-18T03:58:07.399Z"
   },
   {
    "duration": 3540,
    "start_time": "2021-08-18T03:58:43.822Z"
   },
   {
    "duration": 51,
    "start_time": "2021-08-18T11:52:15.207Z"
   },
   {
    "duration": 26,
    "start_time": "2021-08-18T11:52:18.063Z"
   },
   {
    "duration": 4,
    "start_time": "2021-08-18T11:52:25.605Z"
   },
   {
    "duration": 17,
    "start_time": "2021-08-18T11:52:27.389Z"
   },
   {
    "duration": 15,
    "start_time": "2021-08-18T11:52:32.013Z"
   },
   {
    "duration": 15,
    "start_time": "2021-08-18T11:52:33.767Z"
   },
   {
    "duration": 5214,
    "start_time": "2021-08-18T11:53:15.080Z"
   },
   {
    "duration": 15,
    "start_time": "2021-08-18T11:53:26.825Z"
   },
   {
    "duration": 7,
    "start_time": "2021-08-18T12:00:17.482Z"
   },
   {
    "duration": 16,
    "start_time": "2021-08-18T12:00:17.843Z"
   },
   {
    "duration": 7,
    "start_time": "2021-08-18T12:00:33.052Z"
   },
   {
    "duration": 16,
    "start_time": "2021-08-18T12:00:34.302Z"
   },
   {
    "duration": 6,
    "start_time": "2021-08-18T12:03:51.397Z"
   },
   {
    "duration": 21,
    "start_time": "2021-08-18T12:04:03.791Z"
   },
   {
    "duration": 6,
    "start_time": "2021-08-18T12:04:36.572Z"
   },
   {
    "duration": 21,
    "start_time": "2021-08-18T12:04:37.387Z"
   },
   {
    "duration": 5,
    "start_time": "2021-08-18T12:04:54.693Z"
   },
   {
    "duration": 11,
    "start_time": "2021-08-18T12:04:56.806Z"
   },
   {
    "duration": 6,
    "start_time": "2021-08-18T12:05:05.388Z"
   },
   {
    "duration": 21,
    "start_time": "2021-08-18T12:05:05.773Z"
   },
   {
    "duration": 14,
    "start_time": "2021-08-18T12:08:37.534Z"
   },
   {
    "duration": 304,
    "start_time": "2021-08-18T12:29:39.129Z"
   },
   {
    "duration": 721,
    "start_time": "2021-08-18T12:29:53.138Z"
   },
   {
    "duration": 527,
    "start_time": "2021-08-18T12:30:34.286Z"
   },
   {
    "duration": 701,
    "start_time": "2021-08-18T12:32:15.118Z"
   },
   {
    "duration": 712,
    "start_time": "2021-08-18T12:35:07.312Z"
   },
   {
    "duration": 7355,
    "start_time": "2021-08-18T12:38:30.445Z"
   },
   {
    "duration": 46,
    "start_time": "2021-08-18T12:39:35.486Z"
   },
   {
    "duration": 32,
    "start_time": "2021-08-18T12:39:38.147Z"
   },
   {
    "duration": 16,
    "start_time": "2021-08-18T12:39:41.205Z"
   },
   {
    "duration": 14,
    "start_time": "2021-08-18T12:39:43.606Z"
   },
   {
    "duration": 32,
    "start_time": "2021-08-18T12:39:44.541Z"
   },
   {
    "duration": 5,
    "start_time": "2021-08-18T12:39:45.181Z"
   },
   {
    "duration": 5,
    "start_time": "2021-08-18T12:39:50.804Z"
   },
   {
    "duration": 18,
    "start_time": "2021-08-18T12:39:51.284Z"
   },
   {
    "duration": 6,
    "start_time": "2021-08-18T12:39:51.972Z"
   },
   {
    "duration": 12,
    "start_time": "2021-08-18T12:39:52.598Z"
   },
   {
    "duration": 11,
    "start_time": "2021-08-18T12:39:54.693Z"
   },
   {
    "duration": 3244,
    "start_time": "2021-08-18T12:39:56.548Z"
   },
   {
    "duration": 8,
    "start_time": "2021-08-18T12:40:02.765Z"
   },
   {
    "duration": 12,
    "start_time": "2021-08-18T12:40:03.125Z"
   },
   {
    "duration": 7,
    "start_time": "2021-08-18T12:40:06.132Z"
   },
   {
    "duration": 14,
    "start_time": "2021-08-18T12:40:06.437Z"
   },
   {
    "duration": 6,
    "start_time": "2021-08-18T12:40:10.109Z"
   },
   {
    "duration": 22,
    "start_time": "2021-08-18T12:40:10.367Z"
   },
   {
    "duration": 7160,
    "start_time": "2021-08-18T12:40:49.685Z"
   },
   {
    "duration": 7969,
    "start_time": "2021-08-18T12:46:29.630Z"
   },
   {
    "duration": 7290,
    "start_time": "2021-08-18T12:47:50.837Z"
   },
   {
    "duration": 1113,
    "start_time": "2021-08-19T07:16:26.262Z"
   },
   {
    "duration": 20,
    "start_time": "2021-08-19T07:16:27.389Z"
   },
   {
    "duration": 10,
    "start_time": "2021-08-19T07:16:28.213Z"
   },
   {
    "duration": 10,
    "start_time": "2021-08-19T07:16:29.158Z"
   },
   {
    "duration": 16,
    "start_time": "2021-08-19T07:16:29.767Z"
   },
   {
    "duration": 4,
    "start_time": "2021-08-19T07:16:30.454Z"
   },
   {
    "duration": 4,
    "start_time": "2021-08-19T07:43:57.617Z"
   },
   {
    "duration": 3,
    "start_time": "2021-08-19T07:43:59.297Z"
   },
   {
    "duration": 11,
    "start_time": "2021-08-19T07:44:00.100Z"
   },
   {
    "duration": 5,
    "start_time": "2021-08-19T07:44:00.753Z"
   },
   {
    "duration": 8,
    "start_time": "2021-08-19T07:44:01.193Z"
   },
   {
    "duration": 8,
    "start_time": "2021-08-19T07:44:01.657Z"
   },
   {
    "duration": 1945,
    "start_time": "2021-08-19T07:44:02.601Z"
   },
   {
    "duration": 5,
    "start_time": "2021-08-19T07:44:04.547Z"
   },
   {
    "duration": 7,
    "start_time": "2021-08-19T07:44:04.785Z"
   },
   {
    "duration": 5,
    "start_time": "2021-08-19T07:44:08.201Z"
   },
   {
    "duration": 11,
    "start_time": "2021-08-19T07:44:08.872Z"
   },
   {
    "duration": 5,
    "start_time": "2021-08-19T07:44:12.881Z"
   },
   {
    "duration": 14,
    "start_time": "2021-08-19T07:44:14.545Z"
   },
   {
    "duration": 7,
    "start_time": "2021-08-19T07:44:23.201Z"
   },
   {
    "duration": 10,
    "start_time": "2021-08-19T07:44:34.680Z"
   },
   {
    "duration": 7,
    "start_time": "2021-08-19T07:45:41.137Z"
   },
   {
    "duration": 8,
    "start_time": "2021-08-19T07:46:01.161Z"
   },
   {
    "duration": 12,
    "start_time": "2021-08-19T07:46:11.656Z"
   },
   {
    "duration": 261,
    "start_time": "2021-08-19T07:46:40.145Z"
   },
   {
    "duration": 76,
    "start_time": "2021-08-19T07:48:10.217Z"
   },
   {
    "duration": 273,
    "start_time": "2021-08-19T07:48:16.088Z"
   },
   {
    "duration": 505,
    "start_time": "2021-08-19T07:48:49.152Z"
   },
   {
    "duration": 477,
    "start_time": "2021-08-19T07:49:13.809Z"
   },
   {
    "duration": 429,
    "start_time": "2021-08-19T07:49:45.729Z"
   },
   {
    "duration": 412,
    "start_time": "2021-08-19T07:50:52.497Z"
   },
   {
    "duration": 473,
    "start_time": "2021-08-19T07:51:18.024Z"
   },
   {
    "duration": 560,
    "start_time": "2021-08-19T07:51:48.775Z"
   },
   {
    "duration": 531,
    "start_time": "2021-08-19T07:51:56.975Z"
   },
   {
    "duration": 537,
    "start_time": "2021-08-19T07:52:31.871Z"
   },
   {
    "duration": 528,
    "start_time": "2021-08-19T08:06:10.429Z"
   },
   {
    "duration": 15,
    "start_time": "2021-08-19T08:11:51.900Z"
   },
   {
    "duration": 180,
    "start_time": "2021-08-19T08:15:35.404Z"
   },
   {
    "duration": 14,
    "start_time": "2021-08-19T08:15:49.659Z"
   },
   {
    "duration": 14,
    "start_time": "2021-08-19T08:17:48.492Z"
   },
   {
    "duration": 14,
    "start_time": "2021-08-19T08:18:04.267Z"
   },
   {
    "duration": 248,
    "start_time": "2021-08-19T08:20:44.842Z"
   },
   {
    "duration": 3036,
    "start_time": "2021-08-19T08:21:52.666Z"
   },
   {
    "duration": 186,
    "start_time": "2021-08-20T01:36:09.624Z"
   },
   {
    "duration": 39,
    "start_time": "2021-08-20T01:36:16.527Z"
   },
   {
    "duration": 17,
    "start_time": "2021-08-20T01:36:17.704Z"
   },
   {
    "duration": 11,
    "start_time": "2021-08-20T01:36:18.799Z"
   },
   {
    "duration": 12,
    "start_time": "2021-08-20T01:36:19.623Z"
   },
   {
    "duration": 17,
    "start_time": "2021-08-20T01:36:20.302Z"
   },
   {
    "duration": 5,
    "start_time": "2021-08-20T01:36:21.222Z"
   },
   {
    "duration": 3,
    "start_time": "2021-08-20T01:36:23.239Z"
   },
   {
    "duration": 12,
    "start_time": "2021-08-20T01:36:24.118Z"
   },
   {
    "duration": 5,
    "start_time": "2021-08-20T01:36:27.807Z"
   },
   {
    "duration": 10,
    "start_time": "2021-08-20T01:36:28.535Z"
   },
   {
    "duration": 8,
    "start_time": "2021-08-20T01:36:29.599Z"
   },
   {
    "duration": 1979,
    "start_time": "2021-08-20T01:36:32.679Z"
   },
   {
    "duration": 5,
    "start_time": "2021-08-20T01:36:35.295Z"
   },
   {
    "duration": 9,
    "start_time": "2021-08-20T01:36:35.873Z"
   },
   {
    "duration": 5,
    "start_time": "2021-08-20T01:36:36.542Z"
   },
   {
    "duration": 10,
    "start_time": "2021-08-20T01:36:37.231Z"
   },
   {
    "duration": 5,
    "start_time": "2021-08-20T01:36:38.711Z"
   },
   {
    "duration": 14,
    "start_time": "2021-08-20T01:36:39.376Z"
   },
   {
    "duration": 532,
    "start_time": "2021-08-20T01:36:41.967Z"
   },
   {
    "duration": 16,
    "start_time": "2021-08-20T01:36:45.215Z"
   },
   {
    "duration": 175,
    "start_time": "2021-08-20T01:36:47.887Z"
   },
   {
    "duration": 171,
    "start_time": "2021-08-20T01:37:07.143Z"
   },
   {
    "duration": 483,
    "start_time": "2021-08-20T01:37:40.488Z"
   },
   {
    "duration": 13,
    "start_time": "2021-08-20T01:44:24.294Z"
   },
   {
    "duration": 14,
    "start_time": "2021-08-20T01:44:34.174Z"
   },
   {
    "duration": 12,
    "start_time": "2021-08-20T01:44:47.231Z"
   },
   {
    "duration": 13,
    "start_time": "2021-08-20T01:45:09.047Z"
   },
   {
    "duration": 9,
    "start_time": "2021-08-20T01:48:27.462Z"
   },
   {
    "duration": 7,
    "start_time": "2021-08-20T01:51:15.093Z"
   },
   {
    "duration": 8,
    "start_time": "2021-08-20T01:51:24.156Z"
   },
   {
    "duration": 3606,
    "start_time": "2021-08-20T01:53:48.700Z"
   },
   {
    "duration": 3508,
    "start_time": "2021-08-20T01:54:18.333Z"
   },
   {
    "duration": 3622,
    "start_time": "2021-08-20T01:55:04.142Z"
   },
   {
    "duration": 13,
    "start_time": "2021-08-20T01:55:29.357Z"
   },
   {
    "duration": 4228,
    "start_time": "2021-08-20T01:55:35.909Z"
   },
   {
    "duration": 12,
    "start_time": "2021-08-20T01:56:26.069Z"
   },
   {
    "duration": 5088,
    "start_time": "2021-08-20T01:56:41.236Z"
   },
   {
    "duration": 5913,
    "start_time": "2021-08-20T01:57:26.165Z"
   },
   {
    "duration": 4868,
    "start_time": "2021-08-20T01:58:18.684Z"
   },
   {
    "duration": 172,
    "start_time": "2021-08-20T01:59:17.236Z"
   },
   {
    "duration": 6,
    "start_time": "2021-08-20T01:59:28.003Z"
   },
   {
    "duration": 7,
    "start_time": "2021-08-20T01:59:35.971Z"
   },
   {
    "duration": 7,
    "start_time": "2021-08-20T02:00:37.115Z"
   },
   {
    "duration": 14,
    "start_time": "2021-08-20T02:01:17.692Z"
   },
   {
    "duration": 12,
    "start_time": "2021-08-20T02:01:37.195Z"
   },
   {
    "duration": 12,
    "start_time": "2021-08-20T02:04:03.730Z"
   },
   {
    "duration": 12,
    "start_time": "2021-08-20T02:04:12.282Z"
   },
   {
    "duration": 14,
    "start_time": "2021-08-20T02:04:25.202Z"
   },
   {
    "duration": 10,
    "start_time": "2021-08-20T02:05:10.666Z"
   },
   {
    "duration": 204,
    "start_time": "2021-08-20T02:05:35.322Z"
   },
   {
    "duration": 8,
    "start_time": "2021-08-20T02:05:48.890Z"
   },
   {
    "duration": 216,
    "start_time": "2021-08-20T02:06:39.906Z"
   },
   {
    "duration": 191,
    "start_time": "2021-08-20T02:16:22.128Z"
   },
   {
    "duration": 356,
    "start_time": "2021-08-20T02:17:15.304Z"
   },
   {
    "duration": 360,
    "start_time": "2021-08-20T02:17:26.169Z"
   },
   {
    "duration": 188,
    "start_time": "2021-08-20T02:19:21.031Z"
   },
   {
    "duration": 199,
    "start_time": "2021-08-20T02:19:32.335Z"
   },
   {
    "duration": 39,
    "start_time": "2021-08-20T02:19:56.128Z"
   },
   {
    "duration": 17,
    "start_time": "2021-08-20T02:19:57.360Z"
   },
   {
    "duration": 10,
    "start_time": "2021-08-20T02:19:57.935Z"
   },
   {
    "duration": 9,
    "start_time": "2021-08-20T02:19:58.647Z"
   },
   {
    "duration": 16,
    "start_time": "2021-08-20T02:19:59.231Z"
   },
   {
    "duration": 4,
    "start_time": "2021-08-20T02:20:00.143Z"
   },
   {
    "duration": 3,
    "start_time": "2021-08-20T02:20:02.271Z"
   },
   {
    "duration": 12,
    "start_time": "2021-08-20T02:20:02.968Z"
   },
   {
    "duration": 5,
    "start_time": "2021-08-20T02:20:03.607Z"
   },
   {
    "duration": 8,
    "start_time": "2021-08-20T02:20:04.351Z"
   },
   {
    "duration": 9,
    "start_time": "2021-08-20T02:20:04.975Z"
   },
   {
    "duration": 2049,
    "start_time": "2021-08-20T02:20:08.799Z"
   },
   {
    "duration": 5,
    "start_time": "2021-08-20T02:20:19.367Z"
   },
   {
    "duration": 7,
    "start_time": "2021-08-20T02:20:19.888Z"
   },
   {
    "duration": 5,
    "start_time": "2021-08-20T02:20:20.647Z"
   },
   {
    "duration": 11,
    "start_time": "2021-08-20T02:20:21.343Z"
   },
   {
    "duration": 5,
    "start_time": "2021-08-20T02:20:22.512Z"
   },
   {
    "duration": 14,
    "start_time": "2021-08-20T02:20:23.112Z"
   },
   {
    "duration": 550,
    "start_time": "2021-08-20T02:20:25.271Z"
   },
   {
    "duration": 14,
    "start_time": "2021-08-20T02:20:30.143Z"
   },
   {
    "duration": 347,
    "start_time": "2021-08-20T02:20:33.544Z"
   },
   {
    "duration": 183,
    "start_time": "2021-08-20T02:20:42.953Z"
   },
   {
    "duration": 193,
    "start_time": "2021-08-20T02:21:14.247Z"
   },
   {
    "duration": 554,
    "start_time": "2021-08-20T02:22:27.478Z"
   },
   {
    "duration": 483,
    "start_time": "2021-08-20T02:23:27.847Z"
   },
   {
    "duration": 2013,
    "start_time": "2021-08-20T02:23:50.134Z"
   },
   {
    "duration": 2053,
    "start_time": "2021-08-20T02:24:51.191Z"
   },
   {
    "duration": 2344,
    "start_time": "2021-08-20T02:25:16.167Z"
   },
   {
    "duration": 2031,
    "start_time": "2021-08-20T02:25:25.870Z"
   },
   {
    "duration": 2084,
    "start_time": "2021-08-20T02:25:44.438Z"
   },
   {
    "duration": 2065,
    "start_time": "2021-08-20T02:26:32.703Z"
   },
   {
    "duration": 2350,
    "start_time": "2021-08-20T02:27:01.990Z"
   },
   {
    "duration": 66,
    "start_time": "2021-08-20T02:27:11.141Z"
   },
   {
    "duration": 325,
    "start_time": "2021-08-20T02:27:27.726Z"
   },
   {
    "duration": 386,
    "start_time": "2021-08-20T02:27:37.247Z"
   },
   {
    "duration": 721,
    "start_time": "2021-08-20T02:28:11.678Z"
   },
   {
    "duration": 554,
    "start_time": "2021-08-20T02:28:25.590Z"
   },
   {
    "duration": 17,
    "start_time": "2021-08-20T02:31:15.877Z"
   },
   {
    "duration": 542,
    "start_time": "2021-08-20T02:31:20.190Z"
   },
   {
    "duration": 64,
    "start_time": "2021-08-20T02:32:04.125Z"
   },
   {
    "duration": 547,
    "start_time": "2021-08-20T02:32:11.324Z"
   },
   {
    "duration": 546,
    "start_time": "2021-08-20T02:32:30.421Z"
   },
   {
    "duration": 13,
    "start_time": "2021-08-20T03:16:07.257Z"
   },
   {
    "duration": 509,
    "start_time": "2021-08-20T04:05:39.183Z"
   },
   {
    "duration": 573,
    "start_time": "2021-08-20T04:05:45.338Z"
   },
   {
    "duration": 532,
    "start_time": "2021-08-20T04:05:50.828Z"
   },
   {
    "duration": 554,
    "start_time": "2021-08-20T04:06:05.012Z"
   },
   {
    "duration": 557,
    "start_time": "2021-08-20T04:06:27.451Z"
   },
   {
    "duration": 6,
    "start_time": "2021-08-20T05:59:52.965Z"
   },
   {
    "duration": 18,
    "start_time": "2021-08-20T06:00:13.146Z"
   },
   {
    "duration": 9,
    "start_time": "2021-08-20T06:00:54.767Z"
   },
   {
    "duration": 387,
    "start_time": "2021-08-20T06:04:30.157Z"
   },
   {
    "duration": 465,
    "start_time": "2021-08-20T06:05:05.398Z"
   },
   {
    "duration": 3,
    "start_time": "2021-08-20T06:40:22.423Z"
   },
   {
    "duration": 6,
    "start_time": "2021-08-20T06:43:04.375Z"
   },
   {
    "duration": 5511,
    "start_time": "2021-08-20T06:44:03.846Z"
   },
   {
    "duration": 10,
    "start_time": "2021-08-20T06:44:41.670Z"
   },
   {
    "duration": 5024,
    "start_time": "2021-08-20T06:45:10.664Z"
   },
   {
    "duration": 8,
    "start_time": "2021-08-20T06:45:38.246Z"
   },
   {
    "duration": 12,
    "start_time": "2021-08-20T06:45:49.061Z"
   },
   {
    "duration": 8,
    "start_time": "2021-08-20T06:47:34.285Z"
   },
   {
    "duration": 13,
    "start_time": "2021-08-20T06:47:55.389Z"
   },
   {
    "duration": 15,
    "start_time": "2021-08-20T06:48:51.478Z"
   },
   {
    "duration": 190,
    "start_time": "2021-08-20T06:56:17.597Z"
   },
   {
    "duration": 9,
    "start_time": "2021-08-20T06:56:43.588Z"
   },
   {
    "duration": 17,
    "start_time": "2021-08-20T06:56:52.171Z"
   },
   {
    "duration": 16,
    "start_time": "2021-08-20T06:59:19.076Z"
   },
   {
    "duration": 16,
    "start_time": "2021-08-20T06:59:40.388Z"
   },
   {
    "duration": 17,
    "start_time": "2021-08-20T06:59:58.866Z"
   },
   {
    "duration": 18,
    "start_time": "2021-08-20T07:00:11.819Z"
   },
   {
    "duration": 17,
    "start_time": "2021-08-20T07:00:23.571Z"
   },
   {
    "duration": 1105,
    "start_time": "2021-08-20T13:20:07.454Z"
   },
   {
    "duration": 20,
    "start_time": "2021-08-20T13:20:08.562Z"
   },
   {
    "duration": 14,
    "start_time": "2021-08-20T13:20:08.860Z"
   },
   {
    "duration": 15,
    "start_time": "2021-08-20T13:20:09.233Z"
   },
   {
    "duration": 17,
    "start_time": "2021-08-20T13:20:09.792Z"
   },
   {
    "duration": 5,
    "start_time": "2021-08-20T13:20:13.066Z"
   },
   {
    "duration": 3,
    "start_time": "2021-08-20T13:20:14.503Z"
   },
   {
    "duration": 11,
    "start_time": "2021-08-20T13:20:14.761Z"
   },
   {
    "duration": 5,
    "start_time": "2021-08-20T13:20:14.999Z"
   },
   {
    "duration": 8,
    "start_time": "2021-08-20T13:20:15.285Z"
   },
   {
    "duration": 11,
    "start_time": "2021-08-20T13:20:15.444Z"
   },
   {
    "duration": 1772,
    "start_time": "2021-08-20T13:20:15.767Z"
   },
   {
    "duration": 5,
    "start_time": "2021-08-20T13:20:17.542Z"
   },
   {
    "duration": 24,
    "start_time": "2021-08-20T13:20:17.550Z"
   },
   {
    "duration": 14,
    "start_time": "2021-08-20T13:20:17.576Z"
   },
   {
    "duration": 22,
    "start_time": "2021-08-20T13:20:17.592Z"
   },
   {
    "duration": 5,
    "start_time": "2021-08-20T13:20:17.617Z"
   },
   {
    "duration": 21,
    "start_time": "2021-08-20T13:20:17.624Z"
   },
   {
    "duration": 500,
    "start_time": "2021-08-20T13:20:18.080Z"
   },
   {
    "duration": 17,
    "start_time": "2021-08-20T13:20:18.998Z"
   },
   {
    "duration": 547,
    "start_time": "2021-08-20T13:20:19.034Z"
   },
   {
    "duration": 9,
    "start_time": "2021-08-20T13:20:19.711Z"
   },
   {
    "duration": 438,
    "start_time": "2021-08-20T13:20:20.436Z"
   },
   {
    "duration": 16,
    "start_time": "2021-08-20T13:20:21.992Z"
   },
   {
    "duration": 469,
    "start_time": "2021-08-20T13:24:25.499Z"
   },
   {
    "duration": 390,
    "start_time": "2021-08-20T13:25:15.288Z"
   },
   {
    "duration": 14,
    "start_time": "2021-08-20T13:25:44.298Z"
   },
   {
    "duration": 17,
    "start_time": "2021-08-20T13:25:49.876Z"
   },
   {
    "duration": 454,
    "start_time": "2021-08-20T13:27:30.480Z"
   },
   {
    "duration": 690,
    "start_time": "2021-08-20T13:27:53.154Z"
   },
   {
    "duration": 370,
    "start_time": "2021-08-20T13:28:32.257Z"
   },
   {
    "duration": 20,
    "start_time": "2021-08-20T13:28:49.308Z"
   },
   {
    "duration": 5,
    "start_time": "2021-08-20T13:29:24.328Z"
   },
   {
    "duration": 7,
    "start_time": "2021-08-20T13:29:45.582Z"
   },
   {
    "duration": 6,
    "start_time": "2021-08-20T13:31:37.934Z"
   },
   {
    "duration": 24,
    "start_time": "2021-08-20T13:31:50.311Z"
   },
   {
    "duration": 8,
    "start_time": "2021-08-20T13:32:59.522Z"
   },
   {
    "duration": 8,
    "start_time": "2021-08-20T13:34:13.931Z"
   },
   {
    "duration": 8,
    "start_time": "2021-08-20T13:36:22.423Z"
   },
   {
    "duration": 94,
    "start_time": "2021-08-20T13:39:17.439Z"
   },
   {
    "duration": 12,
    "start_time": "2021-08-20T13:39:28.986Z"
   },
   {
    "duration": 848,
    "start_time": "2021-08-20T13:42:29.462Z"
   },
   {
    "duration": 1115,
    "start_time": "2021-08-20T13:43:34.289Z"
   },
   {
    "duration": 1051,
    "start_time": "2021-08-20T13:43:46.343Z"
   },
   {
    "duration": 977,
    "start_time": "2021-08-20T13:51:18.686Z"
   },
   {
    "duration": 1148,
    "start_time": "2021-08-20T13:51:37.776Z"
   },
   {
    "duration": 910,
    "start_time": "2021-08-20T13:52:04.516Z"
   },
   {
    "duration": 687,
    "start_time": "2021-08-20T13:52:38.623Z"
   },
   {
    "duration": 735,
    "start_time": "2021-08-20T13:58:44.207Z"
   },
   {
    "duration": 89,
    "start_time": "2021-08-20T14:02:36.594Z"
   },
   {
    "duration": 13,
    "start_time": "2021-08-20T14:03:04.048Z"
   },
   {
    "duration": 12,
    "start_time": "2021-08-20T14:03:20.750Z"
   },
   {
    "duration": 11,
    "start_time": "2021-08-20T14:03:31.429Z"
   },
   {
    "duration": 13,
    "start_time": "2021-08-20T14:04:04.654Z"
   },
   {
    "duration": 12,
    "start_time": "2021-08-20T14:05:21.621Z"
   },
   {
    "duration": 12,
    "start_time": "2021-08-20T14:05:53.652Z"
   },
   {
    "duration": 15,
    "start_time": "2021-08-20T14:06:54.339Z"
   },
   {
    "duration": 10,
    "start_time": "2021-08-20T14:30:55.764Z"
   },
   {
    "duration": 3,
    "start_time": "2021-08-20T14:31:12.036Z"
   },
   {
    "duration": 5,
    "start_time": "2021-08-20T14:31:22.093Z"
   },
   {
    "duration": 24,
    "start_time": "2021-08-20T14:31:39.518Z"
   },
   {
    "duration": 24,
    "start_time": "2021-08-20T14:32:33.849Z"
   },
   {
    "duration": 111,
    "start_time": "2021-08-20T14:49:49.024Z"
   },
   {
    "duration": 11,
    "start_time": "2021-08-20T14:52:05.533Z"
   },
   {
    "duration": 3,
    "start_time": "2021-08-20T14:52:18.541Z"
   },
   {
    "duration": 5,
    "start_time": "2021-08-20T14:52:26.576Z"
   },
   {
    "duration": 18,
    "start_time": "2021-08-20T14:53:16.348Z"
   },
   {
    "duration": 12,
    "start_time": "2021-08-20T15:14:02.965Z"
   },
   {
    "duration": 9,
    "start_time": "2021-08-20T15:14:13.461Z"
   },
   {
    "duration": 4,
    "start_time": "2021-08-20T15:16:52.701Z"
   },
   {
    "duration": 3,
    "start_time": "2021-08-20T15:17:22.035Z"
   },
   {
    "duration": 7,
    "start_time": "2021-08-20T15:17:27.605Z"
   },
   {
    "duration": 8,
    "start_time": "2021-08-20T15:18:56.511Z"
   },
   {
    "duration": 8,
    "start_time": "2021-08-20T15:19:54.655Z"
   },
   {
    "duration": 87,
    "start_time": "2021-08-20T15:23:21.502Z"
   },
   {
    "duration": 1905,
    "start_time": "2021-08-21T02:14:38.578Z"
   },
   {
    "duration": 23,
    "start_time": "2021-08-21T02:14:40.486Z"
   },
   {
    "duration": 13,
    "start_time": "2021-08-21T02:14:40.512Z"
   },
   {
    "duration": 58,
    "start_time": "2021-08-21T02:14:40.528Z"
   },
   {
    "duration": 25,
    "start_time": "2021-08-21T02:14:40.588Z"
   },
   {
    "duration": 6,
    "start_time": "2021-08-21T02:14:40.615Z"
   },
   {
    "duration": 5,
    "start_time": "2021-08-21T02:14:41.209Z"
   },
   {
    "duration": 16,
    "start_time": "2021-08-21T02:14:41.425Z"
   },
   {
    "duration": 6,
    "start_time": "2021-08-21T02:14:41.594Z"
   },
   {
    "duration": 13,
    "start_time": "2021-08-21T02:14:41.781Z"
   },
   {
    "duration": 11,
    "start_time": "2021-08-21T02:14:41.954Z"
   },
   {
    "duration": 2887,
    "start_time": "2021-08-21T02:14:42.321Z"
   },
   {
    "duration": 7,
    "start_time": "2021-08-21T02:14:45.212Z"
   },
   {
    "duration": 30,
    "start_time": "2021-08-21T02:14:45.224Z"
   },
   {
    "duration": 9,
    "start_time": "2021-08-21T02:14:45.258Z"
   },
   {
    "duration": 16,
    "start_time": "2021-08-21T02:14:45.283Z"
   },
   {
    "duration": 7,
    "start_time": "2021-08-21T02:14:45.302Z"
   },
   {
    "duration": 25,
    "start_time": "2021-08-21T02:14:45.311Z"
   },
   {
    "duration": 824,
    "start_time": "2021-08-21T02:14:45.339Z"
   },
   {
    "duration": 26,
    "start_time": "2021-08-21T02:14:46.166Z"
   },
   {
    "duration": 860,
    "start_time": "2021-08-21T02:14:46.194Z"
   },
   {
    "duration": 31,
    "start_time": "2021-08-21T02:14:47.057Z"
   },
   {
    "duration": 720,
    "start_time": "2021-08-21T02:14:47.092Z"
   },
   {
    "duration": 23,
    "start_time": "2021-08-21T02:14:47.814Z"
   },
   {
    "duration": 963,
    "start_time": "2021-08-21T02:14:47.839Z"
   },
   {
    "duration": 17,
    "start_time": "2021-08-21T02:14:48.804Z"
   },
   {
    "duration": 13,
    "start_time": "2021-08-21T02:14:48.824Z"
   },
   {
    "duration": 3,
    "start_time": "2021-08-21T02:14:48.839Z"
   },
   {
    "duration": 37,
    "start_time": "2021-08-21T02:14:48.845Z"
   },
   {
    "duration": 158,
    "start_time": "2021-08-21T02:14:48.885Z"
   },
   {
    "duration": 38,
    "start_time": "2021-08-21T02:14:49.045Z"
   },
   {
    "duration": 5,
    "start_time": "2021-08-21T02:14:49.086Z"
   },
   {
    "duration": 7,
    "start_time": "2021-08-21T02:14:49.239Z"
   },
   {
    "duration": 33,
    "start_time": "2021-08-21T02:14:49.421Z"
   },
   {
    "duration": 15,
    "start_time": "2021-08-21T02:14:49.961Z"
   },
   {
    "duration": 4,
    "start_time": "2021-08-21T02:14:50.159Z"
   },
   {
    "duration": 11,
    "start_time": "2021-08-21T02:14:50.347Z"
   },
   {
    "duration": 7,
    "start_time": "2021-08-21T02:22:26.291Z"
   },
   {
    "duration": 7,
    "start_time": "2021-08-21T02:22:31.199Z"
   },
   {
    "duration": 3347,
    "start_time": "2021-08-21T02:23:08.472Z"
   },
   {
    "duration": 581,
    "start_time": "2021-08-21T02:23:59.991Z"
   },
   {
    "duration": 10,
    "start_time": "2021-08-21T02:24:10.570Z"
   },
   {
    "duration": 7,
    "start_time": "2021-08-21T02:24:14.812Z"
   },
   {
    "duration": 9,
    "start_time": "2021-08-21T02:24:43.458Z"
   },
   {
    "duration": 14,
    "start_time": "2021-08-21T02:24:46.649Z"
   },
   {
    "duration": 18,
    "start_time": "2021-08-21T02:43:07.994Z"
   },
   {
    "duration": 13,
    "start_time": "2021-08-21T02:44:43.529Z"
   },
   {
    "duration": 14,
    "start_time": "2021-08-21T02:45:20.076Z"
   },
   {
    "duration": 16,
    "start_time": "2021-08-21T02:45:54.996Z"
   },
   {
    "duration": 5,
    "start_time": "2021-08-21T02:46:19.916Z"
   },
   {
    "duration": 8,
    "start_time": "2021-08-21T02:46:58.567Z"
   },
   {
    "duration": 10,
    "start_time": "2021-08-21T02:47:08.896Z"
   },
   {
    "duration": 14,
    "start_time": "2021-08-21T02:47:19.955Z"
   },
   {
    "duration": 13,
    "start_time": "2021-08-21T02:47:32.436Z"
   },
   {
    "duration": 29,
    "start_time": "2021-08-21T02:48:03.995Z"
   },
   {
    "duration": 8,
    "start_time": "2021-08-21T02:48:31.169Z"
   },
   {
    "duration": 18,
    "start_time": "2021-08-21T02:50:31.214Z"
   },
   {
    "duration": 17,
    "start_time": "2021-08-21T02:50:48.707Z"
   },
   {
    "duration": 18,
    "start_time": "2021-08-21T02:59:44.319Z"
   },
   {
    "duration": 19,
    "start_time": "2021-08-21T03:00:07.701Z"
   },
   {
    "duration": 33,
    "start_time": "2021-08-21T03:00:12.385Z"
   },
   {
    "duration": 19,
    "start_time": "2021-08-21T03:00:54.138Z"
   },
   {
    "duration": 7,
    "start_time": "2021-08-21T03:06:28.062Z"
   },
   {
    "duration": 8,
    "start_time": "2021-08-21T03:06:52.314Z"
   },
   {
    "duration": 7,
    "start_time": "2021-08-21T03:07:20.269Z"
   },
   {
    "duration": 19,
    "start_time": "2021-08-21T03:12:15.575Z"
   },
   {
    "duration": 18,
    "start_time": "2021-08-21T03:14:06.536Z"
   },
   {
    "duration": 6,
    "start_time": "2021-08-21T03:14:38.761Z"
   },
   {
    "duration": 18,
    "start_time": "2021-08-21T03:16:18.535Z"
   },
   {
    "duration": 83,
    "start_time": "2021-08-21T03:30:46.008Z"
   },
   {
    "duration": 1835,
    "start_time": "2021-08-21T11:37:33.044Z"
   },
   {
    "duration": 32,
    "start_time": "2021-08-21T11:37:34.883Z"
   },
   {
    "duration": 20,
    "start_time": "2021-08-21T11:37:34.919Z"
   },
   {
    "duration": 16,
    "start_time": "2021-08-21T11:37:34.943Z"
   },
   {
    "duration": 59,
    "start_time": "2021-08-21T11:37:34.962Z"
   },
   {
    "duration": 6,
    "start_time": "2021-08-21T11:37:35.024Z"
   },
   {
    "duration": 6,
    "start_time": "2021-08-21T11:37:35.033Z"
   },
   {
    "duration": 58,
    "start_time": "2021-08-21T11:37:35.045Z"
   },
   {
    "duration": 8,
    "start_time": "2021-08-21T11:37:35.107Z"
   },
   {
    "duration": 14,
    "start_time": "2021-08-21T11:37:35.118Z"
   },
   {
    "duration": 13,
    "start_time": "2021-08-21T11:37:35.134Z"
   },
   {
    "duration": 3144,
    "start_time": "2021-08-21T11:37:35.149Z"
   },
   {
    "duration": 7,
    "start_time": "2021-08-21T11:37:38.295Z"
   },
   {
    "duration": 14,
    "start_time": "2021-08-21T11:37:38.305Z"
   },
   {
    "duration": 11,
    "start_time": "2021-08-21T11:37:38.321Z"
   },
   {
    "duration": 14,
    "start_time": "2021-08-21T11:37:38.334Z"
   },
   {
    "duration": 5,
    "start_time": "2021-08-21T11:37:38.350Z"
   },
   {
    "duration": 68,
    "start_time": "2021-08-21T11:37:38.357Z"
   },
   {
    "duration": 1297,
    "start_time": "2021-08-21T11:37:38.428Z"
   },
   {
    "duration": 23,
    "start_time": "2021-08-21T11:37:39.728Z"
   },
   {
    "duration": 930,
    "start_time": "2021-08-21T11:37:39.753Z"
   },
   {
    "duration": 23,
    "start_time": "2021-08-21T11:37:40.685Z"
   },
   {
    "duration": 732,
    "start_time": "2021-08-21T11:37:40.713Z"
   },
   {
    "duration": 26,
    "start_time": "2021-08-21T11:37:41.449Z"
   },
   {
    "duration": 1095,
    "start_time": "2021-08-21T11:37:41.500Z"
   },
   {
    "duration": 22,
    "start_time": "2021-08-21T11:37:42.601Z"
   },
   {
    "duration": 17,
    "start_time": "2021-08-21T11:37:42.625Z"
   },
   {
    "duration": 6,
    "start_time": "2021-08-21T11:37:42.644Z"
   },
   {
    "duration": 48,
    "start_time": "2021-08-21T11:37:42.653Z"
   },
   {
    "duration": 142,
    "start_time": "2021-08-21T11:37:42.704Z"
   },
   {
    "duration": 16,
    "start_time": "2021-08-21T11:37:42.850Z"
   },
   {
    "duration": 32,
    "start_time": "2021-08-21T11:37:42.870Z"
   },
   {
    "duration": 9,
    "start_time": "2021-08-21T11:37:42.905Z"
   },
   {
    "duration": 88,
    "start_time": "2021-08-21T11:37:42.917Z"
   },
   {
    "duration": 15,
    "start_time": "2021-08-21T11:37:43.008Z"
   },
   {
    "duration": 4,
    "start_time": "2021-08-21T11:37:43.026Z"
   },
   {
    "duration": 14,
    "start_time": "2021-08-21T11:37:43.033Z"
   },
   {
    "duration": 64,
    "start_time": "2021-08-21T11:37:43.050Z"
   },
   {
    "duration": 7,
    "start_time": "2021-08-21T11:37:43.116Z"
   },
   {
    "duration": 20,
    "start_time": "2021-08-21T11:37:43.125Z"
   },
   {
    "duration": 7,
    "start_time": "2021-08-21T11:37:43.147Z"
   },
   {
    "duration": 11,
    "start_time": "2021-08-21T12:22:24.748Z"
   },
   {
    "duration": 1392,
    "start_time": "2021-08-23T05:17:20.114Z"
   },
   {
    "duration": 24,
    "start_time": "2021-08-23T05:17:21.508Z"
   },
   {
    "duration": 33,
    "start_time": "2021-08-23T05:17:21.535Z"
   },
   {
    "duration": 14,
    "start_time": "2021-08-23T05:17:21.571Z"
   },
   {
    "duration": 23,
    "start_time": "2021-08-23T05:17:21.587Z"
   },
   {
    "duration": 6,
    "start_time": "2021-08-23T05:17:21.676Z"
   },
   {
    "duration": 4,
    "start_time": "2021-08-23T05:17:22.334Z"
   },
   {
    "duration": 17,
    "start_time": "2021-08-23T05:17:22.660Z"
   },
   {
    "duration": 6,
    "start_time": "2021-08-23T05:17:22.822Z"
   },
   {
    "duration": 12,
    "start_time": "2021-08-23T05:17:22.980Z"
   },
   {
    "duration": 10,
    "start_time": "2021-08-23T05:17:23.135Z"
   },
   {
    "duration": 3191,
    "start_time": "2021-08-23T05:17:23.469Z"
   },
   {
    "duration": 7,
    "start_time": "2021-08-23T05:17:26.662Z"
   },
   {
    "duration": 18,
    "start_time": "2021-08-23T05:17:26.672Z"
   },
   {
    "duration": 9,
    "start_time": "2021-08-23T05:17:26.693Z"
   },
   {
    "duration": 17,
    "start_time": "2021-08-23T05:17:26.704Z"
   },
   {
    "duration": 47,
    "start_time": "2021-08-23T05:17:26.724Z"
   },
   {
    "duration": 21,
    "start_time": "2021-08-23T05:17:26.774Z"
   },
   {
    "duration": 909,
    "start_time": "2021-08-23T05:17:26.799Z"
   },
   {
    "duration": 23,
    "start_time": "2021-08-23T05:17:27.711Z"
   },
   {
    "duration": 932,
    "start_time": "2021-08-23T05:17:27.736Z"
   },
   {
    "duration": 12,
    "start_time": "2021-08-23T05:17:28.671Z"
   },
   {
    "duration": 738,
    "start_time": "2021-08-23T05:17:28.686Z"
   },
   {
    "duration": 43,
    "start_time": "2021-08-23T05:17:29.427Z"
   },
   {
    "duration": 1117,
    "start_time": "2021-08-23T05:17:29.472Z"
   },
   {
    "duration": 22,
    "start_time": "2021-08-23T05:17:30.594Z"
   },
   {
    "duration": 57,
    "start_time": "2021-08-23T05:17:30.620Z"
   },
   {
    "duration": 5,
    "start_time": "2021-08-23T05:17:30.680Z"
   },
   {
    "duration": 19,
    "start_time": "2021-08-23T05:17:30.688Z"
   },
   {
    "duration": 138,
    "start_time": "2021-08-23T05:17:30.772Z"
   },
   {
    "duration": 16,
    "start_time": "2021-08-23T05:17:31.532Z"
   },
   {
    "duration": 4,
    "start_time": "2021-08-23T05:17:31.707Z"
   },
   {
    "duration": 7,
    "start_time": "2021-08-23T05:17:31.891Z"
   },
   {
    "duration": 28,
    "start_time": "2021-08-23T05:17:32.091Z"
   },
   {
    "duration": 17,
    "start_time": "2021-08-23T05:17:32.647Z"
   },
   {
    "duration": 4,
    "start_time": "2021-08-23T05:17:32.820Z"
   },
   {
    "duration": 11,
    "start_time": "2021-08-23T05:17:32.995Z"
   },
   {
    "duration": 20,
    "start_time": "2021-08-23T05:17:33.943Z"
   },
   {
    "duration": 7,
    "start_time": "2021-08-23T05:17:34.139Z"
   },
   {
    "duration": 19,
    "start_time": "2021-08-23T05:17:34.921Z"
   },
   {
    "duration": 8,
    "start_time": "2021-08-23T05:17:35.137Z"
   },
   {
    "duration": 11,
    "start_time": "2021-08-23T05:18:29.038Z"
   },
   {
    "duration": 8,
    "start_time": "2021-08-23T05:19:57.403Z"
   },
   {
    "duration": 6,
    "start_time": "2021-08-23T05:28:10.256Z"
   },
   {
    "duration": 9,
    "start_time": "2021-08-23T05:28:39.116Z"
   },
   {
    "duration": 7,
    "start_time": "2021-08-23T05:29:19.455Z"
   },
   {
    "duration": 630,
    "start_time": "2021-08-23T05:33:12.110Z"
   },
   {
    "duration": 473,
    "start_time": "2021-08-23T05:33:40.717Z"
   },
   {
    "duration": 493,
    "start_time": "2021-08-23T05:33:56.601Z"
   },
   {
    "duration": 1116,
    "start_time": "2021-08-23T05:34:27.156Z"
   },
   {
    "duration": 1124,
    "start_time": "2021-08-23T05:35:02.843Z"
   },
   {
    "duration": 1420,
    "start_time": "2021-08-23T05:39:31.017Z"
   },
   {
    "duration": 1136,
    "start_time": "2021-08-23T05:39:40.713Z"
   },
   {
    "duration": 905,
    "start_time": "2021-08-23T05:40:06.800Z"
   },
   {
    "duration": 1170,
    "start_time": "2021-08-23T05:40:24.920Z"
   },
   {
    "duration": 14,
    "start_time": "2021-08-23T05:47:54.004Z"
   },
   {
    "duration": 595,
    "start_time": "2021-08-23T06:25:43.314Z"
   },
   {
    "duration": 804,
    "start_time": "2021-08-23T06:26:04.419Z"
   },
   {
    "duration": 621,
    "start_time": "2021-08-23T06:28:29.492Z"
   },
   {
    "duration": 623,
    "start_time": "2021-08-23T06:32:56.886Z"
   },
   {
    "duration": 611,
    "start_time": "2021-08-23T06:33:15.045Z"
   },
   {
    "duration": 595,
    "start_time": "2021-08-23T06:35:04.974Z"
   },
   {
    "duration": 1206,
    "start_time": "2021-08-23T06:56:49.443Z"
   },
   {
    "duration": 7,
    "start_time": "2021-08-23T07:04:13.400Z"
   },
   {
    "duration": 7,
    "start_time": "2021-08-23T07:04:45.301Z"
   },
   {
    "duration": 20,
    "start_time": "2021-08-23T08:15:55.152Z"
   },
   {
    "duration": 4,
    "start_time": "2021-08-23T08:15:55.806Z"
   },
   {
    "duration": 12,
    "start_time": "2021-08-23T08:15:56.426Z"
   },
   {
    "duration": 16,
    "start_time": "2021-08-23T08:21:24.526Z"
   },
   {
    "duration": 4,
    "start_time": "2021-08-23T08:21:25.045Z"
   },
   {
    "duration": 12,
    "start_time": "2021-08-23T08:21:25.653Z"
   },
   {
    "duration": 291,
    "start_time": "2021-08-23T08:24:00.174Z"
   },
   {
    "duration": 279,
    "start_time": "2021-08-23T08:24:53.718Z"
   },
   {
    "duration": 38,
    "start_time": "2021-08-23T08:37:52.171Z"
   },
   {
    "duration": 40,
    "start_time": "2021-08-23T08:39:29.389Z"
   },
   {
    "duration": 48,
    "start_time": "2021-08-23T08:55:24.672Z"
   },
   {
    "duration": 51,
    "start_time": "2021-08-23T08:55:35.569Z"
   },
   {
    "duration": 56,
    "start_time": "2021-08-23T08:59:00.157Z"
   },
   {
    "duration": 19,
    "start_time": "2021-08-23T08:59:00.637Z"
   },
   {
    "duration": 14,
    "start_time": "2021-08-23T08:59:00.813Z"
   },
   {
    "duration": 13,
    "start_time": "2021-08-23T08:59:00.988Z"
   },
   {
    "duration": 31,
    "start_time": "2021-08-23T08:59:01.166Z"
   },
   {
    "duration": 6,
    "start_time": "2021-08-23T08:59:01.324Z"
   },
   {
    "duration": 4,
    "start_time": "2021-08-23T08:59:01.996Z"
   },
   {
    "duration": 28,
    "start_time": "2021-08-23T08:59:02.356Z"
   },
   {
    "duration": 5,
    "start_time": "2021-08-23T08:59:02.535Z"
   },
   {
    "duration": 10,
    "start_time": "2021-08-23T08:59:02.712Z"
   },
   {
    "duration": 11,
    "start_time": "2021-08-23T08:59:02.892Z"
   },
   {
    "duration": 3543,
    "start_time": "2021-08-23T08:59:03.284Z"
   },
   {
    "duration": 8,
    "start_time": "2021-08-23T08:59:06.831Z"
   },
   {
    "duration": 31,
    "start_time": "2021-08-23T08:59:06.843Z"
   },
   {
    "duration": 9,
    "start_time": "2021-08-23T08:59:06.879Z"
   },
   {
    "duration": 19,
    "start_time": "2021-08-23T08:59:06.891Z"
   },
   {
    "duration": 7,
    "start_time": "2021-08-23T08:59:06.914Z"
   },
   {
    "duration": 66,
    "start_time": "2021-08-23T08:59:06.924Z"
   },
   {
    "duration": 8,
    "start_time": "2021-08-23T08:59:06.994Z"
   },
   {
    "duration": 6,
    "start_time": "2021-08-23T08:59:07.087Z"
   },
   {
    "duration": 13,
    "start_time": "2021-08-23T08:59:07.271Z"
   },
   {
    "duration": 9,
    "start_time": "2021-08-23T08:59:07.462Z"
   },
   {
    "duration": 946,
    "start_time": "2021-08-23T08:59:07.834Z"
   },
   {
    "duration": 23,
    "start_time": "2021-08-23T08:59:10.024Z"
   },
   {
    "duration": 1144,
    "start_time": "2021-08-23T08:59:10.924Z"
   },
   {
    "duration": 1273,
    "start_time": "2021-08-23T08:59:14.052Z"
   },
   {
    "duration": 12,
    "start_time": "2021-08-23T08:59:15.405Z"
   },
   {
    "duration": 12,
    "start_time": "2021-08-23T08:59:17.132Z"
   },
   {
    "duration": 660,
    "start_time": "2021-08-23T08:59:17.692Z"
   },
   {
    "duration": 646,
    "start_time": "2021-08-23T08:59:18.387Z"
   },
   {
    "duration": 34,
    "start_time": "2021-08-23T08:59:21.261Z"
   },
   {
    "duration": 1123,
    "start_time": "2021-08-23T08:59:23.908Z"
   },
   {
    "duration": 17,
    "start_time": "2021-08-23T08:59:25.034Z"
   },
   {
    "duration": 7,
    "start_time": "2021-08-23T08:59:28.212Z"
   },
   {
    "duration": 6,
    "start_time": "2021-08-23T08:59:28.796Z"
   },
   {
    "duration": 14,
    "start_time": "2021-08-23T08:59:30.748Z"
   },
   {
    "duration": 5,
    "start_time": "2021-08-23T08:59:31.155Z"
   },
   {
    "duration": 8,
    "start_time": "2021-08-23T08:59:31.611Z"
   },
   {
    "duration": 49,
    "start_time": "2021-08-23T08:59:32.438Z"
   },
   {
    "duration": 18,
    "start_time": "2021-08-23T08:59:34.984Z"
   },
   {
    "duration": 4,
    "start_time": "2021-08-23T08:59:35.460Z"
   },
   {
    "duration": 10,
    "start_time": "2021-08-23T08:59:36.173Z"
   },
   {
    "duration": 32,
    "start_time": "2021-08-23T08:59:37.205Z"
   },
   {
    "duration": 21,
    "start_time": "2021-08-23T08:59:39.270Z"
   },
   {
    "duration": 5,
    "start_time": "2021-08-23T08:59:39.877Z"
   },
   {
    "duration": 10,
    "start_time": "2021-08-23T08:59:40.652Z"
   },
   {
    "duration": 1554,
    "start_time": "2021-08-23T18:00:20.825Z"
   },
   {
    "duration": 24,
    "start_time": "2021-08-23T18:00:22.381Z"
   },
   {
    "duration": 24,
    "start_time": "2021-08-23T18:00:22.408Z"
   },
   {
    "duration": 30,
    "start_time": "2021-08-23T18:00:22.435Z"
   },
   {
    "duration": 31,
    "start_time": "2021-08-23T18:00:22.467Z"
   },
   {
    "duration": 5,
    "start_time": "2021-08-23T18:00:22.501Z"
   },
   {
    "duration": 15,
    "start_time": "2021-08-23T18:00:22.508Z"
   },
   {
    "duration": 35,
    "start_time": "2021-08-23T18:00:22.526Z"
   },
   {
    "duration": 10,
    "start_time": "2021-08-23T18:00:22.564Z"
   },
   {
    "duration": 26,
    "start_time": "2021-08-23T18:00:22.577Z"
   },
   {
    "duration": 24,
    "start_time": "2021-08-23T18:00:22.605Z"
   },
   {
    "duration": 3139,
    "start_time": "2021-08-23T18:00:22.631Z"
   },
   {
    "duration": 7,
    "start_time": "2021-08-23T18:00:25.773Z"
   },
   {
    "duration": 35,
    "start_time": "2021-08-23T18:00:25.783Z"
   },
   {
    "duration": 22,
    "start_time": "2021-08-23T18:00:25.820Z"
   },
   {
    "duration": 38,
    "start_time": "2021-08-23T18:00:25.845Z"
   },
   {
    "duration": 21,
    "start_time": "2021-08-23T18:00:25.886Z"
   },
   {
    "duration": 34,
    "start_time": "2021-08-23T18:00:25.909Z"
   },
   {
    "duration": 24,
    "start_time": "2021-08-23T18:00:25.946Z"
   },
   {
    "duration": 24,
    "start_time": "2021-08-23T18:00:25.973Z"
   },
   {
    "duration": 25,
    "start_time": "2021-08-23T18:00:26.000Z"
   },
   {
    "duration": 34,
    "start_time": "2021-08-23T18:00:26.028Z"
   },
   {
    "duration": 890,
    "start_time": "2021-08-23T18:00:26.067Z"
   },
   {
    "duration": 23,
    "start_time": "2021-08-23T18:00:26.960Z"
   },
   {
    "duration": 935,
    "start_time": "2021-08-23T18:00:26.986Z"
   },
   {
    "duration": 1170,
    "start_time": "2021-08-23T18:00:27.924Z"
   },
   {
    "duration": 13,
    "start_time": "2021-08-23T18:00:29.097Z"
   },
   {
    "duration": 47,
    "start_time": "2021-08-23T18:00:29.113Z"
   },
   {
    "duration": 874,
    "start_time": "2021-08-23T18:00:29.162Z"
   },
   {
    "duration": 593,
    "start_time": "2021-08-23T18:00:30.039Z"
   },
   {
    "duration": 35,
    "start_time": "2021-08-23T18:00:30.635Z"
   },
   {
    "duration": 1085,
    "start_time": "2021-08-23T18:00:30.672Z"
   },
   {
    "duration": 17,
    "start_time": "2021-08-23T18:00:31.759Z"
   },
   {
    "duration": 10,
    "start_time": "2021-08-23T18:00:31.778Z"
   },
   {
    "duration": 18,
    "start_time": "2021-08-23T18:00:31.790Z"
   },
   {
    "duration": 27,
    "start_time": "2021-08-23T18:00:31.810Z"
   },
   {
    "duration": 16,
    "start_time": "2021-08-23T18:00:31.840Z"
   },
   {
    "duration": 14,
    "start_time": "2021-08-23T18:00:31.858Z"
   },
   {
    "duration": 53,
    "start_time": "2021-08-23T18:00:31.875Z"
   },
   {
    "duration": 34,
    "start_time": "2021-08-23T18:00:31.931Z"
   },
   {
    "duration": 8,
    "start_time": "2021-08-23T18:00:31.968Z"
   },
   {
    "duration": 16,
    "start_time": "2021-08-23T18:00:31.978Z"
   },
   {
    "duration": 82,
    "start_time": "2021-08-23T18:00:31.996Z"
   },
   {
    "duration": 19,
    "start_time": "2021-08-23T18:00:32.081Z"
   },
   {
    "duration": 13,
    "start_time": "2021-08-23T18:00:32.155Z"
   },
   {
    "duration": 27,
    "start_time": "2021-08-23T18:00:32.171Z"
   },
   {
    "duration": 32,
    "start_time": "2021-08-23T18:00:32.201Z"
   },
   {
    "duration": 8,
    "start_time": "2021-08-23T18:00:32.235Z"
   },
   {
    "duration": 24,
    "start_time": "2021-08-23T18:00:32.246Z"
   },
   {
    "duration": 17,
    "start_time": "2021-08-23T18:00:32.273Z"
   },
   {
    "duration": 607,
    "start_time": "2021-08-23T18:20:03.696Z"
   },
   {
    "duration": 582,
    "start_time": "2021-08-23T18:20:08.524Z"
   },
   {
    "duration": 737,
    "start_time": "2021-08-23T18:20:15.861Z"
   },
   {
    "duration": 1217,
    "start_time": "2021-12-27T05:03:16.956Z"
   },
   {
    "duration": 16,
    "start_time": "2021-12-27T05:03:18.175Z"
   },
   {
    "duration": 11,
    "start_time": "2021-12-27T05:03:18.193Z"
   },
   {
    "duration": 10,
    "start_time": "2021-12-27T05:03:18.207Z"
   },
   {
    "duration": 42,
    "start_time": "2021-12-27T05:03:18.219Z"
   },
   {
    "duration": 5,
    "start_time": "2021-12-27T05:03:18.262Z"
   },
   {
    "duration": 7,
    "start_time": "2021-12-27T05:03:18.269Z"
   },
   {
    "duration": 15,
    "start_time": "2021-12-27T05:03:18.279Z"
   },
   {
    "duration": 4,
    "start_time": "2021-12-27T05:03:18.297Z"
   },
   {
    "duration": 11,
    "start_time": "2021-12-27T05:03:18.303Z"
   },
   {
    "duration": 8,
    "start_time": "2021-12-27T05:03:18.316Z"
   },
   {
    "duration": 1910,
    "start_time": "2021-12-27T05:03:18.325Z"
   },
   {
    "duration": 5,
    "start_time": "2021-12-27T05:03:20.237Z"
   },
   {
    "duration": 20,
    "start_time": "2021-12-27T05:03:20.243Z"
   },
   {
    "duration": 5,
    "start_time": "2021-12-27T05:03:20.265Z"
   },
   {
    "duration": 14,
    "start_time": "2021-12-27T05:03:20.271Z"
   },
   {
    "duration": 4,
    "start_time": "2021-12-27T05:03:20.287Z"
   },
   {
    "duration": 16,
    "start_time": "2021-12-27T05:03:20.292Z"
   },
   {
    "duration": 7,
    "start_time": "2021-12-27T05:03:20.310Z"
   },
   {
    "duration": 7,
    "start_time": "2021-12-27T05:03:20.319Z"
   },
   {
    "duration": 9,
    "start_time": "2021-12-27T05:03:20.327Z"
   },
   {
    "duration": 4,
    "start_time": "2021-12-27T05:03:20.361Z"
   },
   {
    "duration": 519,
    "start_time": "2021-12-27T05:03:20.368Z"
   },
   {
    "duration": 17,
    "start_time": "2021-12-27T05:03:20.889Z"
   },
   {
    "duration": 555,
    "start_time": "2021-12-27T05:03:20.907Z"
   },
   {
    "duration": 672,
    "start_time": "2021-12-27T05:03:21.463Z"
   },
   {
    "duration": 9,
    "start_time": "2021-12-27T05:03:22.136Z"
   },
   {
    "duration": 9,
    "start_time": "2021-12-27T05:03:22.160Z"
   },
   {
    "duration": 534,
    "start_time": "2021-12-27T05:03:22.170Z"
   },
   {
    "duration": 356,
    "start_time": "2021-12-27T05:03:22.705Z"
   },
   {
    "duration": 19,
    "start_time": "2021-12-27T05:03:23.062Z"
   },
   {
    "duration": 669,
    "start_time": "2021-12-27T05:03:23.083Z"
   },
   {
    "duration": 17,
    "start_time": "2021-12-27T05:03:23.753Z"
   },
   {
    "duration": 5,
    "start_time": "2021-12-27T05:03:23.772Z"
   },
   {
    "duration": 4,
    "start_time": "2021-12-27T05:03:23.779Z"
   },
   {
    "duration": 13,
    "start_time": "2021-12-27T05:03:23.785Z"
   },
   {
    "duration": 2,
    "start_time": "2021-12-27T05:03:23.800Z"
   },
   {
    "duration": 7,
    "start_time": "2021-12-27T05:03:23.804Z"
   },
   {
    "duration": 58,
    "start_time": "2021-12-27T05:03:23.813Z"
   },
   {
    "duration": 10,
    "start_time": "2021-12-27T05:03:23.873Z"
   },
   {
    "duration": 7,
    "start_time": "2021-12-27T05:03:23.884Z"
   },
   {
    "duration": 6,
    "start_time": "2021-12-27T05:03:23.892Z"
   },
   {
    "duration": 18,
    "start_time": "2021-12-27T05:03:23.900Z"
   },
   {
    "duration": 49,
    "start_time": "2021-12-27T05:03:23.920Z"
   },
   {
    "duration": 7,
    "start_time": "2021-12-27T05:03:23.971Z"
   },
   {
    "duration": 10,
    "start_time": "2021-12-27T05:03:23.980Z"
   },
   {
    "duration": 13,
    "start_time": "2021-12-27T05:03:23.991Z"
   },
   {
    "duration": 5,
    "start_time": "2021-12-27T05:03:24.006Z"
   },
   {
    "duration": 13,
    "start_time": "2021-12-27T05:03:24.012Z"
   },
   {
    "duration": 39,
    "start_time": "2021-12-27T05:03:24.027Z"
   },
   {
    "duration": 366,
    "start_time": "2021-12-27T07:50:07.028Z"
   }
  ],
  "kernelspec": {
   "display_name": "Python 3",
   "language": "python",
   "name": "python3"
  },
  "language_info": {
   "codemirror_mode": {
    "name": "ipython",
    "version": 3
   },
   "file_extension": ".py",
   "mimetype": "text/x-python",
   "name": "python",
   "nbconvert_exporter": "python",
   "pygments_lexer": "ipython3",
   "version": "3.7.8"
  },
  "toc": {
   "base_numbering": 1,
   "nav_menu": {},
   "number_sections": true,
   "sideBar": true,
   "skip_h1_title": true,
   "title_cell": "Table of Contents",
   "title_sidebar": "Contents",
   "toc_cell": false,
   "toc_position": {},
   "toc_section_display": true,
   "toc_window_display": false
  }
 },
 "nbformat": 4,
 "nbformat_minor": 2
}
