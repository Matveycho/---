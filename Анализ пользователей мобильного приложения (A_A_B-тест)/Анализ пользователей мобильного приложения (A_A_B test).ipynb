{
 "cells": [
  {
   "cell_type": "markdown",
   "metadata": {},
   "source": [
    "# Анализ пользователей мобильного приложения\n",
    "\n",
    "Дизайнеры решили изменить шрифт во всем приложении, необходимо узнать, повлияет ли это на воронку продаж ли нет.\n",
    "\n",
    "Задачи:\n",
    "1. Анализ воронки продаж. Как пользователи доходят до покупки. Сколько пользователей доходит до покупки, а сколько — «застревает» на предыдущих шагах? На каких именно?\n",
    "\n",
    "2. Исследование результатов A/A/B-эксперимента. Пользователей разбили на 3 группы: 2 контрольные со старыми шрифтами и одну экспериментальную — с новыми. Необходимо понять, есть ли различия между группами.\n",
    "\n",
    "<b>Описание данных</b>\n",
    "\n",
    "Каждая запись в логе — это действие пользователя, или событие.\n",
    "- EventName — название события;\n",
    "- DeviceIDHash — уникальный идентификатор пользователя;\n",
    "- EventTimestamp — время события;\n",
    "- ExpId — номер эксперимента: 246 и 247 — контрольные группы, а 248 — экспериментальная."
   ]
  },
  {
   "cell_type": "code",
   "execution_count": 31,
   "metadata": {},
   "outputs": [],
   "source": [
    "import pandas as pd\n",
    "from IPython.display import display\n",
    "import numpy as np\n",
    "import matplotlib.pyplot as plt\n",
    "import seaborn as sns\n",
    "from scipy import stats\n",
    "import os\n",
    "from scipy import stats as st\n",
    "import numpy as np\n",
    "import math as mth\n",
    "from plotly import graph_objects as go\n",
    "pd.set_option('display.max_columns', None)\n",
    "pd.set_option('max_colwidth', 120)\n",
    "pd.set_option('display.width', 500)"
   ]
  },
  {
   "cell_type": "code",
   "execution_count": 32,
   "metadata": {},
   "outputs": [
    {
     "data": {
      "text/html": [
       "<div>\n",
       "<style scoped>\n",
       "    .dataframe tbody tr th:only-of-type {\n",
       "        vertical-align: middle;\n",
       "    }\n",
       "\n",
       "    .dataframe tbody tr th {\n",
       "        vertical-align: top;\n",
       "    }\n",
       "\n",
       "    .dataframe thead th {\n",
       "        text-align: right;\n",
       "    }\n",
       "</style>\n",
       "<table border=\"1\" class=\"dataframe\">\n",
       "  <thead>\n",
       "    <tr style=\"text-align: right;\">\n",
       "      <th></th>\n",
       "      <th>event_name</th>\n",
       "      <th>device_id_hash</th>\n",
       "      <th>event_times_tamp</th>\n",
       "      <th>expld</th>\n",
       "    </tr>\n",
       "  </thead>\n",
       "  <tbody>\n",
       "    <tr>\n",
       "      <td>0</td>\n",
       "      <td>MainScreenAppear</td>\n",
       "      <td>4575588528974610257</td>\n",
       "      <td>1564029816</td>\n",
       "      <td>246</td>\n",
       "    </tr>\n",
       "    <tr>\n",
       "      <td>1</td>\n",
       "      <td>MainScreenAppear</td>\n",
       "      <td>7416695313311560658</td>\n",
       "      <td>1564053102</td>\n",
       "      <td>246</td>\n",
       "    </tr>\n",
       "    <tr>\n",
       "      <td>2</td>\n",
       "      <td>PaymentScreenSuccessful</td>\n",
       "      <td>3518123091307005509</td>\n",
       "      <td>1564054127</td>\n",
       "      <td>248</td>\n",
       "    </tr>\n",
       "    <tr>\n",
       "      <td>3</td>\n",
       "      <td>CartScreenAppear</td>\n",
       "      <td>3518123091307005509</td>\n",
       "      <td>1564054127</td>\n",
       "      <td>248</td>\n",
       "    </tr>\n",
       "    <tr>\n",
       "      <td>4</td>\n",
       "      <td>PaymentScreenSuccessful</td>\n",
       "      <td>6217807653094995999</td>\n",
       "      <td>1564055322</td>\n",
       "      <td>248</td>\n",
       "    </tr>\n",
       "  </tbody>\n",
       "</table>\n",
       "</div>"
      ],
      "text/plain": [
       "                event_name       device_id_hash  event_times_tamp  expld\n",
       "0         MainScreenAppear  4575588528974610257        1564029816    246\n",
       "1         MainScreenAppear  7416695313311560658        1564053102    246\n",
       "2  PaymentScreenSuccessful  3518123091307005509        1564054127    248\n",
       "3         CartScreenAppear  3518123091307005509        1564054127    248\n",
       "4  PaymentScreenSuccessful  6217807653094995999        1564055322    248"
      ]
     },
     "execution_count": 32,
     "metadata": {},
     "output_type": "execute_result"
    }
   ],
   "source": [
    "logs_exp = pd.read_csv('/datasets/logs_exp.csv', sep = '\\t')\n",
    "logs_exp.columns = ['event_name','device_id_hash','event_times_tamp','expld']\n",
    "logs_exp.head()"
   ]
  },
  {
   "cell_type": "code",
   "execution_count": 33,
   "metadata": {
    "scrolled": false
   },
   "outputs": [
    {
     "name": "stdout",
     "output_type": "stream",
     "text": [
      "Таблица: rest_data \n",
      "Количество дубликатов:  413\n",
      "\n",
      "<class 'pandas.core.frame.DataFrame'>\n",
      "RangeIndex: 244126 entries, 0 to 244125\n",
      "Data columns (total 4 columns):\n",
      "event_name          244126 non-null object\n",
      "device_id_hash      244126 non-null int64\n",
      "event_times_tamp    244126 non-null int64\n",
      "expld               244126 non-null int64\n",
      "dtypes: int64(3), object(1)\n",
      "memory usage: 7.5+ MB\n",
      "\n"
     ]
    },
    {
     "data": {
      "text/plain": [
       "'Количество пропусков:'"
      ]
     },
     "metadata": {},
     "output_type": "display_data"
    },
    {
     "data": {
      "text/plain": [
       "event_name          0\n",
       "device_id_hash      0\n",
       "event_times_tamp    0\n",
       "expld               0\n",
       "dtype: int64"
      ]
     },
     "metadata": {},
     "output_type": "display_data"
    },
    {
     "data": {
      "text/html": [
       "<div>\n",
       "<style scoped>\n",
       "    .dataframe tbody tr th:only-of-type {\n",
       "        vertical-align: middle;\n",
       "    }\n",
       "\n",
       "    .dataframe tbody tr th {\n",
       "        vertical-align: top;\n",
       "    }\n",
       "\n",
       "    .dataframe thead th {\n",
       "        text-align: right;\n",
       "    }\n",
       "</style>\n",
       "<table border=\"1\" class=\"dataframe\">\n",
       "  <thead>\n",
       "    <tr style=\"text-align: right;\">\n",
       "      <th></th>\n",
       "      <th>event_name</th>\n",
       "      <th>device_id_hash</th>\n",
       "      <th>event_times_tamp</th>\n",
       "      <th>expld</th>\n",
       "    </tr>\n",
       "  </thead>\n",
       "  <tbody>\n",
       "    <tr>\n",
       "      <td>0</td>\n",
       "      <td>MainScreenAppear</td>\n",
       "      <td>4575588528974610257</td>\n",
       "      <td>1564029816</td>\n",
       "      <td>246</td>\n",
       "    </tr>\n",
       "    <tr>\n",
       "      <td>1</td>\n",
       "      <td>MainScreenAppear</td>\n",
       "      <td>7416695313311560658</td>\n",
       "      <td>1564053102</td>\n",
       "      <td>246</td>\n",
       "    </tr>\n",
       "    <tr>\n",
       "      <td>2</td>\n",
       "      <td>PaymentScreenSuccessful</td>\n",
       "      <td>3518123091307005509</td>\n",
       "      <td>1564054127</td>\n",
       "      <td>248</td>\n",
       "    </tr>\n",
       "    <tr>\n",
       "      <td>3</td>\n",
       "      <td>CartScreenAppear</td>\n",
       "      <td>3518123091307005509</td>\n",
       "      <td>1564054127</td>\n",
       "      <td>248</td>\n",
       "    </tr>\n",
       "    <tr>\n",
       "      <td>4</td>\n",
       "      <td>PaymentScreenSuccessful</td>\n",
       "      <td>6217807653094995999</td>\n",
       "      <td>1564055322</td>\n",
       "      <td>248</td>\n",
       "    </tr>\n",
       "  </tbody>\n",
       "</table>\n",
       "</div>"
      ],
      "text/plain": [
       "                event_name       device_id_hash  event_times_tamp  expld\n",
       "0         MainScreenAppear  4575588528974610257        1564029816    246\n",
       "1         MainScreenAppear  7416695313311560658        1564053102    246\n",
       "2  PaymentScreenSuccessful  3518123091307005509        1564054127    248\n",
       "3         CartScreenAppear  3518123091307005509        1564054127    248\n",
       "4  PaymentScreenSuccessful  6217807653094995999        1564055322    248"
      ]
     },
     "metadata": {},
     "output_type": "display_data"
    },
    {
     "name": "stdout",
     "output_type": "stream",
     "text": [
      "_____________________________________________________________________________________________________\n"
     ]
    }
   ],
   "source": [
    "# Посмотрим входные данные на наличие пропусков, дубликатов, тип данных по столбцам\n",
    "print('Таблица: rest_data ')\n",
    "print('Количество дубликатов: ',logs_exp.duplicated().sum())\n",
    "print('')\n",
    "logs_exp.info()\n",
    "print('')\n",
    "display('Количество пропусков:',logs_exp.isna().sum())\n",
    "display(logs_exp.head(5))\n",
    "print('_____________________________________________________________________________________________________')"
   ]
  },
  {
   "cell_type": "markdown",
   "metadata": {},
   "source": [
    "1. Удалим имующиеся дубликаты\n",
    "2. Преобразуем столбец event_times_tamp в datetime\n",
    "3. Добавим столбец с датой"
   ]
  },
  {
   "cell_type": "code",
   "execution_count": 34,
   "metadata": {},
   "outputs": [
    {
     "data": {
      "text/plain": [
       "0"
      ]
     },
     "execution_count": 34,
     "metadata": {},
     "output_type": "execute_result"
    }
   ],
   "source": [
    "# Удаление дубликатов\n",
    "logs_exp = logs_exp.drop_duplicates().reset_index(drop = True)\n",
    "logs_exp.duplicated().sum()"
   ]
  },
  {
   "cell_type": "code",
   "execution_count": 36,
   "metadata": {},
   "outputs": [
    {
     "data": {
      "text/html": [
       "<div>\n",
       "<style scoped>\n",
       "    .dataframe tbody tr th:only-of-type {\n",
       "        vertical-align: middle;\n",
       "    }\n",
       "\n",
       "    .dataframe tbody tr th {\n",
       "        vertical-align: top;\n",
       "    }\n",
       "\n",
       "    .dataframe thead th {\n",
       "        text-align: right;\n",
       "    }\n",
       "</style>\n",
       "<table border=\"1\" class=\"dataframe\">\n",
       "  <thead>\n",
       "    <tr style=\"text-align: right;\">\n",
       "      <th></th>\n",
       "      <th>event_name</th>\n",
       "      <th>device_id_hash</th>\n",
       "      <th>event_times_tamp</th>\n",
       "      <th>expld</th>\n",
       "      <th>date</th>\n",
       "    </tr>\n",
       "  </thead>\n",
       "  <tbody>\n",
       "    <tr>\n",
       "      <td>0</td>\n",
       "      <td>MainScreenAppear</td>\n",
       "      <td>4575588528974610257</td>\n",
       "      <td>2019-07-25 04:43:36</td>\n",
       "      <td>246</td>\n",
       "      <td>2019-07-25</td>\n",
       "    </tr>\n",
       "    <tr>\n",
       "      <td>1</td>\n",
       "      <td>MainScreenAppear</td>\n",
       "      <td>7416695313311560658</td>\n",
       "      <td>2019-07-25 11:11:42</td>\n",
       "      <td>246</td>\n",
       "      <td>2019-07-25</td>\n",
       "    </tr>\n",
       "    <tr>\n",
       "      <td>2</td>\n",
       "      <td>PaymentScreenSuccessful</td>\n",
       "      <td>3518123091307005509</td>\n",
       "      <td>2019-07-25 11:28:47</td>\n",
       "      <td>248</td>\n",
       "      <td>2019-07-25</td>\n",
       "    </tr>\n",
       "    <tr>\n",
       "      <td>3</td>\n",
       "      <td>CartScreenAppear</td>\n",
       "      <td>3518123091307005509</td>\n",
       "      <td>2019-07-25 11:28:47</td>\n",
       "      <td>248</td>\n",
       "      <td>2019-07-25</td>\n",
       "    </tr>\n",
       "    <tr>\n",
       "      <td>4</td>\n",
       "      <td>PaymentScreenSuccessful</td>\n",
       "      <td>6217807653094995999</td>\n",
       "      <td>2019-07-25 11:48:42</td>\n",
       "      <td>248</td>\n",
       "      <td>2019-07-25</td>\n",
       "    </tr>\n",
       "  </tbody>\n",
       "</table>\n",
       "</div>"
      ],
      "text/plain": [
       "                event_name       device_id_hash    event_times_tamp  expld       date\n",
       "0         MainScreenAppear  4575588528974610257 2019-07-25 04:43:36    246 2019-07-25\n",
       "1         MainScreenAppear  7416695313311560658 2019-07-25 11:11:42    246 2019-07-25\n",
       "2  PaymentScreenSuccessful  3518123091307005509 2019-07-25 11:28:47    248 2019-07-25\n",
       "3         CartScreenAppear  3518123091307005509 2019-07-25 11:28:47    248 2019-07-25\n",
       "4  PaymentScreenSuccessful  6217807653094995999 2019-07-25 11:48:42    248 2019-07-25"
      ]
     },
     "execution_count": 36,
     "metadata": {},
     "output_type": "execute_result"
    }
   ],
   "source": [
    "# Преобразование типов данных\n",
    "logs_exp['event_times_tamp'] = pd.to_datetime(logs_exp['event_times_tamp'], unit='s')\n",
    "logs_exp['date'] = logs_exp['event_times_tamp'].dt.date\n",
    "logs_exp['date'] = logs_exp['date'].astype('datetime64[ns]')\n",
    "logs_exp.head()"
   ]
  },
  {
   "cell_type": "markdown",
   "metadata": {},
   "source": [
    "## Изучение данных"
   ]
  },
  {
   "cell_type": "markdown",
   "metadata": {},
   "source": [
    "### Сколько всего событий в логе"
   ]
  },
  {
   "cell_type": "code",
   "execution_count": 37,
   "metadata": {},
   "outputs": [
    {
     "data": {
      "text/plain": [
       "MainScreenAppear           119101\n",
       "OffersScreenAppear          46808\n",
       "CartScreenAppear            42668\n",
       "PaymentScreenSuccessful     34118\n",
       "Tutorial                     1018\n",
       "Name: event_name, dtype: int64"
      ]
     },
     "execution_count": 37,
     "metadata": {},
     "output_type": "execute_result"
    }
   ],
   "source": [
    "logs_exp['event_name'].value_counts()"
   ]
  },
  {
   "cell_type": "code",
   "execution_count": 38,
   "metadata": {},
   "outputs": [
    {
     "data": {
      "text/plain": [
       "243713"
      ]
     },
     "execution_count": 38,
     "metadata": {},
     "output_type": "execute_result"
    }
   ],
   "source": [
    "logs_exp['event_name'].count()"
   ]
  },
  {
   "cell_type": "markdown",
   "metadata": {},
   "source": [
    "- 5 уникальных событий в логе\n",
    "\n",
    "- 243713 событий записано в data"
   ]
  },
  {
   "cell_type": "markdown",
   "metadata": {},
   "source": [
    "### Сколько всего пользователей в логе"
   ]
  },
  {
   "cell_type": "code",
   "execution_count": 39,
   "metadata": {},
   "outputs": [
    {
     "data": {
      "text/plain": [
       "7551"
      ]
     },
     "execution_count": 39,
     "metadata": {},
     "output_type": "execute_result"
    }
   ],
   "source": [
    "logs_exp['device_id_hash'].nunique()"
   ]
  },
  {
   "cell_type": "markdown",
   "metadata": {},
   "source": [
    "- В логе 7551 уникальных пользователей"
   ]
  },
  {
   "cell_type": "markdown",
   "metadata": {},
   "source": [
    "### Сколько в среднем событий приходится на пользователя"
   ]
  },
  {
   "cell_type": "code",
   "execution_count": 40,
   "metadata": {},
   "outputs": [
    {
     "data": {
      "text/plain": [
       "32"
      ]
     },
     "execution_count": 40,
     "metadata": {},
     "output_type": "execute_result"
    }
   ],
   "source": [
    "round(logs_exp['event_name'].count()/logs_exp['device_id_hash'].nunique())"
   ]
  },
  {
   "cell_type": "markdown",
   "metadata": {},
   "source": [
    "- В среднем 32 события приходится на 1 пользователя"
   ]
  },
  {
   "cell_type": "markdown",
   "metadata": {},
   "source": [
    "### За какой период данные"
   ]
  },
  {
   "cell_type": "code",
   "execution_count": 41,
   "metadata": {
    "scrolled": false
   },
   "outputs": [
    {
     "name": "stdout",
     "output_type": "stream",
     "text": [
      "min: 2019-07-25 00:00:00 max: 2019-08-07 00:00:00\n",
      "Количество дней: 13 days 00:00:00\n"
     ]
    }
   ],
   "source": [
    "print('min:',min(logs_exp['date']), 'max:',max(logs_exp['date']))\n",
    "print('Количество дней:',max(logs_exp['date'])-min(logs_exp['date']))"
   ]
  },
  {
   "cell_type": "code",
   "execution_count": 42,
   "metadata": {
    "scrolled": false
   },
   "outputs": [
    {
     "data": {
      "image/png": "[encoded data removed]",
      "text/plain": [
       "<Figure size 1584x504 with 1 Axes>"
      ]
     },
     "metadata": {
      "needs_background": "light"
     },
     "output_type": "display_data"
    }
   ],
   "source": [
    "# Построим гистрограмму по времени\n",
    "plt.rcParams.update({'font.size': 14})\n",
    "plt.title('Распределение событий по датам', fontsize = 18 )\n",
    "plt.ylabel('Количество событий', fontsize = 14)\n",
    "plt.xlabel('День', fontsize = 14)\n",
    "logs_exp['date'].hist(bins = 13, figsize = (22,7))\n",
    "plt.show()"
   ]
  },
  {
   "cell_type": "markdown",
   "metadata": {},
   "source": [
    "- Основная активность пользователей начинается с 1 августа 2019, поэтому сделаем срез по этой дате"
   ]
  },
  {
   "cell_type": "code",
   "execution_count": 44,
   "metadata": {
    "scrolled": true
   },
   "outputs": [
    {
     "data": {
      "text/plain": [
       "(Timestamp('2019-08-01 00:00:00'), Timestamp('2019-08-07 00:00:00'))"
      ]
     },
     "execution_count": 44,
     "metadata": {},
     "output_type": "execute_result"
    }
   ],
   "source": [
    "# Срез данных по дате\n",
    "logs_exp_query = logs_exp.query(\"date>='2019-08-01'\")\n",
    "logs_exp_query['date'].min(), logs_exp_query['date'].max()"
   ]
  },
  {
   "cell_type": "code",
   "execution_count": 46,
   "metadata": {
    "scrolled": true
   },
   "outputs": [
    {
     "name": "stdout",
     "output_type": "stream",
     "text": [
      "Количество потерянных событий\n",
      "1.16% - 2826\n",
      "\n"
     ]
    }
   ],
   "source": [
    "# Количество потерянных событий после среза\n",
    "print('Количество потерянных событий')\n",
    "print('{:.2%}'.format((1-logs_exp_query['event_name'].count()/logs_exp['event_name'].count())),'-',\\\n",
    "     logs_exp['event_name'].count()-logs_exp_query['event_name'].count())\n",
    "print()"
   ]
  },
  {
   "cell_type": "code",
   "execution_count": 47,
   "metadata": {},
   "outputs": [
    {
     "name": "stdout",
     "output_type": "stream",
     "text": [
      "Количество потерянных уникальных пользователей\n",
      "0.23% - 17\n"
     ]
    }
   ],
   "source": [
    "# Количество потерянных уникальных пользователей после среза\n",
    "print('Количество потерянных уникальных пользователей')\n",
    "print('{:.2%}'.format((1-logs_exp_query['device_id_hash'].nunique()/logs_exp['device_id_hash'].nunique())),'-',\\\n",
    "     logs_exp['device_id_hash'].nunique()-logs_exp_query['device_id_hash'].nunique())"
   ]
  },
  {
   "cell_type": "markdown",
   "metadata": {},
   "source": [
    "<div class=\"alert alert-success\">\n",
    "\n",
    "<b>✔️ Комментарий ревьюера:</b> Да, потери незначительны\n",
    "\n",
    "</div>"
   ]
  },
  {
   "cell_type": "code",
   "execution_count": 48,
   "metadata": {},
   "outputs": [
    {
     "name": "stdout",
     "output_type": "stream",
     "text": [
      "Проверка на вхождение пользователей во все группы\n"
     ]
    },
    {
     "data": {
      "text/plain": [
       "248    84563\n",
       "246    79302\n",
       "247    77022\n",
       "Name: expld, dtype: int64"
      ]
     },
     "execution_count": 48,
     "metadata": {},
     "output_type": "execute_result"
    }
   ],
   "source": [
    "print('Проверка на вхождение пользователей во все группы')\n",
    "logs_exp_query['expld'].value_counts()"
   ]
  },
  {
   "cell_type": "markdown",
   "metadata": {},
   "source": [
    "<div style=\"border:solid blue 2px; padding: 20px\"> <b>Вывод:</b><br>\n",
    "На этапе обработки данных были сделаны следующие преобразования:\n",
    "    \n",
    "    1. Изменены наименования столбцов\n",
    "    2. Преобразован столбец event_times_tamp в формат datetime\n",
    "    3. Добавлен столбце date c форматом datetime64[ns]\n",
    "    4. Сделан срез данных с периодом в 7 дней с 2019-08-01 по 2019-08-07\n",
    "    5. Потеря данных после среза по количеству событий составила 1.16% (2826 событий)\n",
    "    6. Потеря данных после среза по количеству уникальных пользователей составила 0.23% (17 уникальных пользователей)\n",
    "    7. После среза в выборке остались пользователи из всех трех групп\n",
    "    8. Потеря данных в 1% не повлияет на конечный результат при дальнейшем анализе \n",
    "</div>  "
   ]
  },
  {
   "cell_type": "markdown",
   "metadata": {},
   "source": [
    "## Воронка событий"
   ]
  },
  {
   "cell_type": "markdown",
   "metadata": {},
   "source": [
    "### Какие события встречаются в лого"
   ]
  },
  {
   "cell_type": "code",
   "execution_count": 49,
   "metadata": {},
   "outputs": [
    {
     "data": {
      "text/plain": [
       "MainScreenAppear           117328\n",
       "OffersScreenAppear          46333\n",
       "CartScreenAppear            42303\n",
       "PaymentScreenSuccessful     33918\n",
       "Tutorial                     1005\n",
       "Name: event_name, dtype: int64"
      ]
     },
     "execution_count": 49,
     "metadata": {},
     "output_type": "execute_result"
    }
   ],
   "source": [
    "logs_exp_query['event_name'].value_counts()"
   ]
  },
  {
   "cell_type": "markdown",
   "metadata": {},
   "source": [
    "- Main Screen Appear - переход на главную страницу\n",
    "- Offers Screen Appear - появление экрана предложений\n",
    "- Cart Screen Appear - переход в корзину\n",
    "- Payment Screen Successful - успешная оплата товара\n",
    "- Tutorial - обучение"
   ]
  },
  {
   "cell_type": "markdown",
   "metadata": {},
   "source": [
    "### Сколько пользователей совершали каждое из этих событий"
   ]
  },
  {
   "cell_type": "code",
   "execution_count": 51,
   "metadata": {},
   "outputs": [
    {
     "data": {
      "text/html": [
       "<div>\n",
       "<style scoped>\n",
       "    .dataframe tbody tr th:only-of-type {\n",
       "        vertical-align: middle;\n",
       "    }\n",
       "\n",
       "    .dataframe tbody tr th {\n",
       "        vertical-align: top;\n",
       "    }\n",
       "\n",
       "    .dataframe thead th {\n",
       "        text-align: right;\n",
       "    }\n",
       "</style>\n",
       "<table border=\"1\" class=\"dataframe\">\n",
       "  <thead>\n",
       "    <tr style=\"text-align: right;\">\n",
       "      <th></th>\n",
       "      <th>event_name</th>\n",
       "      <th>device_id_hash</th>\n",
       "    </tr>\n",
       "  </thead>\n",
       "  <tbody>\n",
       "    <tr>\n",
       "      <td>1</td>\n",
       "      <td>MainScreenAppear</td>\n",
       "      <td>7419</td>\n",
       "    </tr>\n",
       "    <tr>\n",
       "      <td>2</td>\n",
       "      <td>OffersScreenAppear</td>\n",
       "      <td>4593</td>\n",
       "    </tr>\n",
       "    <tr>\n",
       "      <td>0</td>\n",
       "      <td>CartScreenAppear</td>\n",
       "      <td>3734</td>\n",
       "    </tr>\n",
       "    <tr>\n",
       "      <td>3</td>\n",
       "      <td>PaymentScreenSuccessful</td>\n",
       "      <td>3539</td>\n",
       "    </tr>\n",
       "    <tr>\n",
       "      <td>4</td>\n",
       "      <td>Tutorial</td>\n",
       "      <td>840</td>\n",
       "    </tr>\n",
       "  </tbody>\n",
       "</table>\n",
       "</div>"
      ],
      "text/plain": [
       "                event_name  device_id_hash\n",
       "1         MainScreenAppear            7419\n",
       "2       OffersScreenAppear            4593\n",
       "0         CartScreenAppear            3734\n",
       "3  PaymentScreenSuccessful            3539\n",
       "4                 Tutorial             840"
      ]
     },
     "execution_count": 51,
     "metadata": {},
     "output_type": "execute_result"
    }
   ],
   "source": [
    "# Расчет количества уникальных пользователей по событиям\n",
    "logs_group = logs_exp_query.groupby('event_name').agg({'device_id_hash':'nunique'}).reset_index()\\\n",
    ".sort_values(by='device_id_hash', ascending = False)\n",
    "logs_group"
   ]
  },
  {
   "cell_type": "code",
   "execution_count": 52,
   "metadata": {},
   "outputs": [
    {
     "data": {
      "text/html": [
       "<div>\n",
       "<style scoped>\n",
       "    .dataframe tbody tr th:only-of-type {\n",
       "        vertical-align: middle;\n",
       "    }\n",
       "\n",
       "    .dataframe tbody tr th {\n",
       "        vertical-align: top;\n",
       "    }\n",
       "\n",
       "    .dataframe thead th {\n",
       "        text-align: right;\n",
       "    }\n",
       "</style>\n",
       "<table border=\"1\" class=\"dataframe\">\n",
       "  <thead>\n",
       "    <tr style=\"text-align: right;\">\n",
       "      <th></th>\n",
       "      <th>event_name</th>\n",
       "      <th>device_id_hash</th>\n",
       "      <th>share</th>\n",
       "    </tr>\n",
       "  </thead>\n",
       "  <tbody>\n",
       "    <tr>\n",
       "      <td>1</td>\n",
       "      <td>MainScreenAppear</td>\n",
       "      <td>7419</td>\n",
       "      <td>98.0</td>\n",
       "    </tr>\n",
       "    <tr>\n",
       "      <td>2</td>\n",
       "      <td>OffersScreenAppear</td>\n",
       "      <td>4593</td>\n",
       "      <td>61.0</td>\n",
       "    </tr>\n",
       "    <tr>\n",
       "      <td>0</td>\n",
       "      <td>CartScreenAppear</td>\n",
       "      <td>3734</td>\n",
       "      <td>50.0</td>\n",
       "    </tr>\n",
       "    <tr>\n",
       "      <td>3</td>\n",
       "      <td>PaymentScreenSuccessful</td>\n",
       "      <td>3539</td>\n",
       "      <td>47.0</td>\n",
       "    </tr>\n",
       "    <tr>\n",
       "      <td>4</td>\n",
       "      <td>Tutorial</td>\n",
       "      <td>840</td>\n",
       "      <td>11.0</td>\n",
       "    </tr>\n",
       "  </tbody>\n",
       "</table>\n",
       "</div>"
      ],
      "text/plain": [
       "                event_name  device_id_hash  share\n",
       "1         MainScreenAppear            7419   98.0\n",
       "2       OffersScreenAppear            4593   61.0\n",
       "0         CartScreenAppear            3734   50.0\n",
       "3  PaymentScreenSuccessful            3539   47.0\n",
       "4                 Tutorial             840   11.0"
      ]
     },
     "execution_count": 52,
     "metadata": {},
     "output_type": "execute_result"
    }
   ],
   "source": [
    "# Расчет воронки на каждом этапе продаж в процентах\n",
    "logs_group['share'] = round(logs_group['device_id_hash']/logs_exp_query['device_id_hash'].nunique()*100)\n",
    "logs_group"
   ]
  },
  {
   "cell_type": "markdown",
   "metadata": {},
   "source": [
    "Вероятнее всего, обучение происходит на этапе знакомства с приложением, возможно до момента открытия главной страницы. Далеко не все пользователи проходят его. Поэтому этап Tutorial не будем учитывать в нашей воронке продаж "
   ]
  },
  {
   "cell_type": "code",
   "execution_count": 53,
   "metadata": {},
   "outputs": [
    {
     "name": "stdout",
     "output_type": "stream",
     "text": [
      "MainScreenAppear: 100%\n",
      "OffersScreenAppear: 62%\n",
      "CartScreenAppear: 81%\n",
      "PaymentScreenSuccessful: 95%\n",
      "Доля пользователей дошедших от первого события до оплаты: 48%\n"
     ]
    }
   ],
   "source": [
    "print('MainScreenAppear: {:.0%}'.format(1))\n",
    "print('OffersScreenAppear: {:.0%}'.format(logs_group['device_id_hash'][2]/logs_group['device_id_hash'][1]))\n",
    "print('CartScreenAppear: {:.0%}'.format(logs_group['device_id_hash'][0]/logs_group['device_id_hash'][2]))\n",
    "print('PaymentScreenSuccessful: {:.0%}'.format(logs_group['device_id_hash'][3]/logs_group['device_id_hash'][0]))\n",
    "print('Доля пользователей дошедших от первого события до оплаты: {:.0%}'\\\n",
    "      .format(logs_group['device_id_hash'][3]/logs_group['device_id_hash'][1]))"
   ]
  },
  {
   "cell_type": "code",
   "execution_count": 54,
   "metadata": {
    "scrolled": false
   },
   "outputs": [
    {
     "data": {
      "application/vnd.plotly.v1+json": {
       "config": {
        "plotlyServerURL": "https://plot.ly"
       },
       "data": [
        {
         "type": "funnel",
         "x": [
          7419,
          4593,
          3734,
          3539
         ],
         "y": [
          "MainScreenAppear",
          "OffersScreenAppear",
          "CartScreenAppear",
          "PaymentScreenSuccessful"
         ]
        }
       ],
       "layout": {
        "template": {
         "data": {
          "bar": [
           {
            "error_x": {
             "color": "#2a3f5f"
            },
            "error_y": {
             "color": "#2a3f5f"
            },
            "marker": {
             "line": {
              "color": "#E5ECF6",
              "width": 0.5
             }
            },
            "type": "bar"
           }
          ],
          "barpolar": [
           {
            "marker": {
             "line": {
              "color": "#E5ECF6",
              "width": 0.5
             }
            },
            "type": "barpolar"
           }
          ],
          "carpet": [
           {
            "aaxis": {
             "endlinecolor": "#2a3f5f",
             "gridcolor": "white",
             "linecolor": "white",
             "minorgridcolor": "white",
             "startlinecolor": "#2a3f5f"
            },
            "baxis": {
             "endlinecolor": "#2a3f5f",
             "gridcolor": "white",
             "linecolor": "white",
             "minorgridcolor": "white",
             "startlinecolor": "#2a3f5f"
            },
            "type": "carpet"
           }
          ],
          "choropleth": [
           {
            "colorbar": {
             "outlinewidth": 0,
             "ticks": ""
            },
            "type": "choropleth"
           }
          ],
          "contour": [
           {
            "colorbar": {
             "outlinewidth": 0,
             "ticks": ""
            },
            "colorscale": [
             [
              0,
              "#0d0887"
             ],
             [
              0.1111111111111111,
              "#46039f"
             ],
             [
              0.2222222222222222,
              "#7201a8"
             ],
             [
              0.3333333333333333,
              "#9c179e"
             ],
             [
              0.4444444444444444,
              "#bd3786"
             ],
             [
              0.5555555555555556,
              "#d8576b"
             ],
             [
              0.6666666666666666,
              "#ed7953"
             ],
             [
              0.7777777777777778,
              "#fb9f3a"
             ],
             [
              0.8888888888888888,
              "#fdca26"
             ],
             [
              1,
              "#f0f921"
             ]
            ],
            "type": "contour"
           }
          ],
          "contourcarpet": [
           {
            "colorbar": {
             "outlinewidth": 0,
             "ticks": ""
            },
            "type": "contourcarpet"
           }
          ],
          "heatmap": [
           {
            "colorbar": {
             "outlinewidth": 0,
             "ticks": ""
            },
            "colorscale": [
             [
              0,
              "#0d0887"
             ],
             [
              0.1111111111111111,
              "#46039f"
             ],
             [
              0.2222222222222222,
              "#7201a8"
             ],
             [
              0.3333333333333333,
              "#9c179e"
             ],
             [
              0.4444444444444444,
              "#bd3786"
             ],
             [
              0.5555555555555556,
              "#d8576b"
             ],
             [
              0.6666666666666666,
              "#ed7953"
             ],
             [
              0.7777777777777778,
              "#fb9f3a"
             ],
             [
              0.8888888888888888,
              "#fdca26"
             ],
             [
              1,
              "#f0f921"
             ]
            ],
            "type": "heatmap"
           }
          ],
          "heatmapgl": [
           {
            "colorbar": {
             "outlinewidth": 0,
             "ticks": ""
            },
            "colorscale": [
             [
              0,
              "#0d0887"
             ],
             [
              0.1111111111111111,
              "#46039f"
             ],
             [
              0.2222222222222222,
              "#7201a8"
             ],
             [
              0.3333333333333333,
              "#9c179e"
             ],
             [
              0.4444444444444444,
              "#bd3786"
             ],
             [
              0.5555555555555556,
              "#d8576b"
             ],
             [
              0.6666666666666666,
              "#ed7953"
             ],
             [
              0.7777777777777778,
              "#fb9f3a"
             ],
             [
              0.8888888888888888,
              "#fdca26"
             ],
             [
              1,
              "#f0f921"
             ]
            ],
            "type": "heatmapgl"
           }
          ],
          "histogram": [
           {
            "marker": {
             "colorbar": {
              "outlinewidth": 0,
              "ticks": ""
             }
            },
            "type": "histogram"
           }
          ],
          "histogram2d": [
           {
            "colorbar": {
             "outlinewidth": 0,
             "ticks": ""
            },
            "colorscale": [
             [
              0,
              "#0d0887"
             ],
             [
              0.1111111111111111,
              "#46039f"
             ],
             [
              0.2222222222222222,
              "#7201a8"
             ],
             [
              0.3333333333333333,
              "#9c179e"
             ],
             [
              0.4444444444444444,
              "#bd3786"
             ],
             [
              0.5555555555555556,
              "#d8576b"
             ],
             [
              0.6666666666666666,
              "#ed7953"
             ],
             [
              0.7777777777777778,
              "#fb9f3a"
             ],
             [
              0.8888888888888888,
              "#fdca26"
             ],
             [
              1,
              "#f0f921"
             ]
            ],
            "type": "histogram2d"
           }
          ],
          "histogram2dcontour": [
           {
            "colorbar": {
             "outlinewidth": 0,
             "ticks": ""
            },
            "colorscale": [
             [
              0,
              "#0d0887"
             ],
             [
              0.1111111111111111,
              "#46039f"
             ],
             [
              0.2222222222222222,
              "#7201a8"
             ],
             [
              0.3333333333333333,
              "#9c179e"
             ],
             [
              0.4444444444444444,
              "#bd3786"
             ],
             [
              0.5555555555555556,
              "#d8576b"
             ],
             [
              0.6666666666666666,
              "#ed7953"
             ],
             [
              0.7777777777777778,
              "#fb9f3a"
             ],
             [
              0.8888888888888888,
              "#fdca26"
             ],
             [
              1,
              "#f0f921"
             ]
            ],
            "type": "histogram2dcontour"
           }
          ],
          "mesh3d": [
           {
            "colorbar": {
             "outlinewidth": 0,
             "ticks": ""
            },
            "type": "mesh3d"
           }
          ],
          "parcoords": [
           {
            "line": {
             "colorbar": {
              "outlinewidth": 0,
              "ticks": ""
             }
            },
            "type": "parcoords"
           }
          ],
          "scatter": [
           {
            "marker": {
             "colorbar": {
              "outlinewidth": 0,
              "ticks": ""
             }
            },
            "type": "scatter"
           }
          ],
          "scatter3d": [
           {
            "line": {
             "colorbar": {
              "outlinewidth": 0,
              "ticks": ""
             }
            },
            "marker": {
             "colorbar": {
              "outlinewidth": 0,
              "ticks": ""
             }
            },
            "type": "scatter3d"
           }
          ],
          "scattercarpet": [
           {
            "marker": {
             "colorbar": {
              "outlinewidth": 0,
              "ticks": ""
             }
            },
            "type": "scattercarpet"
           }
          ],
          "scattergeo": [
           {
            "marker": {
             "colorbar": {
              "outlinewidth": 0,
              "ticks": ""
             }
            },
            "type": "scattergeo"
           }
          ],
          "scattergl": [
           {
            "marker": {
             "colorbar": {
              "outlinewidth": 0,
              "ticks": ""
             }
            },
            "type": "scattergl"
           }
          ],
          "scattermapbox": [
           {
            "marker": {
             "colorbar": {
              "outlinewidth": 0,
              "ticks": ""
             }
            },
            "type": "scattermapbox"
           }
          ],
          "scatterpolar": [
           {
            "marker": {
             "colorbar": {
              "outlinewidth": 0,
              "ticks": ""
             }
            },
            "type": "scatterpolar"
           }
          ],
          "scatterpolargl": [
           {
            "marker": {
             "colorbar": {
              "outlinewidth": 0,
              "ticks": ""
             }
            },
            "type": "scatterpolargl"
           }
          ],
          "scatterternary": [
           {
            "marker": {
             "colorbar": {
              "outlinewidth": 0,
              "ticks": ""
             }
            },
            "type": "scatterternary"
           }
          ],
          "surface": [
           {
            "colorbar": {
             "outlinewidth": 0,
             "ticks": ""
            },
            "colorscale": [
             [
              0,
              "#0d0887"
             ],
             [
              0.1111111111111111,
              "#46039f"
             ],
             [
              0.2222222222222222,
              "#7201a8"
             ],
             [
              0.3333333333333333,
              "#9c179e"
             ],
             [
              0.4444444444444444,
              "#bd3786"
             ],
             [
              0.5555555555555556,
              "#d8576b"
             ],
             [
              0.6666666666666666,
              "#ed7953"
             ],
             [
              0.7777777777777778,
              "#fb9f3a"
             ],
             [
              0.8888888888888888,
              "#fdca26"
             ],
             [
              1,
              "#f0f921"
             ]
            ],
            "type": "surface"
           }
          ],
          "table": [
           {
            "cells": {
             "fill": {
              "color": "#EBF0F8"
             },
             "line": {
              "color": "white"
             }
            },
            "header": {
             "fill": {
              "color": "#C8D4E3"
             },
             "line": {
              "color": "white"
             }
            },
            "type": "table"
           }
          ]
         },
         "layout": {
          "annotationdefaults": {
           "arrowcolor": "#2a3f5f",
           "arrowhead": 0,
           "arrowwidth": 1
          },
          "colorscale": {
           "diverging": [
            [
             0,
             "#8e0152"
            ],
            [
             0.1,
             "#c51b7d"
            ],
            [
             0.2,
             "#de77ae"
            ],
            [
             0.3,
             "#f1b6da"
            ],
            [
             0.4,
             "#fde0ef"
            ],
            [
             0.5,
             "#f7f7f7"
            ],
            [
             0.6,
             "#e6f5d0"
            ],
            [
             0.7,
             "#b8e186"
            ],
            [
             0.8,
             "#7fbc41"
            ],
            [
             0.9,
             "#4d9221"
            ],
            [
             1,
             "#276419"
            ]
           ],
           "sequential": [
            [
             0,
             "#0d0887"
            ],
            [
             0.1111111111111111,
             "#46039f"
            ],
            [
             0.2222222222222222,
             "#7201a8"
            ],
            [
             0.3333333333333333,
             "#9c179e"
            ],
            [
             0.4444444444444444,
             "#bd3786"
            ],
            [
             0.5555555555555556,
             "#d8576b"
            ],
            [
             0.6666666666666666,
             "#ed7953"
            ],
            [
             0.7777777777777778,
             "#fb9f3a"
            ],
            [
             0.8888888888888888,
             "#fdca26"
            ],
            [
             1,
             "#f0f921"
            ]
           ],
           "sequentialminus": [
            [
             0,
             "#0d0887"
            ],
            [
             0.1111111111111111,
             "#46039f"
            ],
            [
             0.2222222222222222,
             "#7201a8"
            ],
            [
             0.3333333333333333,
             "#9c179e"
            ],
            [
             0.4444444444444444,
             "#bd3786"
            ],
            [
             0.5555555555555556,
             "#d8576b"
            ],
            [
             0.6666666666666666,
             "#ed7953"
            ],
            [
             0.7777777777777778,
             "#fb9f3a"
            ],
            [
             0.8888888888888888,
             "#fdca26"
            ],
            [
             1,
             "#f0f921"
            ]
           ]
          },
          "colorway": [
           "#636efa",
           "#EF553B",
           "#00cc96",
           "#ab63fa",
           "#FFA15A",
           "#19d3f3",
           "#FF6692",
           "#B6E880",
           "#FF97FF",
           "#FECB52"
          ],
          "font": {
           "color": "#2a3f5f"
          },
          "geo": {
           "bgcolor": "white",
           "lakecolor": "white",
           "landcolor": "#E5ECF6",
           "showlakes": true,
           "showland": true,
           "subunitcolor": "white"
          },
          "hoverlabel": {
           "align": "left"
          },
          "hovermode": "closest",
          "mapbox": {
           "style": "light"
          },
          "paper_bgcolor": "white",
          "plot_bgcolor": "#E5ECF6",
          "polar": {
           "angularaxis": {
            "gridcolor": "white",
            "linecolor": "white",
            "ticks": ""
           },
           "bgcolor": "#E5ECF6",
           "radialaxis": {
            "gridcolor": "white",
            "linecolor": "white",
            "ticks": ""
           }
          },
          "scene": {
           "xaxis": {
            "backgroundcolor": "#E5ECF6",
            "gridcolor": "white",
            "gridwidth": 2,
            "linecolor": "white",
            "showbackground": true,
            "ticks": "",
            "zerolinecolor": "white"
           },
           "yaxis": {
            "backgroundcolor": "#E5ECF6",
            "gridcolor": "white",
            "gridwidth": 2,
            "linecolor": "white",
            "showbackground": true,
            "ticks": "",
            "zerolinecolor": "white"
           },
           "zaxis": {
            "backgroundcolor": "#E5ECF6",
            "gridcolor": "white",
            "gridwidth": 2,
            "linecolor": "white",
            "showbackground": true,
            "ticks": "",
            "zerolinecolor": "white"
           }
          },
          "shapedefaults": {
           "line": {
            "color": "#2a3f5f"
           }
          },
          "ternary": {
           "aaxis": {
            "gridcolor": "white",
            "linecolor": "white",
            "ticks": ""
           },
           "baxis": {
            "gridcolor": "white",
            "linecolor": "white",
            "ticks": ""
           },
           "bgcolor": "#E5ECF6",
           "caxis": {
            "gridcolor": "white",
            "linecolor": "white",
            "ticks": ""
           }
          },
          "title": {
           "x": 0.05
          },
          "xaxis": {
           "automargin": true,
           "gridcolor": "white",
           "linecolor": "white",
           "ticks": "",
           "zerolinecolor": "white",
           "zerolinewidth": 2
          },
          "yaxis": {
           "automargin": true,
           "gridcolor": "white",
           "linecolor": "white",
           "ticks": "",
           "zerolinecolor": "white",
           "zerolinewidth": 2
          }
         }
        }
       }
      },
      "text/html": [
       "<div>\n",
       "        \n",
       "        \n",
       "            <div id=\"c02f77c5-3a84-43ae-9015-3cb1e1d7bc12\" class=\"plotly-graph-div\" style=\"height:525px; width:100%;\"></div>\n",
       "            <script type=\"text/javascript\">\n",
       "                require([\"plotly\"], function(Plotly) {\n",
       "                    window.PLOTLYENV=window.PLOTLYENV || {};\n",
       "                    \n",
       "                if (document.getElementById(\"c02f77c5-3a84-43ae-9015-3cb1e1d7bc12\")) {\n",
       "                    Plotly.newPlot(\n",
       "                        'c02f77c5-3a84-43ae-9015-3cb1e1d7bc12',\n",
       "                        [{\"type\": \"funnel\", \"x\": [7419, 4593, 3734, 3539], \"y\": [\"MainScreenAppear\", \"OffersScreenAppear\", \"CartScreenAppear\", \"PaymentScreenSuccessful\"]}],\n",
       "                        {\"template\": {\"data\": {\"bar\": [{\"error_x\": {\"color\": \"#2a3f5f\"}, \"error_y\": {\"color\": \"#2a3f5f\"}, \"marker\": {\"line\": {\"color\": \"#E5ECF6\", \"width\": 0.5}}, \"type\": \"bar\"}], \"barpolar\": [{\"marker\": {\"line\": {\"color\": \"#E5ECF6\", \"width\": 0.5}}, \"type\": \"barpolar\"}], \"carpet\": [{\"aaxis\": {\"endlinecolor\": \"#2a3f5f\", \"gridcolor\": \"white\", \"linecolor\": \"white\", \"minorgridcolor\": \"white\", \"startlinecolor\": \"#2a3f5f\"}, \"baxis\": {\"endlinecolor\": \"#2a3f5f\", \"gridcolor\": \"white\", \"linecolor\": \"white\", \"minorgridcolor\": \"white\", \"startlinecolor\": \"#2a3f5f\"}, \"type\": \"carpet\"}], \"choropleth\": [{\"colorbar\": {\"outlinewidth\": 0, \"ticks\": \"\"}, \"type\": \"choropleth\"}], \"contour\": [{\"colorbar\": {\"outlinewidth\": 0, \"ticks\": \"\"}, \"colorscale\": [[0.0, \"#0d0887\"], [0.1111111111111111, \"#46039f\"], [0.2222222222222222, \"#7201a8\"], [0.3333333333333333, \"#9c179e\"], [0.4444444444444444, \"#bd3786\"], [0.5555555555555556, \"#d8576b\"], [0.6666666666666666, \"#ed7953\"], [0.7777777777777778, \"#fb9f3a\"], [0.8888888888888888, \"#fdca26\"], [1.0, \"#f0f921\"]], \"type\": \"contour\"}], \"contourcarpet\": [{\"colorbar\": {\"outlinewidth\": 0, \"ticks\": \"\"}, \"type\": \"contourcarpet\"}], \"heatmap\": [{\"colorbar\": {\"outlinewidth\": 0, \"ticks\": \"\"}, \"colorscale\": [[0.0, \"#0d0887\"], [0.1111111111111111, \"#46039f\"], [0.2222222222222222, \"#7201a8\"], [0.3333333333333333, \"#9c179e\"], [0.4444444444444444, \"#bd3786\"], [0.5555555555555556, \"#d8576b\"], [0.6666666666666666, \"#ed7953\"], [0.7777777777777778, \"#fb9f3a\"], [0.8888888888888888, \"#fdca26\"], [1.0, \"#f0f921\"]], \"type\": \"heatmap\"}], \"heatmapgl\": [{\"colorbar\": {\"outlinewidth\": 0, \"ticks\": \"\"}, \"colorscale\": [[0.0, \"#0d0887\"], [0.1111111111111111, \"#46039f\"], [0.2222222222222222, \"#7201a8\"], [0.3333333333333333, \"#9c179e\"], [0.4444444444444444, \"#bd3786\"], [0.5555555555555556, \"#d8576b\"], [0.6666666666666666, \"#ed7953\"], [0.7777777777777778, \"#fb9f3a\"], [0.8888888888888888, \"#fdca26\"], [1.0, \"#f0f921\"]], \"type\": \"heatmapgl\"}], \"histogram\": [{\"marker\": {\"colorbar\": {\"outlinewidth\": 0, \"ticks\": \"\"}}, \"type\": \"histogram\"}], \"histogram2d\": [{\"colorbar\": {\"outlinewidth\": 0, \"ticks\": \"\"}, \"colorscale\": [[0.0, \"#0d0887\"], [0.1111111111111111, \"#46039f\"], [0.2222222222222222, \"#7201a8\"], [0.3333333333333333, \"#9c179e\"], [0.4444444444444444, \"#bd3786\"], [0.5555555555555556, \"#d8576b\"], [0.6666666666666666, \"#ed7953\"], [0.7777777777777778, \"#fb9f3a\"], [0.8888888888888888, \"#fdca26\"], [1.0, \"#f0f921\"]], \"type\": \"histogram2d\"}], \"histogram2dcontour\": [{\"colorbar\": {\"outlinewidth\": 0, \"ticks\": \"\"}, \"colorscale\": [[0.0, \"#0d0887\"], [0.1111111111111111, \"#46039f\"], [0.2222222222222222, \"#7201a8\"], [0.3333333333333333, \"#9c179e\"], [0.4444444444444444, \"#bd3786\"], [0.5555555555555556, \"#d8576b\"], [0.6666666666666666, \"#ed7953\"], [0.7777777777777778, \"#fb9f3a\"], [0.8888888888888888, \"#fdca26\"], [1.0, \"#f0f921\"]], \"type\": \"histogram2dcontour\"}], \"mesh3d\": [{\"colorbar\": {\"outlinewidth\": 0, \"ticks\": \"\"}, \"type\": \"mesh3d\"}], \"parcoords\": [{\"line\": {\"colorbar\": {\"outlinewidth\": 0, \"ticks\": \"\"}}, \"type\": \"parcoords\"}], \"scatter\": [{\"marker\": {\"colorbar\": {\"outlinewidth\": 0, \"ticks\": \"\"}}, \"type\": \"scatter\"}], \"scatter3d\": [{\"line\": {\"colorbar\": {\"outlinewidth\": 0, \"ticks\": \"\"}}, \"marker\": {\"colorbar\": {\"outlinewidth\": 0, \"ticks\": \"\"}}, \"type\": \"scatter3d\"}], \"scattercarpet\": [{\"marker\": {\"colorbar\": {\"outlinewidth\": 0, \"ticks\": \"\"}}, \"type\": \"scattercarpet\"}], \"scattergeo\": [{\"marker\": {\"colorbar\": {\"outlinewidth\": 0, \"ticks\": \"\"}}, \"type\": \"scattergeo\"}], \"scattergl\": [{\"marker\": {\"colorbar\": {\"outlinewidth\": 0, \"ticks\": \"\"}}, \"type\": \"scattergl\"}], \"scattermapbox\": [{\"marker\": {\"colorbar\": {\"outlinewidth\": 0, \"ticks\": \"\"}}, \"type\": \"scattermapbox\"}], \"scatterpolar\": [{\"marker\": {\"colorbar\": {\"outlinewidth\": 0, \"ticks\": \"\"}}, \"type\": \"scatterpolar\"}], \"scatterpolargl\": [{\"marker\": {\"colorbar\": {\"outlinewidth\": 0, \"ticks\": \"\"}}, \"type\": \"scatterpolargl\"}], \"scatterternary\": [{\"marker\": {\"colorbar\": {\"outlinewidth\": 0, \"ticks\": \"\"}}, \"type\": \"scatterternary\"}], \"surface\": [{\"colorbar\": {\"outlinewidth\": 0, \"ticks\": \"\"}, \"colorscale\": [[0.0, \"#0d0887\"], [0.1111111111111111, \"#46039f\"], [0.2222222222222222, \"#7201a8\"], [0.3333333333333333, \"#9c179e\"], [0.4444444444444444, \"#bd3786\"], [0.5555555555555556, \"#d8576b\"], [0.6666666666666666, \"#ed7953\"], [0.7777777777777778, \"#fb9f3a\"], [0.8888888888888888, \"#fdca26\"], [1.0, \"#f0f921\"]], \"type\": \"surface\"}], \"table\": [{\"cells\": {\"fill\": {\"color\": \"#EBF0F8\"}, \"line\": {\"color\": \"white\"}}, \"header\": {\"fill\": {\"color\": \"#C8D4E3\"}, \"line\": {\"color\": \"white\"}}, \"type\": \"table\"}]}, \"layout\": {\"annotationdefaults\": {\"arrowcolor\": \"#2a3f5f\", \"arrowhead\": 0, \"arrowwidth\": 1}, \"colorscale\": {\"diverging\": [[0, \"#8e0152\"], [0.1, \"#c51b7d\"], [0.2, \"#de77ae\"], [0.3, \"#f1b6da\"], [0.4, \"#fde0ef\"], [0.5, \"#f7f7f7\"], [0.6, \"#e6f5d0\"], [0.7, \"#b8e186\"], [0.8, \"#7fbc41\"], [0.9, \"#4d9221\"], [1, \"#276419\"]], \"sequential\": [[0.0, \"#0d0887\"], [0.1111111111111111, \"#46039f\"], [0.2222222222222222, \"#7201a8\"], [0.3333333333333333, \"#9c179e\"], [0.4444444444444444, \"#bd3786\"], [0.5555555555555556, \"#d8576b\"], [0.6666666666666666, \"#ed7953\"], [0.7777777777777778, \"#fb9f3a\"], [0.8888888888888888, \"#fdca26\"], [1.0, \"#f0f921\"]], \"sequentialminus\": [[0.0, \"#0d0887\"], [0.1111111111111111, \"#46039f\"], [0.2222222222222222, \"#7201a8\"], [0.3333333333333333, \"#9c179e\"], [0.4444444444444444, \"#bd3786\"], [0.5555555555555556, \"#d8576b\"], [0.6666666666666666, \"#ed7953\"], [0.7777777777777778, \"#fb9f3a\"], [0.8888888888888888, \"#fdca26\"], [1.0, \"#f0f921\"]]}, \"colorway\": [\"#636efa\", \"#EF553B\", \"#00cc96\", \"#ab63fa\", \"#FFA15A\", \"#19d3f3\", \"#FF6692\", \"#B6E880\", \"#FF97FF\", \"#FECB52\"], \"font\": {\"color\": \"#2a3f5f\"}, \"geo\": {\"bgcolor\": \"white\", \"lakecolor\": \"white\", \"landcolor\": \"#E5ECF6\", \"showlakes\": true, \"showland\": true, \"subunitcolor\": \"white\"}, \"hoverlabel\": {\"align\": \"left\"}, \"hovermode\": \"closest\", \"mapbox\": {\"style\": \"light\"}, \"paper_bgcolor\": \"white\", \"plot_bgcolor\": \"#E5ECF6\", \"polar\": {\"angularaxis\": {\"gridcolor\": \"white\", \"linecolor\": \"white\", \"ticks\": \"\"}, \"bgcolor\": \"#E5ECF6\", \"radialaxis\": {\"gridcolor\": \"white\", \"linecolor\": \"white\", \"ticks\": \"\"}}, \"scene\": {\"xaxis\": {\"backgroundcolor\": \"#E5ECF6\", \"gridcolor\": \"white\", \"gridwidth\": 2, \"linecolor\": \"white\", \"showbackground\": true, \"ticks\": \"\", \"zerolinecolor\": \"white\"}, \"yaxis\": {\"backgroundcolor\": \"#E5ECF6\", \"gridcolor\": \"white\", \"gridwidth\": 2, \"linecolor\": \"white\", \"showbackground\": true, \"ticks\": \"\", \"zerolinecolor\": \"white\"}, \"zaxis\": {\"backgroundcolor\": \"#E5ECF6\", \"gridcolor\": \"white\", \"gridwidth\": 2, \"linecolor\": \"white\", \"showbackground\": true, \"ticks\": \"\", \"zerolinecolor\": \"white\"}}, \"shapedefaults\": {\"line\": {\"color\": \"#2a3f5f\"}}, \"ternary\": {\"aaxis\": {\"gridcolor\": \"white\", \"linecolor\": \"white\", \"ticks\": \"\"}, \"baxis\": {\"gridcolor\": \"white\", \"linecolor\": \"white\", \"ticks\": \"\"}, \"bgcolor\": \"#E5ECF6\", \"caxis\": {\"gridcolor\": \"white\", \"linecolor\": \"white\", \"ticks\": \"\"}}, \"title\": {\"x\": 0.05}, \"xaxis\": {\"automargin\": true, \"gridcolor\": \"white\", \"linecolor\": \"white\", \"ticks\": \"\", \"zerolinecolor\": \"white\", \"zerolinewidth\": 2}, \"yaxis\": {\"automargin\": true, \"gridcolor\": \"white\", \"linecolor\": \"white\", \"ticks\": \"\", \"zerolinecolor\": \"white\", \"zerolinewidth\": 2}}}},\n",
       "                        {\"responsive\": true}\n",
       "                    ).then(function(){\n",
       "                            \n",
       "var gd = document.getElementById('c02f77c5-3a84-43ae-9015-3cb1e1d7bc12');\n",
       "var x = new MutationObserver(function (mutations, observer) {{\n",
       "        var display = window.getComputedStyle(gd).display;\n",
       "        if (!display || display === 'none') {{\n",
       "            console.log([gd, 'removed!']);\n",
       "            Plotly.purge(gd);\n",
       "            observer.disconnect();\n",
       "        }}\n",
       "}});\n",
       "\n",
       "// Listen for the removal of the full notebook cells\n",
       "var notebookContainer = gd.closest('#notebook-container');\n",
       "if (notebookContainer) {{\n",
       "    x.observe(notebookContainer, {childList: true});\n",
       "}}\n",
       "\n",
       "// Listen for the clearing of the current output cell\n",
       "var outputEl = gd.closest('.output');\n",
       "if (outputEl) {{\n",
       "    x.observe(outputEl, {childList: true});\n",
       "}}\n",
       "\n",
       "                        })\n",
       "                };\n",
       "                });\n",
       "            </script>\n",
       "        </div>"
      ]
     },
     "metadata": {},
     "output_type": "display_data"
    }
   ],
   "source": [
    "# Воронка продаж\n",
    "fig = go.Figure(\n",
    "    go.Funnel(\n",
    "        y=[\n",
    "            'MainScreenAppear',\n",
    "            'OffersScreenAppear',\n",
    "            'CartScreenAppear',\n",
    "            'PaymentScreenSuccessful',\n",
    "        ],\n",
    "        x=[7419, 4593, 3734, 3539],\n",
    "    )\n",
    ")\n",
    "fig.show()"
   ]
  },
  {
   "cell_type": "markdown",
   "metadata": {},
   "source": [
    "<div style=\"border:solid blue 2px; padding: 10px\"> <b>Вывод:</b><br>\n",
    "Воронка продаж показала следующие результаты:\n",
    "    \n",
    "1. В воронке продаж присутствуют следующие события\n",
    "\n",
    "    - Main Screen Appear - переход на главную страницу\n",
    "    - Offers Screen Appear - появление экрана предложений\n",
    "    - Cart Screen Appear - переход в корзину\n",
    "    - Payment Screen Successful - успешная оплата товара\n",
    "    - Tutorial - обучение\n",
    "\n",
    "    \n",
    "2. Самое частое событие в логе это 'Main Screen Appear' 117328. Эти события совершили 7419 уникальных пользователей это порядка 98% всех клиентов.\n",
    "    \n",
    "3. Распределение событий по количеству пользователей\n",
    "    - MainScreenAppear\t7419\n",
    "    - OffersScreenAppear\t4593\n",
    "    - CartScreenAppear\t3734\n",
    "    - PaymentScreenSuccessful\t3539\n",
    "    - Tutorial\t840\n",
    "\n",
    "    \n",
    "4. Лишним этапом можно назвать \"Tutorial\". Вероятнее всего, обучение происходит на этапе знакомства с приложением, возможно до момента открытия главной страницы. Далеко не все пользователи проходят его. Поэтому этап Tutorial не будем учитывать в нашей воронке продаж\n",
    "\n",
    "5. Воронка продаж имеет следующее распределение по процентам\n",
    "    - MainScreenAppear: 100%\n",
    "    - OffersScreenAppear: 62%\n",
    "    - CartScreenAppear: 81%\n",
    "    - PaymentScreenSuccessful: 95%\n",
    "\n",
    "    \n",
    "6. Самая маленькая конверсия при переходе с этапа 'Main Screen Appear' на этап 'Offers Screen Appear'\n",
    "    \n",
    "7. Доля пользователей дошедших от первого события до оплаты: 48%\n",
    "\n",
    "</div>  "
   ]
  },
  {
   "cell_type": "markdown",
   "metadata": {},
   "source": [
    "## Анализ эксперимента"
   ]
  },
  {
   "cell_type": "markdown",
   "metadata": {},
   "source": [
    "### Сколько пользователей в каждой экспериментальной группе?"
   ]
  },
  {
   "cell_type": "code",
   "execution_count": 55,
   "metadata": {},
   "outputs": [
    {
     "data": {
      "text/html": [
       "<div>\n",
       "<style scoped>\n",
       "    .dataframe tbody tr th:only-of-type {\n",
       "        vertical-align: middle;\n",
       "    }\n",
       "\n",
       "    .dataframe tbody tr th {\n",
       "        vertical-align: top;\n",
       "    }\n",
       "\n",
       "    .dataframe thead th {\n",
       "        text-align: right;\n",
       "    }\n",
       "</style>\n",
       "<table border=\"1\" class=\"dataframe\">\n",
       "  <thead>\n",
       "    <tr style=\"text-align: right;\">\n",
       "      <th></th>\n",
       "      <th>expld</th>\n",
       "      <th>device_id_hash</th>\n",
       "    </tr>\n",
       "  </thead>\n",
       "  <tbody>\n",
       "    <tr>\n",
       "      <td>0</td>\n",
       "      <td>246</td>\n",
       "      <td>2484</td>\n",
       "    </tr>\n",
       "    <tr>\n",
       "      <td>1</td>\n",
       "      <td>247</td>\n",
       "      <td>2513</td>\n",
       "    </tr>\n",
       "    <tr>\n",
       "      <td>2</td>\n",
       "      <td>248</td>\n",
       "      <td>2537</td>\n",
       "    </tr>\n",
       "  </tbody>\n",
       "</table>\n",
       "</div>"
      ],
      "text/plain": [
       "   expld  device_id_hash\n",
       "0    246            2484\n",
       "1    247            2513\n",
       "2    248            2537"
      ]
     },
     "execution_count": 55,
     "metadata": {},
     "output_type": "execute_result"
    }
   ],
   "source": [
    "group_expld = logs_exp_query.groupby('expld').agg({'device_id_hash':'nunique'}).reset_index()\n",
    "group_expld"
   ]
  },
  {
   "cell_type": "markdown",
   "metadata": {},
   "source": [
    "В трех группах примерно одинаковое количество уникальных пользователей около 2.5 тыс"
   ]
  },
  {
   "cell_type": "markdown",
   "metadata": {},
   "source": [
    "### Если ли статистические критерии разницу между выборками 246 и 247."
   ]
  },
  {
   "cell_type": "markdown",
   "metadata": {},
   "source": [
    "<div style=\"border:solid black 2px; padding: 20px\"> <b>Нулевая гипотеза:</b><br>\n",
    " Разница долей пользователей групп А/А (246/247) относительно общей выборки статистически не значима, доли равны\n",
    " \n",
    " <b>Альтернативная гипотеза:</b><br>\n",
    " Разница долей пользователей групп А/А (246/247) относительно общей выборки статистически значима, доли не равны\n",
    "</div>"
   ]
  },
  {
   "cell_type": "markdown",
   "metadata": {},
   "source": [
    "<b>Z-test<b>"
   ]
  },
  {
   "cell_type": "code",
   "execution_count": 56,
   "metadata": {},
   "outputs": [],
   "source": [
    "group_246 = group_expld.loc[group_expld['expld']==246,'device_id_hash'].sum()/group_expld['device_id_hash'].sum()\n",
    "group_247 = group_expld.loc[group_expld['expld']==247,'device_id_hash'].sum()/group_expld['device_id_hash'].sum()\n",
    "#group_247 = len(logs_exp_query.loc[logs_exp_query['expld']==247])/(len(logs_exp_query.loc[logs_exp_query['expld']==246])+len(logs_exp_query.loc[logs_exp_query['expld']==247]))"
   ]
  },
  {
   "cell_type": "code",
   "execution_count": 57,
   "metadata": {},
   "outputs": [
    {
     "name": "stdout",
     "output_type": "stream",
     "text": [
      "p-значение:  0.615804820320411\n",
      "Не получилось отвергнуть нулевую гипотезу, нет оснований считать доли разными\n",
      "\n"
     ]
    }
   ],
   "source": [
    "# Доли в первой и второй группе \n",
    "alpha = 0.05\n",
    "p1 = group_246\n",
    "p2 = group_247\n",
    "    \n",
    "    #пропорция успехов в комбинированном датасете:\n",
    "p_combined = (group_expld.loc[group_expld['expld']==246,'device_id_hash'].sum() + group_expld.loc[group_expld['expld']==247,'device_id_hash'].sum()) / \\\n",
    "(2*group_expld['device_id_hash'].sum())\n",
    "    \n",
    "    # разница пропорций в датасетах\n",
    "difference = p1-p2\n",
    "    \n",
    "    #считаем статистику в ст.отклонениях стандартного нормального распределения\n",
    "z_value = difference/mth.sqrt(p_combined*(1-p_combined)*(2/group_expld['device_id_hash'].sum()))\n",
    "    \n",
    "    # задаем стандартное нормальное распределение (среднее 0, ст.отклонение 1)\n",
    "distr = st.norm(0, 1)\n",
    "    \n",
    "    \n",
    "p_value = (1 - distr.cdf(abs(z_value))) * 2\n",
    "\n",
    "print('p-значение: ', p_value)\n",
    "\n",
    "if p_value < alpha:\n",
    "    print('Отвергаем нулевую гипотезу: между долями есть значимая разница')\n",
    "else:\n",
    "    print('Не получилось отвергнуть нулевую гипотезу, нет оснований считать доли разными\\n') "
   ]
  },
  {
   "cell_type": "markdown",
   "metadata": {},
   "source": [
    "### Анализ контрольных групп 246 247"
   ]
  },
  {
   "cell_type": "code",
   "execution_count": 58,
   "metadata": {
    "scrolled": true
   },
   "outputs": [],
   "source": [
    "# Сгруппируем контрольные группы для тестирования\n",
    "z_group_246 = logs_exp_query.loc[logs_exp_query['expld']==246].groupby('event_name').agg({'device_id_hash':'nunique'}).reset_index()\\\n",
    ".sort_values(by = 'device_id_hash', ascending = False)\n",
    "z_group_247 = logs_exp_query.loc[logs_exp_query['expld']==247].groupby('event_name').agg({'device_id_hash':'nunique'}).reset_index()\\\n",
    ".sort_values(by = 'device_id_hash', ascending = False)\n",
    "z_group_246['share'] = z_group_246['device_id_hash']/z_group_246['device_id_hash'].sum()\n",
    "z_group_247['share'] = z_group_247['device_id_hash']/z_group_247['device_id_hash'].sum()"
   ]
  },
  {
   "cell_type": "markdown",
   "metadata": {},
   "source": [
    "Напишем функцию для сравнения контрольных групп"
   ]
  },
  {
   "cell_type": "code",
   "execution_count": 59,
   "metadata": {
    "scrolled": true
   },
   "outputs": [],
   "source": [
    "# Функция сравнения контрольных групп с экспериментальной\n",
    "def z_test (group_1, group_2,alpha):\n",
    "    event_n = ['MainScreenAppear','OffersScreenAppear','CartScreenAppear','PaymentScreenSuccessful']\n",
    "    for row in event_n:\n",
    "    # Доли в первой и второй группе \n",
    "        p1 = group_1.loc[group_1['event_name']==row,'share']\n",
    "        p2 = group_2.loc[group_2['event_name']==row,'share']\n",
    "    \n",
    "    #пропорция успехов в комбинированном датасете:\n",
    "        p_combined = (group_1.loc[group_1['event_name']==row,'device_id_hash'] + group_2.loc[group_2['event_name']==row,'device_id_hash']) / \\\n",
    "(group_1['device_id_hash'].sum()+group_2['device_id_hash'].sum())\n",
    "    \n",
    "    # разница пропорций в датасетах\n",
    "        difference = p1-p2\n",
    "    \n",
    "    #считаем статистику в ст.отклонениях стандартного нормального распределения\n",
    "        z_value = difference/mth.sqrt(p_combined*(1-p_combined)*(1/group_1['device_id_hash'].sum()+1/group_2['device_id_hash'].sum()))\n",
    "    \n",
    "    # задаем стандартное нормальное распределение (среднее 0, ст.отклонение 1)\n",
    "        distr = st.norm(0, 1)\n",
    "    \n",
    "    \n",
    "        p_value = (1 - distr.cdf(abs(z_value))) * 2\n",
    "\n",
    "        print('Этап воронки: \"{}\"'.format(row))\n",
    "        print('p-значение: ', p_value)\n",
    "\n",
    "        if p_value < alpha:\n",
    "            print('Отвергаем нулевую гипотезу: между долями есть значимая разница')\n",
    "        else:\n",
    "            print('Не получилось отвергнуть нулевую гипотезу, нет оснований считать доли разными\\n') "
   ]
  },
  {
   "cell_type": "markdown",
   "metadata": {},
   "source": [
    "<div style=\"border:solid black 2px; padding: 20px\"> <b>Нулевая гипотеза:</b><br>\n",
    " Разница долей пользователей групп А/А (246/247) на каждом этапе воронки продаж статистически не значима, доли равны\n",
    " \n",
    " <b>Альтернативная гипотеза:</b><br>\n",
    " Разница долей пользователей групп А/А (246/247) на каждом этапе воронки продаж статистически значима, доли не равны\n",
    "</div>"
   ]
  },
  {
   "cell_type": "code",
   "execution_count": 60,
   "metadata": {},
   "outputs": [
    {
     "name": "stdout",
     "output_type": "stream",
     "text": [
      "Этап воронки: \"MainScreenAppear\"\n",
      "p-значение:  [0.38589665]\n",
      "Не получилось отвергнуть нулевую гипотезу, нет оснований считать доли разными\n",
      "\n",
      "Этап воронки: \"OffersScreenAppear\"\n",
      "p-значение:  [0.86810218]\n",
      "Не получилось отвергнуть нулевую гипотезу, нет оснований считать доли разными\n",
      "\n",
      "Этап воронки: \"CartScreenAppear\"\n",
      "p-значение:  [0.71280924]\n",
      "Не получилось отвергнуть нулевую гипотезу, нет оснований считать доли разными\n",
      "\n",
      "Этап воронки: \"PaymentScreenSuccessful\"\n",
      "p-значение:  [0.47805195]\n",
      "Не получилось отвергнуть нулевую гипотезу, нет оснований считать доли разными\n",
      "\n"
     ]
    }
   ],
   "source": [
    "z_test(z_group_246,z_group_247,0.05)"
   ]
  },
  {
   "cell_type": "markdown",
   "metadata": {},
   "source": [
    "Разбиение на контрольные группы работает корректно. Между контрольными группами 246 и 247 нет различий. Невозможно отвергнуть нулевую гипотезу о равенстве двух выборок. Данные группы статистически равны"
   ]
  },
  {
   "cell_type": "markdown",
   "metadata": {},
   "source": [
    "### Сравнение групп 248 с 246, 248 с 247, 248 с Sum (246,247)"
   ]
  },
  {
   "cell_type": "markdown",
   "metadata": {},
   "source": [
    "<div style=\"border:solid blue 2px; padding: 10px\"> <b>Выбор уровня статистической значимости:</b><br>\n",
    "\n",
    "Уровень статистической значимости был выбран стандартный. Для выбора другого уровня стат. значимости необходима история тестов и какие результаты происходят после этого. Увеличение продаж, или отток клиентов и т.д.\n",
    "\n",
    "Так как мы проводим множественного тестирование и чтобы избежать неверно принятые или отвергнутые гипотезы, воспользуемся методом Шидака для корректировки уровня стат.значимости\n",
    "\n",
    "Количество тестов = 12\n",
    "\n",
    "Уровень стат.значимости = 1-(1-0,05)^(1/16) = 0.0043\n",
    "\n",
    "При тестировании гипотез с новым значением alpha, нам не удалось отвергнуть нулевую гипотезу ни в одном случае.\n",
    "</div>  "
   ]
  },
  {
   "cell_type": "code",
   "execution_count": 61,
   "metadata": {},
   "outputs": [],
   "source": [
    "# Отберем экспериментальную группу\n",
    "z_group_248 = logs_exp_query.loc[logs_exp_query['expld']==248].groupby('event_name').agg({'device_id_hash':'nunique'}).reset_index()\\\n",
    ".sort_values(by = 'device_id_hash', ascending = False)\n",
    "z_group_248['share'] = z_group_248['device_id_hash']/z_group_248['device_id_hash'].sum()\n",
    "\n",
    "# Суммарная группа без экспериментальной\n",
    "z_group_sum = logs_exp_query.loc[logs_exp_query['expld']!=248].groupby('event_name').agg({'device_id_hash':'nunique'}).reset_index()\\\n",
    ".sort_values(by = 'device_id_hash', ascending = False)\n",
    "z_group_sum['share'] = z_group_sum['device_id_hash']/z_group_sum['device_id_hash'].sum()"
   ]
  },
  {
   "cell_type": "markdown",
   "metadata": {},
   "source": [
    "<div style=\"border:solid black 2px; padding: 20px\"> <b>Нулевая гипотеза:</b><br>\n",
    " Разница долей пользователей групп B/А (248/246) на каждом этапе воронки продаж статистически не значима, доли равны\n",
    " \n",
    " <b>Альтернативная гипотеза:</b><br>\n",
    " Разница долей пользователей групп B/А (248/246) на каждом этапе воронки продаж статистически значима, доли не равны\n",
    "</div>"
   ]
  },
  {
   "cell_type": "markdown",
   "metadata": {},
   "source": [
    "Сравнение группы 248 с 246"
   ]
  },
  {
   "cell_type": "code",
   "execution_count": 62,
   "metadata": {
    "scrolled": true
   },
   "outputs": [
    {
     "name": "stdout",
     "output_type": "stream",
     "text": [
      "Этап воронки: \"MainScreenAppear\"\n",
      "p-значение:  [0.96395635]\n",
      "Не получилось отвергнуть нулевую гипотезу, нет оснований считать доли разными\n",
      "\n",
      "Этап воронки: \"OffersScreenAppear\"\n",
      "p-значение:  [0.96527644]\n",
      "Не получилось отвергнуть нулевую гипотезу, нет оснований считать доли разными\n",
      "\n",
      "Этап воронки: \"CartScreenAppear\"\n",
      "p-значение:  [0.73496329]\n",
      "Не получилось отвергнуть нулевую гипотезу, нет оснований считать доли разными\n",
      "\n",
      "Этап воронки: \"PaymentScreenSuccessful\"\n",
      "p-значение:  [0.7125605]\n",
      "Не получилось отвергнуть нулевую гипотезу, нет оснований считать доли разными\n",
      "\n"
     ]
    }
   ],
   "source": [
    "z_test(z_group_248,z_group_247,0.0043)"
   ]
  },
  {
   "cell_type": "markdown",
   "metadata": {},
   "source": [
    "<div style=\"border:solid black 2px; padding: 20px\"> <b>Нулевая гипотеза:</b><br>\n",
    " Разница долей пользователей групп B/А (248/247) на каждом этапе воронки продаж статистически не значима, доли равны\n",
    " \n",
    " <b>Альтернативная гипотеза:</b><br>\n",
    " Разница долей пользователей групп B/А (248/247) на каждом этапе воронки продаж статистически значима, доли не равны\n",
    "</div>"
   ]
  },
  {
   "cell_type": "markdown",
   "metadata": {},
   "source": [
    "Сравнение группы 248 с 247"
   ]
  },
  {
   "cell_type": "code",
   "execution_count": 63,
   "metadata": {
    "scrolled": false
   },
   "outputs": [
    {
     "name": "stdout",
     "output_type": "stream",
     "text": [
      "Этап воронки: \"MainScreenAppear\"\n",
      "p-значение:  [0.96395635]\n",
      "Не получилось отвергнуть нулевую гипотезу, нет оснований считать доли разными\n",
      "\n",
      "Этап воронки: \"OffersScreenAppear\"\n",
      "p-значение:  [0.96527644]\n",
      "Не получилось отвергнуть нулевую гипотезу, нет оснований считать доли разными\n",
      "\n",
      "Этап воронки: \"CartScreenAppear\"\n",
      "p-значение:  [0.73496329]\n",
      "Не получилось отвергнуть нулевую гипотезу, нет оснований считать доли разными\n",
      "\n",
      "Этап воронки: \"PaymentScreenSuccessful\"\n",
      "p-значение:  [0.7125605]\n",
      "Не получилось отвергнуть нулевую гипотезу, нет оснований считать доли разными\n",
      "\n"
     ]
    }
   ],
   "source": [
    "z_test(z_group_248,z_group_247,0.0043)"
   ]
  },
  {
   "cell_type": "markdown",
   "metadata": {},
   "source": [
    "<div style=\"border:solid black 2px; padding: 20px\"> <b>Нулевая гипотеза:</b><br>\n",
    " Разница долей пользователей группы B(248) с объединенной группой А/A (246/247) на каждом этапе воронки продаж статистически не значима, доли равны\n",
    " \n",
    " <b>Альтернативная гипотеза:</b><br>\n",
    " Разница долей пользователей группы B(248) с объединенной группой А/A (246/247) на каждом этапе воронки продаж статистически значима, доли не равны\n",
    "</div>"
   ]
  },
  {
   "cell_type": "markdown",
   "metadata": {},
   "source": [
    "Сравнение группы 248 с Sum (246,247)"
   ]
  },
  {
   "cell_type": "code",
   "execution_count": 65,
   "metadata": {
    "scrolled": true
   },
   "outputs": [
    {
     "name": "stdout",
     "output_type": "stream",
     "text": [
      "Этап воронки: \"MainScreenAppear\"\n",
      "p-значение:  [0.57886627]\n",
      "Не получилось отвергнуть нулевую гипотезу, нет оснований считать доли разными\n",
      "\n",
      "Этап воронки: \"OffersScreenAppear\"\n",
      "p-значение:  [0.96325525]\n",
      "Не получилось отвергнуть нулевую гипотезу, нет оснований считать доли разными\n",
      "\n",
      "Этап воронки: \"CartScreenAppear\"\n",
      "p-значение:  [0.54551553]\n",
      "Не получилось отвергнуть нулевую гипотезу, нет оснований считать доли разными\n",
      "\n",
      "Этап воронки: \"PaymentScreenSuccessful\"\n",
      "p-значение:  [0.98944572]\n",
      "Не получилось отвергнуть нулевую гипотезу, нет оснований считать доли разными\n",
      "\n"
     ]
    }
   ],
   "source": [
    "z_test(z_group_248,z_group_sum,0.0043)"
   ]
  },
  {
   "cell_type": "markdown",
   "metadata": {},
   "source": [
    "<div style=\"border:solid blue 2px; padding: 10px\"> <b>Вывод:</b><br>\n",
    "\n",
    "1. В трех группах примерно одинаковое количество уникальных пользователей около 2.5 тыс\n",
    "\n",
    "2. Разница в количестве целевых действий в группах A и A статистически не значима\n",
    "\n",
    "3. Разбиение на контрольные группы работает корректно. Между контрольными группами 246 и 247 нет различий. Невозможно отвергнуть нулевую гипотезу о равенстве двух выборок. Данные группы статистически равны\n",
    "\n",
    "4. В ходе работы было проведено 16 тестов с уровнем стат.значитмости 0,05. Разницы между контрольными и экспериментальной группой не было выявлено. \n",
    "\n",
    "</div>  "
   ]
  },
  {
   "cell_type": "markdown",
   "metadata": {},
   "source": [
    "<div style=\"border:solid blue 2px; padding: 10px\"> <b>Общий вывод:</b><br>\n",
    "<b>На этапе обработки данных были сделаны следующие преобразования:</b><br>\n",
    "    \n",
    "    1. Изменены наименования столбцов\n",
    "    2. Преобразован столбец event_times_tamp в формат datetime\n",
    "    3. Добавлен столбце date c форматом datetime64[ns]\n",
    "    4. Сделан срез данных с периодом в 7 дней с 2019-08-01 по 2019-08-07\n",
    "    5. Потеря данных после среза по количеству событий составила 1.16% (2826 событий)\n",
    "    6. Потеря данных после среза по количеству уникальных пользователей составила 0.23% (17 уникальных пользователей)\n",
    "    7. После среза в выборке остались пользователи из всех трех групп\n",
    "    8. Потеря данных в 1% не повлияет на конечный результат при дальнейшем анализе \n",
    "\n",
    "<b>Анализ воронки продаж:</b><br>\n",
    "    \n",
    "1. В воронке продаж присутствуют следующие события\n",
    "\n",
    "    - Main Screen Appear - переход на главную страницу\n",
    "    - Offers Screen Appear - появление экрана предложений\n",
    "    - Cart Screen Appear - переход в корзину\n",
    "    - Payment Screen Successful - успешная оплата товара\n",
    "    - Tutorial - обучение\n",
    "\n",
    "    \n",
    "2. Самое частое событие в логе это 'Main Screen Appear' 117328. Эти события совершили 7419 уникальных пользователей это порядка 98% всех клиентов.\n",
    "    \n",
    "3. Распределение событий по количеству пользователей\n",
    "    - MainScreenAppear\t7419\n",
    "    - OffersScreenAppear\t4593\n",
    "    - CartScreenAppear\t3734\n",
    "    - PaymentScreenSuccessful\t3539\n",
    "    - Tutorial\t840\n",
    "\n",
    "    \n",
    "4. Лишним этапом можно назвать \"Tutorial\". Вероятнее всего, обучение происходит на этапе знакомства с приложением, возможно до момента открытия главной страницы. Далеко не все пользователи проходят его. Поэтому этап Tutorial не будем учитывать в нашей воронке продаж\n",
    "\n",
    "5. Воронка продаж имеет следующее распределение по процентам\n",
    "    - MainScreenAppear: 100%\n",
    "    - OffersScreenAppear: 62%\n",
    "    - CartScreenAppear: 81%\n",
    "    - PaymentScreenSuccessful: 95%\n",
    "\n",
    "    \n",
    "6. Самая маленькая конверсия при переходе с этапа 'Main Screen Appear' на этап 'Offers Screen Appear'\n",
    "    \n",
    "7. Доля пользователей дошедших от первого события до оплаты: 48%\n",
    "\n",
    "<b>Анализ групп А/А/В тестирования:</b><br>\n",
    "\n",
    "1. В трех группах примерно одинаковое количество уникальных пользователей около 2.5 тыс\n",
    "\n",
    "2. Разница в количестве целевых действий в группах A и A статистически не значима\n",
    "\n",
    "3. Разбиение на контрольные группы работает корректно. Между контрольными группами 246 и 247 нет различий. Невозможно отвергнуть нулевую гипотезу о равенстве двух выборок. Данные группы статистически равны\n",
    "\n",
    "4. В ходе работы было проведено 16 тестов с уровнем стат.значитмости 0,05. Разницы между контрольными и экспериментальной группой не было выявлено.\n",
    "\n",
    "<b>Заключение:</b><br>\n",
    "1. Менеджерам можно не переживать и смело менять дизайн приложения. Результаты тестирования показали, что разницы в долях на каждом этапе воронки продаж между контрольными и экспериментальной группами не было выявлено. Пользователи ведут себя одинаково.\n",
    "\n",
    "2. Было найдено слабое место в воронке продаж. При переходе с первого этапа воронки MainScreenAppear на второй OffersScreenAppear остается порядка 62% всех пользователей. Это самая низкая конверсия относительно других этапов воронки. Необходимо провести дополнительное тестирование и выявить причину такого большого оттока пользователей на данном этапе.\n",
    "\n",
    "3. Необходимо подумать над этапом Tutorial. Обучение проходит всего 11% от всех пользователей. Возможно это является причиной большого оттока пользователей при переходе с первого этапа воронки на второй. Провести анализ удобства пользовательского интерфейса, возможно потребуются доработки по части улучшения интерфейса."
   ]
  }
 ],
 "metadata": {
  "ExecuteTimeLog": [
   {
    "duration": 1173,
    "start_time": "2021-12-18T05:24:35.750Z"
   },
   {
    "duration": 274,
    "start_time": "2021-12-18T06:29:39.973Z"
   },
   {
    "duration": 154,
    "start_time": "2021-12-18T06:29:59.933Z"
   },
   {
    "duration": 309,
    "start_time": "2021-12-18T06:30:05.941Z"
   },
   {
    "duration": 286,
    "start_time": "2021-12-18T06:30:11.386Z"
   },
   {
    "duration": 120,
    "start_time": "2021-12-18T06:30:25.215Z"
   },
   {
    "duration": 125,
    "start_time": "2021-12-18T06:32:39.599Z"
   },
   {
    "duration": 90,
    "start_time": "2021-12-18T06:34:24.625Z"
   },
   {
    "duration": 85,
    "start_time": "2021-12-18T06:36:50.682Z"
   },
   {
    "duration": 4,
    "start_time": "2021-12-18T08:13:51.434Z"
   },
   {
    "duration": 186,
    "start_time": "2021-12-18T08:13:52.138Z"
   },
   {
    "duration": 80,
    "start_time": "2021-12-18T08:13:52.757Z"
   },
   {
    "duration": 7,
    "start_time": "2021-12-18T08:14:20.859Z"
   },
   {
    "duration": 59,
    "start_time": "2021-12-18T08:15:32.629Z"
   },
   {
    "duration": 198,
    "start_time": "2021-12-18T08:16:04.379Z"
   },
   {
    "duration": 11,
    "start_time": "2021-12-18T08:19:10.103Z"
   },
   {
    "duration": 35,
    "start_time": "2021-12-18T08:19:37.477Z"
   },
   {
    "duration": 209,
    "start_time": "2021-12-18T08:20:21.644Z"
   },
   {
    "duration": 21,
    "start_time": "2021-12-18T08:20:22.810Z"
   },
   {
    "duration": 4,
    "start_time": "2021-12-18T08:20:30.431Z"
   },
   {
    "duration": 123,
    "start_time": "2021-12-18T08:20:30.963Z"
   },
   {
    "duration": 76,
    "start_time": "2021-12-18T08:20:31.868Z"
   },
   {
    "duration": 95,
    "start_time": "2021-12-18T08:20:33.927Z"
   },
   {
    "duration": 21,
    "start_time": "2021-12-18T08:20:34.800Z"
   },
   {
    "duration": 9,
    "start_time": "2021-12-18T08:21:21.506Z"
   },
   {
    "duration": 19,
    "start_time": "2021-12-18T08:21:34.074Z"
   },
   {
    "duration": 82,
    "start_time": "2021-12-18T08:26:01.534Z"
   },
   {
    "duration": 14,
    "start_time": "2021-12-18T08:41:26.568Z"
   },
   {
    "duration": 40,
    "start_time": "2021-12-18T08:43:31.828Z"
   },
   {
    "duration": 13,
    "start_time": "2021-12-18T08:47:13.460Z"
   },
   {
    "duration": 408,
    "start_time": "2021-12-18T08:50:56.370Z"
   },
   {
    "duration": 7,
    "start_time": "2021-12-18T08:51:04.881Z"
   },
   {
    "duration": 15,
    "start_time": "2021-12-18T09:11:45.524Z"
   },
   {
    "duration": 15,
    "start_time": "2021-12-18T09:12:05.835Z"
   },
   {
    "duration": 35,
    "start_time": "2021-12-18T09:16:57.714Z"
   },
   {
    "duration": 35,
    "start_time": "2021-12-18T09:17:32.332Z"
   },
   {
    "duration": 20,
    "start_time": "2021-12-18T09:18:12.994Z"
   },
   {
    "duration": 37,
    "start_time": "2021-12-18T09:19:10.839Z"
   },
   {
    "duration": 71,
    "start_time": "2021-12-18T09:20:19.210Z"
   },
   {
    "duration": 90,
    "start_time": "2021-12-18T09:20:55.958Z"
   },
   {
    "duration": 73,
    "start_time": "2021-12-18T09:21:01.219Z"
   },
   {
    "duration": 638,
    "start_time": "2021-12-18T09:21:11.881Z"
   },
   {
    "duration": 1128,
    "start_time": "2021-12-18T09:22:35.189Z"
   },
   {
    "duration": 1199,
    "start_time": "2021-12-18T09:22:47.219Z"
   },
   {
    "duration": 79,
    "start_time": "2021-12-18T09:23:06.938Z"
   },
   {
    "duration": 417,
    "start_time": "2021-12-18T09:26:55.374Z"
   },
   {
    "duration": 575,
    "start_time": "2021-12-18T09:28:23.367Z"
   },
   {
    "duration": 499,
    "start_time": "2021-12-18T09:28:59.033Z"
   },
   {
    "duration": 357,
    "start_time": "2021-12-18T09:29:54.328Z"
   },
   {
    "duration": 492,
    "start_time": "2021-12-18T09:30:32.157Z"
   },
   {
    "duration": 520,
    "start_time": "2021-12-18T09:30:44.159Z"
   },
   {
    "duration": 649,
    "start_time": "2021-12-18T09:31:06.489Z"
   },
   {
    "duration": 560,
    "start_time": "2021-12-18T09:34:26.717Z"
   },
   {
    "duration": 1096,
    "start_time": "2021-12-18T10:02:49.936Z"
   },
   {
    "duration": 1101,
    "start_time": "2021-12-18T10:03:23.897Z"
   },
   {
    "duration": 1281,
    "start_time": "2021-12-18T10:06:45.468Z"
   },
   {
    "duration": 47,
    "start_time": "2021-12-18T10:13:45.815Z"
   },
   {
    "duration": 24,
    "start_time": "2021-12-18T10:13:53.878Z"
   },
   {
    "duration": 12,
    "start_time": "2021-12-18T10:13:54.709Z"
   },
   {
    "duration": 6,
    "start_time": "2021-12-18T10:13:56.572Z"
   },
   {
    "duration": 13,
    "start_time": "2021-12-18T10:13:59.652Z"
   },
   {
    "duration": 2197,
    "start_time": "2021-12-18T10:14:01.210Z"
   },
   {
    "duration": 402,
    "start_time": "2021-12-18T10:14:07.564Z"
   },
   {
    "duration": 15,
    "start_time": "2021-12-18T10:14:12.841Z"
   },
   {
    "duration": 25,
    "start_time": "2021-12-18T10:14:49.053Z"
   },
   {
    "duration": 17,
    "start_time": "2021-12-18T10:21:35.295Z"
   },
   {
    "duration": 7,
    "start_time": "2021-12-18T10:22:28.724Z"
   },
   {
    "duration": 18,
    "start_time": "2021-12-18T10:23:43.332Z"
   },
   {
    "duration": 7,
    "start_time": "2021-12-18T10:23:44.358Z"
   },
   {
    "duration": 23,
    "start_time": "2021-12-18T10:24:47.588Z"
   },
   {
    "duration": 11,
    "start_time": "2021-12-18T10:24:49.280Z"
   },
   {
    "duration": 14,
    "start_time": "2021-12-18T10:35:02.076Z"
   },
   {
    "duration": 26,
    "start_time": "2021-12-18T10:35:36.281Z"
   },
   {
    "duration": 36,
    "start_time": "2021-12-18T10:36:14.631Z"
   },
   {
    "duration": 37,
    "start_time": "2021-12-18T10:36:24.447Z"
   },
   {
    "duration": 36,
    "start_time": "2021-12-18T10:37:20.789Z"
   },
   {
    "duration": 55,
    "start_time": "2021-12-18T10:37:58.492Z"
   },
   {
    "duration": 38,
    "start_time": "2021-12-18T10:38:47.374Z"
   },
   {
    "duration": 41,
    "start_time": "2021-12-18T10:39:52.507Z"
   },
   {
    "duration": 38,
    "start_time": "2021-12-18T10:41:35.259Z"
   },
   {
    "duration": 37,
    "start_time": "2021-12-18T10:41:57.292Z"
   },
   {
    "duration": 38,
    "start_time": "2021-12-18T10:43:20.833Z"
   },
   {
    "duration": 93,
    "start_time": "2021-12-18T10:46:49.128Z"
   },
   {
    "duration": 62,
    "start_time": "2021-12-18T10:46:55.260Z"
   },
   {
    "duration": 12,
    "start_time": "2021-12-18T10:47:12.368Z"
   },
   {
    "duration": 11,
    "start_time": "2021-12-18T10:47:27.889Z"
   },
   {
    "duration": 11,
    "start_time": "2021-12-18T11:00:25.447Z"
   },
   {
    "duration": 113,
    "start_time": "2021-12-18T11:14:15.124Z"
   },
   {
    "duration": 36,
    "start_time": "2021-12-18T11:14:32.039Z"
   },
   {
    "duration": 11,
    "start_time": "2021-12-18T11:15:12.357Z"
   },
   {
    "duration": 1543,
    "start_time": "2021-12-19T02:39:00.145Z"
   },
   {
    "duration": 184,
    "start_time": "2021-12-19T02:39:01.691Z"
   },
   {
    "duration": 132,
    "start_time": "2021-12-19T02:39:02.135Z"
   },
   {
    "duration": 178,
    "start_time": "2021-12-19T02:39:04.089Z"
   },
   {
    "duration": 9169,
    "start_time": "2021-12-19T02:39:05.235Z"
   },
   {
    "duration": -25,
    "start_time": "2021-12-19T02:39:14.432Z"
   },
   {
    "duration": -36,
    "start_time": "2021-12-19T02:39:14.444Z"
   },
   {
    "duration": 9457,
    "start_time": "2021-12-19T02:39:21.438Z"
   },
   {
    "duration": 5,
    "start_time": "2021-12-19T02:39:48.545Z"
   },
   {
    "duration": 176,
    "start_time": "2021-12-19T02:39:52.516Z"
   },
   {
    "duration": 111,
    "start_time": "2021-12-19T02:39:57.187Z"
   },
   {
    "duration": 162,
    "start_time": "2021-12-19T02:40:17.661Z"
   },
   {
    "duration": 22,
    "start_time": "2021-12-19T02:40:48.487Z"
   },
   {
    "duration": 123,
    "start_time": "2021-12-19T02:42:13.931Z"
   },
   {
    "duration": 171,
    "start_time": "2021-12-19T02:42:28.603Z"
   },
   {
    "duration": 118,
    "start_time": "2021-12-19T02:42:31.158Z"
   },
   {
    "duration": 165,
    "start_time": "2021-12-19T02:42:38.651Z"
   },
   {
    "duration": 134,
    "start_time": "2021-12-19T02:42:40.653Z"
   },
   {
    "duration": 185,
    "start_time": "2021-12-19T02:42:52.337Z"
   },
   {
    "duration": 30,
    "start_time": "2021-12-19T02:43:01.785Z"
   },
   {
    "duration": 15,
    "start_time": "2021-12-19T02:43:02.994Z"
   },
   {
    "duration": 8,
    "start_time": "2021-12-19T02:43:05.791Z"
   },
   {
    "duration": 19,
    "start_time": "2021-12-19T02:43:10.076Z"
   },
   {
    "duration": 2747,
    "start_time": "2021-12-19T02:43:13.653Z"
   },
   {
    "duration": 536,
    "start_time": "2021-12-19T02:43:20.175Z"
   },
   {
    "duration": 37,
    "start_time": "2021-12-19T02:43:29.977Z"
   },
   {
    "duration": 57,
    "start_time": "2021-12-19T02:43:31.215Z"
   },
   {
    "duration": 15,
    "start_time": "2021-12-19T02:43:34.714Z"
   },
   {
    "duration": 14,
    "start_time": "2021-12-19T02:43:36.276Z"
   },
   {
    "duration": 30,
    "start_time": "2021-12-19T02:55:22.005Z"
   },
   {
    "duration": 66,
    "start_time": "2021-12-19T03:16:56.204Z"
   },
   {
    "duration": 66,
    "start_time": "2021-12-19T03:17:31.102Z"
   },
   {
    "duration": 67,
    "start_time": "2021-12-19T03:18:01.372Z"
   },
   {
    "duration": 70,
    "start_time": "2021-12-19T03:18:14.850Z"
   },
   {
    "duration": 96,
    "start_time": "2021-12-19T03:18:28.347Z"
   },
   {
    "duration": 9,
    "start_time": "2021-12-19T03:20:58.170Z"
   },
   {
    "duration": 63,
    "start_time": "2021-12-19T03:22:39.515Z"
   },
   {
    "duration": 11,
    "start_time": "2021-12-19T03:23:38.973Z"
   },
   {
    "duration": 13,
    "start_time": "2021-12-19T03:23:51.432Z"
   },
   {
    "duration": 14,
    "start_time": "2021-12-19T03:24:46.414Z"
   },
   {
    "duration": 121,
    "start_time": "2021-12-19T04:13:25.993Z"
   },
   {
    "duration": 5,
    "start_time": "2021-12-19T04:13:38.830Z"
   },
   {
    "duration": 6,
    "start_time": "2021-12-19T04:15:37.512Z"
   },
   {
    "duration": 63,
    "start_time": "2021-12-19T04:16:04.524Z"
   },
   {
    "duration": 63,
    "start_time": "2021-12-19T04:16:23.966Z"
   },
   {
    "duration": 2174,
    "start_time": "2021-12-19T04:20:07.292Z"
   },
   {
    "duration": 63,
    "start_time": "2021-12-19T04:20:24.822Z"
   },
   {
    "duration": 163,
    "start_time": "2021-12-19T04:21:30.523Z"
   },
   {
    "duration": 7,
    "start_time": "2021-12-19T04:21:36.204Z"
   },
   {
    "duration": 6,
    "start_time": "2021-12-19T04:21:45.674Z"
   },
   {
    "duration": 141,
    "start_time": "2021-12-19T04:22:49.077Z"
   },
   {
    "duration": 5,
    "start_time": "2021-12-19T04:22:57.452Z"
   },
   {
    "duration": 5,
    "start_time": "2021-12-19T04:23:50.707Z"
   },
   {
    "duration": 426,
    "start_time": "2021-12-19T04:24:01.087Z"
   },
   {
    "duration": 6,
    "start_time": "2021-12-19T04:24:05.515Z"
   },
   {
    "duration": 7,
    "start_time": "2021-12-19T04:25:36.677Z"
   },
   {
    "duration": 132,
    "start_time": "2021-12-19T04:28:54.502Z"
   },
   {
    "duration": 7,
    "start_time": "2021-12-19T04:29:10.800Z"
   },
   {
    "duration": 1209,
    "start_time": "2021-12-21T04:23:17.924Z"
   },
   {
    "duration": 138,
    "start_time": "2021-12-21T04:23:19.135Z"
   },
   {
    "duration": 106,
    "start_time": "2021-12-21T04:23:19.275Z"
   },
   {
    "duration": 125,
    "start_time": "2021-12-21T04:23:19.867Z"
   },
   {
    "duration": 132,
    "start_time": "2021-12-21T04:23:20.186Z"
   },
   {
    "duration": 24,
    "start_time": "2021-12-21T04:23:20.930Z"
   },
   {
    "duration": 13,
    "start_time": "2021-12-21T04:23:21.090Z"
   },
   {
    "duration": 8,
    "start_time": "2021-12-21T04:23:21.673Z"
   },
   {
    "duration": 15,
    "start_time": "2021-12-21T04:23:22.274Z"
   },
   {
    "duration": 1655,
    "start_time": "2021-12-21T04:23:23.026Z"
   },
   {
    "duration": 353,
    "start_time": "2021-12-21T04:23:24.684Z"
   },
   {
    "duration": 33,
    "start_time": "2021-12-21T04:23:25.039Z"
   },
   {
    "duration": 36,
    "start_time": "2021-12-21T04:23:25.073Z"
   },
   {
    "duration": 12,
    "start_time": "2021-12-21T04:23:25.111Z"
   },
   {
    "duration": 31,
    "start_time": "2021-12-21T04:23:25.124Z"
   },
   {
    "duration": 24,
    "start_time": "2021-12-21T04:23:27.889Z"
   },
   {
    "duration": 54,
    "start_time": "2021-12-21T04:23:28.978Z"
   },
   {
    "duration": 13,
    "start_time": "2021-12-21T04:23:29.522Z"
   },
   {
    "duration": 6,
    "start_time": "2021-12-21T04:23:30.122Z"
   },
   {
    "duration": 1767,
    "start_time": "2021-12-21T10:13:23.199Z"
   },
   {
    "duration": 404,
    "start_time": "2021-12-21T10:13:24.971Z"
   },
   {
    "duration": 157,
    "start_time": "2021-12-21T10:13:25.379Z"
   },
   {
    "duration": 268,
    "start_time": "2021-12-21T10:13:25.540Z"
   },
   {
    "duration": 252,
    "start_time": "2021-12-21T10:13:25.811Z"
   },
   {
    "duration": 50,
    "start_time": "2021-12-21T10:13:26.067Z"
   },
   {
    "duration": 17,
    "start_time": "2021-12-21T10:13:26.120Z"
   },
   {
    "duration": 10,
    "start_time": "2021-12-21T10:13:26.453Z"
   },
   {
    "duration": 29,
    "start_time": "2021-12-21T10:13:26.965Z"
   },
   {
    "duration": 4130,
    "start_time": "2021-12-21T10:13:27.506Z"
   },
   {
    "duration": 687,
    "start_time": "2021-12-21T10:13:31.639Z"
   },
   {
    "duration": 43,
    "start_time": "2021-12-21T10:13:32.330Z"
   },
   {
    "duration": 66,
    "start_time": "2021-12-21T10:13:32.376Z"
   },
   {
    "duration": 37,
    "start_time": "2021-12-21T10:13:32.445Z"
   },
   {
    "duration": 19,
    "start_time": "2021-12-21T10:13:32.487Z"
   },
   {
    "duration": 58,
    "start_time": "2021-12-21T10:13:32.513Z"
   },
   {
    "duration": 83,
    "start_time": "2021-12-21T10:13:32.575Z"
   },
   {
    "duration": 26,
    "start_time": "2021-12-21T10:13:32.667Z"
   },
   {
    "duration": 12,
    "start_time": "2021-12-21T10:13:32.696Z"
   },
   {
    "duration": 636,
    "start_time": "2021-12-21T10:14:58.700Z"
   },
   {
    "duration": 55,
    "start_time": "2021-12-21T10:15:07.841Z"
   },
   {
    "duration": 45,
    "start_time": "2021-12-21T10:15:24.124Z"
   },
   {
    "duration": 13,
    "start_time": "2021-12-21T10:21:33.606Z"
   },
   {
    "duration": 17,
    "start_time": "2021-12-21T10:21:58.478Z"
   },
   {
    "duration": 27,
    "start_time": "2021-12-21T10:22:39.524Z"
   },
   {
    "duration": 55,
    "start_time": "2021-12-21T10:38:38.542Z"
   },
   {
    "duration": 45,
    "start_time": "2021-12-21T10:39:18.286Z"
   },
   {
    "duration": 9,
    "start_time": "2021-12-21T10:40:09.566Z"
   },
   {
    "duration": 13,
    "start_time": "2021-12-21T10:40:32.449Z"
   },
   {
    "duration": 15,
    "start_time": "2021-12-21T10:40:38.555Z"
   },
   {
    "duration": 8,
    "start_time": "2021-12-21T10:41:37.853Z"
   },
   {
    "duration": 8,
    "start_time": "2021-12-21T10:41:50.124Z"
   },
   {
    "duration": 10,
    "start_time": "2021-12-21T10:41:54.397Z"
   },
   {
    "duration": 9,
    "start_time": "2021-12-21T10:41:58.216Z"
   },
   {
    "duration": 7,
    "start_time": "2021-12-21T10:42:41.460Z"
   },
   {
    "duration": 362,
    "start_time": "2021-12-22T00:25:36.959Z"
   },
   {
    "duration": 1903,
    "start_time": "2021-12-22T00:27:08.172Z"
   },
   {
    "duration": 285,
    "start_time": "2021-12-22T00:27:10.079Z"
   },
   {
    "duration": 138,
    "start_time": "2021-12-22T00:27:10.368Z"
   },
   {
    "duration": 199,
    "start_time": "2021-12-22T00:27:10.510Z"
   },
   {
    "duration": 215,
    "start_time": "2021-12-22T00:27:10.712Z"
   },
   {
    "duration": 40,
    "start_time": "2021-12-22T00:27:10.930Z"
   },
   {
    "duration": 24,
    "start_time": "2021-12-22T00:27:10.973Z"
   },
   {
    "duration": 12,
    "start_time": "2021-12-22T00:27:11.003Z"
   },
   {
    "duration": 57,
    "start_time": "2021-12-22T00:27:11.019Z"
   },
   {
    "duration": 4876,
    "start_time": "2021-12-22T00:27:11.080Z"
   },
   {
    "duration": 858,
    "start_time": "2021-12-22T00:27:15.959Z"
   },
   {
    "duration": 53,
    "start_time": "2021-12-22T00:27:16.821Z"
   },
   {
    "duration": 91,
    "start_time": "2021-12-22T00:27:16.877Z"
   },
   {
    "duration": 22,
    "start_time": "2021-12-22T00:27:16.972Z"
   },
   {
    "duration": 13,
    "start_time": "2021-12-22T00:27:16.997Z"
   },
   {
    "duration": 65,
    "start_time": "2021-12-22T00:27:17.013Z"
   },
   {
    "duration": 88,
    "start_time": "2021-12-22T00:27:17.081Z"
   },
   {
    "duration": 14,
    "start_time": "2021-12-22T00:27:17.172Z"
   },
   {
    "duration": 7,
    "start_time": "2021-12-22T00:27:17.188Z"
   },
   {
    "duration": 69,
    "start_time": "2021-12-22T00:27:17.197Z"
   },
   {
    "duration": 35,
    "start_time": "2021-12-22T00:27:17.269Z"
   },
   {
    "duration": 8,
    "start_time": "2021-12-22T00:27:17.307Z"
   },
   {
    "duration": 7,
    "start_time": "2021-12-22T00:32:00.173Z"
   },
   {
    "duration": 11,
    "start_time": "2021-12-22T00:32:04.997Z"
   },
   {
    "duration": 9,
    "start_time": "2021-12-22T00:32:22.157Z"
   },
   {
    "duration": 3,
    "start_time": "2021-12-22T02:30:03.844Z"
   },
   {
    "duration": 13,
    "start_time": "2021-12-22T02:31:00.828Z"
   },
   {
    "duration": 20,
    "start_time": "2021-12-22T02:31:56.485Z"
   },
   {
    "duration": 10,
    "start_time": "2021-12-22T02:32:46.453Z"
   },
   {
    "duration": 11,
    "start_time": "2021-12-22T02:33:42.996Z"
   },
   {
    "duration": 34,
    "start_time": "2021-12-22T02:36:32.795Z"
   },
   {
    "duration": 54,
    "start_time": "2021-12-22T02:37:02.052Z"
   },
   {
    "duration": 60,
    "start_time": "2021-12-22T02:42:16.946Z"
   },
   {
    "duration": 10,
    "start_time": "2021-12-22T02:42:26.153Z"
   },
   {
    "duration": 10,
    "start_time": "2021-12-22T02:42:39.049Z"
   },
   {
    "duration": 10,
    "start_time": "2021-12-22T02:42:48.297Z"
   },
   {
    "duration": 13,
    "start_time": "2021-12-22T02:42:53.386Z"
   },
   {
    "duration": 10,
    "start_time": "2021-12-22T03:59:25.052Z"
   },
   {
    "duration": 10,
    "start_time": "2021-12-22T03:59:31.322Z"
   },
   {
    "duration": 15153,
    "start_time": "2021-12-22T04:00:46.401Z"
   },
   {
    "duration": 14547,
    "start_time": "2021-12-22T04:01:08.170Z"
   },
   {
    "duration": 4,
    "start_time": "2021-12-22T04:01:23.569Z"
   },
   {
    "duration": 6,
    "start_time": "2021-12-22T04:01:29.025Z"
   },
   {
    "duration": 12,
    "start_time": "2021-12-22T04:01:37.946Z"
   },
   {
    "duration": 5,
    "start_time": "2021-12-22T04:01:59.633Z"
   },
   {
    "duration": 10,
    "start_time": "2021-12-22T04:02:02.386Z"
   },
   {
    "duration": 311,
    "start_time": "2021-12-22T04:03:16.545Z"
   },
   {
    "duration": 6,
    "start_time": "2021-12-22T04:03:41.233Z"
   },
   {
    "duration": 7,
    "start_time": "2021-12-22T04:03:46.360Z"
   },
   {
    "duration": 5,
    "start_time": "2021-12-22T04:04:29.058Z"
   },
   {
    "duration": 5,
    "start_time": "2021-12-22T04:04:31.888Z"
   },
   {
    "duration": 7,
    "start_time": "2021-12-22T04:05:01.545Z"
   },
   {
    "duration": 72,
    "start_time": "2021-12-22T04:11:03.191Z"
   },
   {
    "duration": 6,
    "start_time": "2021-12-22T04:13:28.575Z"
   },
   {
    "duration": 5,
    "start_time": "2021-12-22T04:13:37.655Z"
   },
   {
    "duration": 7,
    "start_time": "2021-12-22T04:14:26.870Z"
   },
   {
    "duration": 3,
    "start_time": "2021-12-22T04:15:07.094Z"
   },
   {
    "duration": 108,
    "start_time": "2021-12-22T04:18:08.254Z"
   },
   {
    "duration": 514,
    "start_time": "2021-12-22T04:18:17.878Z"
   },
   {
    "duration": 9,
    "start_time": "2021-12-22T04:18:39.254Z"
   },
   {
    "duration": 5,
    "start_time": "2021-12-22T04:18:49.566Z"
   },
   {
    "duration": 188,
    "start_time": "2021-12-22T04:18:49.574Z"
   },
   {
    "duration": 122,
    "start_time": "2021-12-22T04:18:49.766Z"
   },
   {
    "duration": 173,
    "start_time": "2021-12-22T04:18:49.891Z"
   },
   {
    "duration": 215,
    "start_time": "2021-12-22T04:18:50.067Z"
   },
   {
    "duration": 40,
    "start_time": "2021-12-22T04:18:50.285Z"
   },
   {
    "duration": 37,
    "start_time": "2021-12-22T04:18:50.327Z"
   },
   {
    "duration": 10,
    "start_time": "2021-12-22T04:18:50.367Z"
   },
   {
    "duration": 31,
    "start_time": "2021-12-22T04:18:50.384Z"
   },
   {
    "duration": 4836,
    "start_time": "2021-12-22T04:18:50.419Z"
   },
   {
    "duration": 692,
    "start_time": "2021-12-22T04:18:55.262Z"
   },
   {
    "duration": 29,
    "start_time": "2021-12-22T04:18:55.962Z"
   },
   {
    "duration": 46,
    "start_time": "2021-12-22T04:18:55.994Z"
   },
   {
    "duration": 17,
    "start_time": "2021-12-22T04:18:56.063Z"
   },
   {
    "duration": 11,
    "start_time": "2021-12-22T04:18:56.083Z"
   },
   {
    "duration": 65,
    "start_time": "2021-12-22T04:18:56.097Z"
   },
   {
    "duration": 69,
    "start_time": "2021-12-22T04:18:56.165Z"
   },
   {
    "duration": 31,
    "start_time": "2021-12-22T04:18:56.236Z"
   },
   {
    "duration": 8,
    "start_time": "2021-12-22T04:18:56.270Z"
   },
   {
    "duration": 44,
    "start_time": "2021-12-22T04:18:56.281Z"
   },
   {
    "duration": 63,
    "start_time": "2021-12-22T04:18:56.328Z"
   },
   {
    "duration": 8,
    "start_time": "2021-12-22T04:18:56.394Z"
   },
   {
    "duration": 4,
    "start_time": "2021-12-22T04:18:56.404Z"
   },
   {
    "duration": 93,
    "start_time": "2021-12-22T04:18:56.411Z"
   },
   {
    "duration": 4,
    "start_time": "2021-12-22T04:18:56.506Z"
   },
   {
    "duration": 25,
    "start_time": "2021-12-22T04:18:56.512Z"
   },
   {
    "duration": 24,
    "start_time": "2021-12-22T04:18:56.541Z"
   },
   {
    "duration": 22,
    "start_time": "2021-12-22T04:18:56.568Z"
   },
   {
    "duration": 17,
    "start_time": "2021-12-22T04:18:56.593Z"
   },
   {
    "duration": 5,
    "start_time": "2021-12-22T04:19:12.478Z"
   },
   {
    "duration": 6,
    "start_time": "2021-12-22T04:19:28.478Z"
   },
   {
    "duration": 5,
    "start_time": "2021-12-22T04:23:09.533Z"
   },
   {
    "duration": 6,
    "start_time": "2021-12-22T04:23:10.844Z"
   },
   {
    "duration": 7,
    "start_time": "2021-12-22T04:23:58.497Z"
   },
   {
    "duration": 99,
    "start_time": "2021-12-22T04:24:48.829Z"
   },
   {
    "duration": 408,
    "start_time": "2021-12-22T04:24:53.948Z"
   },
   {
    "duration": 6,
    "start_time": "2021-12-22T04:25:02.164Z"
   },
   {
    "duration": 6,
    "start_time": "2021-12-22T04:25:14.252Z"
   },
   {
    "duration": 6,
    "start_time": "2021-12-22T04:25:15.484Z"
   },
   {
    "duration": 6,
    "start_time": "2021-12-22T04:25:21.884Z"
   },
   {
    "duration": 6,
    "start_time": "2021-12-22T04:26:05.573Z"
   },
   {
    "duration": 7,
    "start_time": "2021-12-22T04:26:06.364Z"
   },
   {
    "duration": 7,
    "start_time": "2021-12-22T04:26:10.964Z"
   },
   {
    "duration": 54,
    "start_time": "2021-12-22T04:33:40.988Z"
   },
   {
    "duration": 52,
    "start_time": "2021-12-22T04:36:07.557Z"
   },
   {
    "duration": 53,
    "start_time": "2021-12-22T04:40:13.426Z"
   },
   {
    "duration": 55,
    "start_time": "2021-12-22T04:40:24.003Z"
   },
   {
    "duration": 57,
    "start_time": "2021-12-22T04:40:43.011Z"
   },
   {
    "duration": 55,
    "start_time": "2021-12-22T04:40:52.218Z"
   },
   {
    "duration": 62,
    "start_time": "2021-12-22T04:41:13.842Z"
   },
   {
    "duration": 34,
    "start_time": "2021-12-22T06:41:56.384Z"
   },
   {
    "duration": 85,
    "start_time": "2021-12-22T06:42:49.440Z"
   },
   {
    "duration": 10,
    "start_time": "2021-12-22T06:43:04.095Z"
   },
   {
    "duration": 10,
    "start_time": "2021-12-22T06:43:51.103Z"
   },
   {
    "duration": 9,
    "start_time": "2021-12-22T06:53:57.555Z"
   },
   {
    "duration": 50,
    "start_time": "2021-12-22T06:56:46.079Z"
   },
   {
    "duration": 8,
    "start_time": "2021-12-22T07:00:09.107Z"
   },
   {
    "duration": 86,
    "start_time": "2021-12-22T07:01:57.115Z"
   },
   {
    "duration": 50,
    "start_time": "2021-12-22T07:02:21.210Z"
   },
   {
    "duration": 55,
    "start_time": "2021-12-22T07:03:58.941Z"
   },
   {
    "duration": 52,
    "start_time": "2021-12-22T07:04:11.562Z"
   },
   {
    "duration": 8,
    "start_time": "2021-12-22T07:04:35.122Z"
   },
   {
    "duration": 51,
    "start_time": "2021-12-22T07:04:39.097Z"
   },
   {
    "duration": 50,
    "start_time": "2021-12-22T07:04:45.202Z"
   },
   {
    "duration": 52,
    "start_time": "2021-12-22T07:04:49.202Z"
   },
   {
    "duration": 52,
    "start_time": "2021-12-22T07:05:41.433Z"
   },
   {
    "duration": 53,
    "start_time": "2021-12-22T07:05:53.329Z"
   },
   {
    "duration": 54,
    "start_time": "2021-12-22T07:05:59.121Z"
   },
   {
    "duration": 10,
    "start_time": "2021-12-22T07:07:09.682Z"
   },
   {
    "duration": 13,
    "start_time": "2021-12-22T07:07:16.970Z"
   },
   {
    "duration": 121,
    "start_time": "2021-12-22T07:10:13.018Z"
   },
   {
    "duration": 14,
    "start_time": "2021-12-22T07:10:20.729Z"
   },
   {
    "duration": 85,
    "start_time": "2021-12-22T07:10:47.921Z"
   },
   {
    "duration": 64,
    "start_time": "2021-12-22T07:11:09.312Z"
   },
   {
    "duration": 11,
    "start_time": "2021-12-22T07:11:13.032Z"
   },
   {
    "duration": 56,
    "start_time": "2021-12-22T07:11:13.760Z"
   },
   {
    "duration": 120,
    "start_time": "2021-12-22T07:11:18.832Z"
   },
   {
    "duration": 81,
    "start_time": "2021-12-22T07:11:22.441Z"
   },
   {
    "duration": 75,
    "start_time": "2021-12-22T07:11:27.008Z"
   },
   {
    "duration": 75,
    "start_time": "2021-12-22T07:11:31.408Z"
   },
   {
    "duration": 10,
    "start_time": "2021-12-22T07:11:36.584Z"
   },
   {
    "duration": 52,
    "start_time": "2021-12-22T07:14:47.231Z"
   },
   {
    "duration": 59,
    "start_time": "2021-12-22T07:14:53.087Z"
   },
   {
    "duration": 49,
    "start_time": "2021-12-22T07:14:58.207Z"
   },
   {
    "duration": 48,
    "start_time": "2021-12-22T07:15:05.759Z"
   },
   {
    "duration": 60,
    "start_time": "2021-12-22T07:15:09.279Z"
   },
   {
    "duration": 47,
    "start_time": "2021-12-22T07:15:12.431Z"
   },
   {
    "duration": 61,
    "start_time": "2021-12-22T07:15:17.158Z"
   },
   {
    "duration": 50,
    "start_time": "2021-12-22T07:15:29.374Z"
   },
   {
    "duration": 49,
    "start_time": "2021-12-22T07:15:37.558Z"
   },
   {
    "duration": 49,
    "start_time": "2021-12-22T07:15:43.967Z"
   },
   {
    "duration": 59,
    "start_time": "2021-12-22T07:15:50.398Z"
   },
   {
    "duration": 7,
    "start_time": "2021-12-22T07:18:41.934Z"
   },
   {
    "duration": 171,
    "start_time": "2021-12-22T07:18:41.945Z"
   },
   {
    "duration": 144,
    "start_time": "2021-12-22T07:18:42.120Z"
   },
   {
    "duration": 166,
    "start_time": "2021-12-22T07:18:42.268Z"
   },
   {
    "duration": 209,
    "start_time": "2021-12-22T07:18:42.437Z"
   },
   {
    "duration": 41,
    "start_time": "2021-12-22T07:18:42.649Z"
   },
   {
    "duration": 32,
    "start_time": "2021-12-22T07:18:42.692Z"
   },
   {
    "duration": 16,
    "start_time": "2021-12-22T07:18:42.728Z"
   },
   {
    "duration": 22,
    "start_time": "2021-12-22T07:18:42.748Z"
   },
   {
    "duration": 2800,
    "start_time": "2021-12-22T07:18:42.772Z"
   },
   {
    "duration": 602,
    "start_time": "2021-12-22T07:18:45.575Z"
   },
   {
    "duration": 39,
    "start_time": "2021-12-22T07:18:46.180Z"
   },
   {
    "duration": 101,
    "start_time": "2021-12-22T07:18:46.222Z"
   },
   {
    "duration": 40,
    "start_time": "2021-12-22T07:18:46.325Z"
   },
   {
    "duration": 15,
    "start_time": "2021-12-22T07:18:46.368Z"
   },
   {
    "duration": 77,
    "start_time": "2021-12-22T07:18:46.387Z"
   },
   {
    "duration": 76,
    "start_time": "2021-12-22T07:18:46.467Z"
   },
   {
    "duration": 15,
    "start_time": "2021-12-22T07:18:46.562Z"
   },
   {
    "duration": 117,
    "start_time": "2021-12-22T07:18:46.579Z"
   },
   {
    "duration": 42,
    "start_time": "2021-12-22T07:18:46.699Z"
   },
   {
    "duration": 36,
    "start_time": "2021-12-22T07:18:46.762Z"
   },
   {
    "duration": 6,
    "start_time": "2021-12-22T07:18:46.801Z"
   },
   {
    "duration": 93,
    "start_time": "2021-12-22T07:18:46.811Z"
   },
   {
    "duration": 8,
    "start_time": "2021-12-22T07:18:46.907Z"
   },
   {
    "duration": 86,
    "start_time": "2021-12-22T07:18:46.917Z"
   },
   {
    "duration": 97,
    "start_time": "2021-12-22T07:18:47.005Z"
   },
   {
    "duration": 76,
    "start_time": "2021-12-22T07:18:47.105Z"
   },
   {
    "duration": 51,
    "start_time": "2021-12-22T07:18:47.184Z"
   },
   {
    "duration": 71,
    "start_time": "2021-12-22T07:18:47.238Z"
   },
   {
    "duration": 7,
    "start_time": "2021-12-22T07:26:02.504Z"
   },
   {
    "duration": 24,
    "start_time": "2021-12-22T07:27:12.102Z"
   },
   {
    "duration": 6,
    "start_time": "2021-12-22T07:48:43.374Z"
   },
   {
    "duration": 158,
    "start_time": "2021-12-22T07:48:43.386Z"
   },
   {
    "duration": 121,
    "start_time": "2021-12-22T07:48:43.547Z"
   },
   {
    "duration": 156,
    "start_time": "2021-12-22T07:48:43.671Z"
   },
   {
    "duration": 191,
    "start_time": "2021-12-22T07:48:43.830Z"
   },
   {
    "duration": 38,
    "start_time": "2021-12-22T07:48:44.024Z"
   },
   {
    "duration": 14,
    "start_time": "2021-12-22T07:48:44.065Z"
   },
   {
    "duration": 7,
    "start_time": "2021-12-22T07:48:44.082Z"
   },
   {
    "duration": 16,
    "start_time": "2021-12-22T07:48:44.091Z"
   },
   {
    "duration": 2743,
    "start_time": "2021-12-22T07:48:44.111Z"
   },
   {
    "duration": 576,
    "start_time": "2021-12-22T07:48:46.857Z"
   },
   {
    "duration": 38,
    "start_time": "2021-12-22T07:48:47.435Z"
   },
   {
    "duration": 46,
    "start_time": "2021-12-22T07:48:47.475Z"
   },
   {
    "duration": 14,
    "start_time": "2021-12-22T07:48:47.523Z"
   },
   {
    "duration": 10,
    "start_time": "2021-12-22T07:48:47.563Z"
   },
   {
    "duration": 28,
    "start_time": "2021-12-22T07:48:47.576Z"
   },
   {
    "duration": 94,
    "start_time": "2021-12-22T07:48:47.606Z"
   },
   {
    "duration": 14,
    "start_time": "2021-12-22T07:48:47.702Z"
   },
   {
    "duration": 7,
    "start_time": "2021-12-22T07:48:47.718Z"
   },
   {
    "duration": 65,
    "start_time": "2021-12-22T07:48:47.728Z"
   },
   {
    "duration": 35,
    "start_time": "2021-12-22T07:48:47.795Z"
   },
   {
    "duration": 9,
    "start_time": "2021-12-22T07:48:47.833Z"
   },
   {
    "duration": 65,
    "start_time": "2021-12-22T07:48:47.864Z"
   },
   {
    "duration": 31,
    "start_time": "2021-12-22T07:48:47.932Z"
   },
   {
    "duration": 53,
    "start_time": "2021-12-22T07:48:47.966Z"
   },
   {
    "duration": 109,
    "start_time": "2021-12-22T07:48:48.022Z"
   },
   {
    "duration": 70,
    "start_time": "2021-12-22T07:48:48.134Z"
   },
   {
    "duration": 69,
    "start_time": "2021-12-22T07:48:48.210Z"
   },
   {
    "duration": 50,
    "start_time": "2021-12-22T07:48:48.282Z"
   },
   {
    "duration": 42,
    "start_time": "2021-12-22T07:48:48.334Z"
   },
   {
    "duration": 1978,
    "start_time": "2021-12-22T08:55:16.933Z"
   },
   {
    "duration": 243,
    "start_time": "2021-12-22T08:55:18.913Z"
   },
   {
    "duration": 223,
    "start_time": "2021-12-22T08:55:19.161Z"
   },
   {
    "duration": 220,
    "start_time": "2021-12-22T08:55:19.387Z"
   },
   {
    "duration": 292,
    "start_time": "2021-12-22T08:55:19.609Z"
   },
   {
    "duration": 65,
    "start_time": "2021-12-22T08:55:19.904Z"
   },
   {
    "duration": 36,
    "start_time": "2021-12-22T08:55:19.972Z"
   },
   {
    "duration": 63,
    "start_time": "2021-12-22T08:55:20.010Z"
   },
   {
    "duration": 40,
    "start_time": "2021-12-22T08:55:20.078Z"
   },
   {
    "duration": 4088,
    "start_time": "2021-12-22T08:55:20.122Z"
   },
   {
    "duration": 746,
    "start_time": "2021-12-22T08:55:24.213Z"
   },
   {
    "duration": 45,
    "start_time": "2021-12-22T08:55:24.962Z"
   },
   {
    "duration": 75,
    "start_time": "2021-12-22T08:55:25.025Z"
   },
   {
    "duration": 53,
    "start_time": "2021-12-22T08:55:25.103Z"
   },
   {
    "duration": 32,
    "start_time": "2021-12-22T08:55:25.164Z"
   },
   {
    "duration": 70,
    "start_time": "2021-12-22T08:55:25.198Z"
   },
   {
    "duration": 114,
    "start_time": "2021-12-22T08:55:25.272Z"
   },
   {
    "duration": 15,
    "start_time": "2021-12-22T08:55:25.388Z"
   },
   {
    "duration": 50,
    "start_time": "2021-12-22T08:55:25.406Z"
   },
   {
    "duration": 129,
    "start_time": "2021-12-22T08:55:25.460Z"
   },
   {
    "duration": 40,
    "start_time": "2021-12-22T08:55:25.592Z"
   },
   {
    "duration": 20,
    "start_time": "2021-12-22T08:55:25.634Z"
   },
   {
    "duration": 114,
    "start_time": "2021-12-22T08:55:25.659Z"
   },
   {
    "duration": 10,
    "start_time": "2021-12-22T08:55:25.776Z"
   },
   {
    "duration": 41,
    "start_time": "2021-12-22T08:55:25.790Z"
   },
   {
    "duration": 115,
    "start_time": "2021-12-22T08:55:25.835Z"
   },
   {
    "duration": 135,
    "start_time": "2021-12-22T08:55:25.959Z"
   },
   {
    "duration": 98,
    "start_time": "2021-12-22T08:55:26.098Z"
   },
   {
    "duration": 75,
    "start_time": "2021-12-22T08:55:26.198Z"
   },
   {
    "duration": 83,
    "start_time": "2021-12-22T08:55:26.276Z"
   },
   {
    "duration": 24,
    "start_time": "2021-12-22T08:55:26.362Z"
   },
   {
    "duration": 14,
    "start_time": "2021-12-22T08:56:13.251Z"
   },
   {
    "duration": 14,
    "start_time": "2021-12-22T08:56:18.207Z"
   },
   {
    "duration": 13,
    "start_time": "2021-12-22T08:56:38.788Z"
   },
   {
    "duration": 8,
    "start_time": "2021-12-22T08:57:02.512Z"
   },
   {
    "duration": 1504,
    "start_time": "2021-12-24T04:52:40.809Z"
   },
   {
    "duration": 177,
    "start_time": "2021-12-24T04:52:42.315Z"
   },
   {
    "duration": 137,
    "start_time": "2021-12-24T04:52:42.495Z"
   },
   {
    "duration": 195,
    "start_time": "2021-12-24T04:52:42.634Z"
   },
   {
    "duration": 204,
    "start_time": "2021-12-24T04:52:42.832Z"
   },
   {
    "duration": 40,
    "start_time": "2021-12-24T04:52:43.038Z"
   },
   {
    "duration": 17,
    "start_time": "2021-12-24T04:52:43.081Z"
   },
   {
    "duration": 8,
    "start_time": "2021-12-24T04:52:43.101Z"
   },
   {
    "duration": 52,
    "start_time": "2021-12-24T04:52:43.112Z"
   },
   {
    "duration": 2738,
    "start_time": "2021-12-24T04:52:43.166Z"
   },
   {
    "duration": 600,
    "start_time": "2021-12-24T04:52:45.907Z"
   },
   {
    "duration": 35,
    "start_time": "2021-12-24T04:52:46.509Z"
   },
   {
    "duration": 57,
    "start_time": "2021-12-24T04:52:46.546Z"
   },
   {
    "duration": 15,
    "start_time": "2021-12-24T04:52:46.606Z"
   },
   {
    "duration": 39,
    "start_time": "2021-12-24T04:52:46.623Z"
   },
   {
    "duration": 32,
    "start_time": "2021-12-24T04:52:46.665Z"
   },
   {
    "duration": 141,
    "start_time": "2021-12-24T04:52:46.700Z"
   },
   {
    "duration": 29,
    "start_time": "2021-12-24T04:52:46.844Z"
   },
   {
    "duration": 10,
    "start_time": "2021-12-24T04:52:46.876Z"
   },
   {
    "duration": 84,
    "start_time": "2021-12-24T04:52:46.889Z"
   },
   {
    "duration": 49,
    "start_time": "2021-12-24T04:52:46.976Z"
   },
   {
    "duration": 11,
    "start_time": "2021-12-24T04:52:47.028Z"
   },
   {
    "duration": 105,
    "start_time": "2021-12-24T04:52:47.064Z"
   },
   {
    "duration": 13,
    "start_time": "2021-12-24T04:52:47.172Z"
   },
   {
    "duration": 96,
    "start_time": "2021-12-24T04:52:47.188Z"
   },
   {
    "duration": 142,
    "start_time": "2021-12-24T04:52:47.287Z"
   },
   {
    "duration": 82,
    "start_time": "2021-12-24T04:52:47.432Z"
   },
   {
    "duration": 91,
    "start_time": "2021-12-24T04:52:47.517Z"
   },
   {
    "duration": 91,
    "start_time": "2021-12-24T04:52:47.611Z"
   },
   {
    "duration": 26,
    "start_time": "2021-12-24T04:52:47.705Z"
   },
   {
    "duration": 484,
    "start_time": "2021-12-24T05:14:41.597Z"
   },
   {
    "duration": 6,
    "start_time": "2021-12-24T05:14:48.196Z"
   },
   {
    "duration": 187,
    "start_time": "2021-12-24T05:14:48.205Z"
   },
   {
    "duration": 123,
    "start_time": "2021-12-24T05:14:48.395Z"
   },
   {
    "duration": 159,
    "start_time": "2021-12-24T05:14:48.520Z"
   },
   {
    "duration": 205,
    "start_time": "2021-12-24T05:14:48.682Z"
   },
   {
    "duration": 30,
    "start_time": "2021-12-24T05:14:48.889Z"
   },
   {
    "duration": 23,
    "start_time": "2021-12-24T05:14:48.921Z"
   },
   {
    "duration": 8,
    "start_time": "2021-12-24T05:14:48.961Z"
   },
   {
    "duration": 26,
    "start_time": "2021-12-24T05:14:48.972Z"
   },
   {
    "duration": 2858,
    "start_time": "2021-12-24T05:14:49.001Z"
   },
   {
    "duration": 565,
    "start_time": "2021-12-24T05:14:51.861Z"
   },
   {
    "duration": 42,
    "start_time": "2021-12-24T05:14:52.429Z"
   },
   {
    "duration": 45,
    "start_time": "2021-12-24T05:14:52.474Z"
   },
   {
    "duration": 14,
    "start_time": "2021-12-24T05:14:52.521Z"
   },
   {
    "duration": 12,
    "start_time": "2021-12-24T05:14:52.560Z"
   },
   {
    "duration": 30,
    "start_time": "2021-12-24T05:14:52.574Z"
   },
   {
    "duration": 95,
    "start_time": "2021-12-24T05:14:52.607Z"
   },
   {
    "duration": 14,
    "start_time": "2021-12-24T05:14:52.704Z"
   },
   {
    "duration": 8,
    "start_time": "2021-12-24T05:14:52.720Z"
   },
   {
    "duration": 70,
    "start_time": "2021-12-24T05:14:52.730Z"
   },
   {
    "duration": 36,
    "start_time": "2021-12-24T05:14:52.802Z"
   },
   {
    "duration": 24,
    "start_time": "2021-12-24T05:14:52.840Z"
   },
   {
    "duration": 64,
    "start_time": "2021-12-24T05:14:52.868Z"
   },
   {
    "duration": 28,
    "start_time": "2021-12-24T05:14:52.935Z"
   },
   {
    "duration": 55,
    "start_time": "2021-12-24T05:14:52.966Z"
   },
   {
    "duration": 100,
    "start_time": "2021-12-24T05:14:53.024Z"
   },
   {
    "duration": 57,
    "start_time": "2021-12-24T05:14:53.127Z"
   },
   {
    "duration": 50,
    "start_time": "2021-12-24T05:14:53.186Z"
   },
   {
    "duration": 65,
    "start_time": "2021-12-24T05:14:53.239Z"
   },
   {
    "duration": 21,
    "start_time": "2021-12-24T05:14:53.306Z"
   },
   {
    "duration": 758,
    "start_time": "2021-12-24T05:18:30.212Z"
   },
   {
    "duration": 279,
    "start_time": "2021-12-24T05:21:18.572Z"
   },
   {
    "duration": 174,
    "start_time": "2021-12-24T05:24:53.282Z"
   },
   {
    "duration": 43,
    "start_time": "2021-12-24T05:42:01.335Z"
   },
   {
    "duration": 40,
    "start_time": "2021-12-24T05:45:29.943Z"
   },
   {
    "duration": 39,
    "start_time": "2021-12-24T05:45:57.605Z"
   },
   {
    "duration": 38,
    "start_time": "2021-12-24T05:49:45.301Z"
   },
   {
    "duration": 10,
    "start_time": "2021-12-24T05:50:08.156Z"
   },
   {
    "duration": 21,
    "start_time": "2021-12-24T05:54:25.749Z"
   },
   {
    "duration": 6,
    "start_time": "2021-12-24T05:54:35.717Z"
   },
   {
    "duration": 40,
    "start_time": "2021-12-24T05:54:49.724Z"
   },
   {
    "duration": 10,
    "start_time": "2021-12-24T05:55:01.541Z"
   },
   {
    "duration": 10,
    "start_time": "2021-12-24T06:02:48.026Z"
   },
   {
    "duration": 10,
    "start_time": "2021-12-24T06:03:14.307Z"
   },
   {
    "duration": 42,
    "start_time": "2021-12-24T06:03:59.178Z"
   },
   {
    "duration": 11,
    "start_time": "2021-12-24T06:04:05.106Z"
   },
   {
    "duration": 60,
    "start_time": "2021-12-24T06:05:29.898Z"
   },
   {
    "duration": 10,
    "start_time": "2021-12-24T06:05:30.698Z"
   },
   {
    "duration": 88,
    "start_time": "2021-12-24T06:06:49.099Z"
   },
   {
    "duration": 10,
    "start_time": "2021-12-24T06:06:55.675Z"
   },
   {
    "duration": 11,
    "start_time": "2021-12-24T06:07:05.849Z"
   },
   {
    "duration": 9,
    "start_time": "2021-12-24T06:09:17.178Z"
   },
   {
    "duration": 1004,
    "start_time": "2021-12-24T06:09:21.632Z"
   },
   {
    "duration": 62,
    "start_time": "2021-12-24T06:09:59.888Z"
   },
   {
    "duration": 14,
    "start_time": "2021-12-24T06:10:01.458Z"
   },
   {
    "duration": 9,
    "start_time": "2021-12-24T06:10:07.474Z"
   },
   {
    "duration": 3596,
    "start_time": "2021-12-24T06:10:09.953Z"
   },
   {
    "duration": 126,
    "start_time": "2021-12-24T06:12:37.778Z"
   },
   {
    "duration": 9,
    "start_time": "2021-12-24T06:13:10.841Z"
   },
   {
    "duration": 756,
    "start_time": "2021-12-24T06:13:14.536Z"
   },
   {
    "duration": 6,
    "start_time": "2021-12-24T06:19:59.879Z"
   },
   {
    "duration": 6,
    "start_time": "2021-12-24T06:20:07.382Z"
   },
   {
    "duration": 6,
    "start_time": "2021-12-24T06:20:18.543Z"
   },
   {
    "duration": 8,
    "start_time": "2021-12-24T06:23:54.463Z"
   },
   {
    "duration": 36,
    "start_time": "2021-12-24T06:24:01.455Z"
   },
   {
    "duration": 36,
    "start_time": "2021-12-24T06:24:11.814Z"
   },
   {
    "duration": 3,
    "start_time": "2021-12-24T06:24:41.952Z"
   },
   {
    "duration": 35,
    "start_time": "2021-12-24T06:25:22.422Z"
   },
   {
    "duration": 40,
    "start_time": "2021-12-24T06:26:37.487Z"
   },
   {
    "duration": 35,
    "start_time": "2021-12-24T06:26:38.214Z"
   },
   {
    "duration": 38,
    "start_time": "2021-12-24T06:27:30.222Z"
   },
   {
    "duration": 36,
    "start_time": "2021-12-24T06:27:35.486Z"
   },
   {
    "duration": 56,
    "start_time": "2021-12-24T06:27:46.302Z"
   },
   {
    "duration": 38,
    "start_time": "2021-12-24T06:27:54.221Z"
   },
   {
    "duration": 20,
    "start_time": "2021-12-24T06:28:13.397Z"
   },
   {
    "duration": 36,
    "start_time": "2021-12-24T06:28:48.517Z"
   },
   {
    "duration": 37,
    "start_time": "2021-12-24T06:28:55.062Z"
   },
   {
    "duration": 35,
    "start_time": "2021-12-24T06:29:04.589Z"
   },
   {
    "duration": 82,
    "start_time": "2021-12-24T06:29:48.005Z"
   },
   {
    "duration": 38,
    "start_time": "2021-12-24T06:29:51.422Z"
   },
   {
    "duration": 37,
    "start_time": "2021-12-24T06:29:54.021Z"
   },
   {
    "duration": 36,
    "start_time": "2021-12-24T06:29:56.493Z"
   },
   {
    "duration": 34,
    "start_time": "2021-12-24T06:30:08.324Z"
   },
   {
    "duration": 33,
    "start_time": "2021-12-24T06:30:12.517Z"
   },
   {
    "duration": 36,
    "start_time": "2021-12-24T06:30:15.837Z"
   },
   {
    "duration": 43,
    "start_time": "2021-12-24T06:31:51.733Z"
   },
   {
    "duration": 35,
    "start_time": "2021-12-24T06:31:52.391Z"
   },
   {
    "duration": 19,
    "start_time": "2021-12-24T06:34:25.156Z"
   },
   {
    "duration": 44,
    "start_time": "2021-12-24T06:35:27.309Z"
   },
   {
    "duration": 11,
    "start_time": "2021-12-24T06:35:29.292Z"
   },
   {
    "duration": 38,
    "start_time": "2021-12-24T06:36:05.413Z"
   },
   {
    "duration": 11,
    "start_time": "2021-12-24T06:36:06.108Z"
   },
   {
    "duration": 38,
    "start_time": "2021-12-24T06:36:15.117Z"
   },
   {
    "duration": 175,
    "start_time": "2021-12-24T06:39:16.948Z"
   },
   {
    "duration": 213,
    "start_time": "2021-12-24T06:40:10.211Z"
   },
   {
    "duration": 423,
    "start_time": "2021-12-24T06:40:25.795Z"
   },
   {
    "duration": 519,
    "start_time": "2021-12-24T06:40:43.275Z"
   },
   {
    "duration": 380,
    "start_time": "2021-12-24T06:42:07.180Z"
   },
   {
    "duration": 10,
    "start_time": "2021-12-24T06:44:56.291Z"
   },
   {
    "duration": 5,
    "start_time": "2021-12-24T06:45:13.044Z"
   },
   {
    "duration": 6,
    "start_time": "2021-12-24T06:45:22.762Z"
   },
   {
    "duration": 6,
    "start_time": "2021-12-24T06:45:39.882Z"
   },
   {
    "duration": 5,
    "start_time": "2021-12-24T06:46:19.394Z"
   },
   {
    "duration": 40,
    "start_time": "2021-12-24T06:46:24.978Z"
   },
   {
    "duration": 6,
    "start_time": "2021-12-24T06:48:56.649Z"
   },
   {
    "duration": 19,
    "start_time": "2021-12-24T06:49:12.330Z"
   },
   {
    "duration": 40,
    "start_time": "2021-12-24T06:50:07.858Z"
   },
   {
    "duration": 419,
    "start_time": "2021-12-24T06:51:42.155Z"
   },
   {
    "duration": 382,
    "start_time": "2021-12-24T06:53:51.810Z"
   },
   {
    "duration": 35,
    "start_time": "2021-12-24T06:54:05.008Z"
   },
   {
    "duration": 40,
    "start_time": "2021-12-24T06:55:33.817Z"
   },
   {
    "duration": 37,
    "start_time": "2021-12-24T06:56:01.680Z"
   },
   {
    "duration": 42,
    "start_time": "2021-12-24T06:56:30.632Z"
   },
   {
    "duration": 51,
    "start_time": "2021-12-24T06:56:31.189Z"
   },
   {
    "duration": 6,
    "start_time": "2021-12-24T06:56:51.831Z"
   },
   {
    "duration": 167,
    "start_time": "2021-12-24T06:56:51.840Z"
   },
   {
    "duration": 122,
    "start_time": "2021-12-24T06:56:52.009Z"
   },
   {
    "duration": 159,
    "start_time": "2021-12-24T06:56:52.133Z"
   },
   {
    "duration": 205,
    "start_time": "2021-12-24T06:56:52.295Z"
   },
   {
    "duration": 29,
    "start_time": "2021-12-24T06:56:52.502Z"
   },
   {
    "duration": 32,
    "start_time": "2021-12-24T06:56:52.533Z"
   },
   {
    "duration": 8,
    "start_time": "2021-12-24T06:56:52.568Z"
   },
   {
    "duration": 17,
    "start_time": "2021-12-24T06:56:52.579Z"
   },
   {
    "duration": 2735,
    "start_time": "2021-12-24T06:56:52.599Z"
   },
   {
    "duration": 581,
    "start_time": "2021-12-24T06:56:55.336Z"
   },
   {
    "duration": 43,
    "start_time": "2021-12-24T06:56:55.919Z"
   },
   {
    "duration": 49,
    "start_time": "2021-12-24T06:56:55.964Z"
   },
   {
    "duration": 16,
    "start_time": "2021-12-24T06:56:56.015Z"
   },
   {
    "duration": 12,
    "start_time": "2021-12-24T06:56:56.060Z"
   },
   {
    "duration": 30,
    "start_time": "2021-12-24T06:56:56.075Z"
   },
   {
    "duration": 99,
    "start_time": "2021-12-24T06:56:56.108Z"
   },
   {
    "duration": 18,
    "start_time": "2021-12-24T06:56:56.210Z"
   },
   {
    "duration": 29,
    "start_time": "2021-12-24T06:56:56.231Z"
   },
   {
    "duration": 194,
    "start_time": "2021-12-24T06:56:56.263Z"
   },
   {
    "duration": 43,
    "start_time": "2021-12-24T06:56:56.460Z"
   },
   {
    "duration": 68,
    "start_time": "2021-12-24T06:56:56.506Z"
   },
   {
    "duration": 35,
    "start_time": "2021-12-24T06:56:56.580Z"
   },
   {
    "duration": 379,
    "start_time": "2021-12-24T06:56:56.618Z"
   },
   {
    "duration": -948,
    "start_time": "2021-12-24T06:56:57.948Z"
   },
   {
    "duration": -950,
    "start_time": "2021-12-24T06:56:57.951Z"
   },
   {
    "duration": -952,
    "start_time": "2021-12-24T06:56:57.955Z"
   },
   {
    "duration": -953,
    "start_time": "2021-12-24T06:56:57.958Z"
   },
   {
    "duration": -955,
    "start_time": "2021-12-24T06:56:57.961Z"
   },
   {
    "duration": -957,
    "start_time": "2021-12-24T06:56:57.964Z"
   },
   {
    "duration": -957,
    "start_time": "2021-12-24T06:56:57.966Z"
   },
   {
    "duration": -959,
    "start_time": "2021-12-24T06:56:57.969Z"
   },
   {
    "duration": -961,
    "start_time": "2021-12-24T06:56:57.972Z"
   },
   {
    "duration": -968,
    "start_time": "2021-12-24T06:56:57.981Z"
   },
   {
    "duration": 59,
    "start_time": "2021-12-24T06:57:31.112Z"
   },
   {
    "duration": 8,
    "start_time": "2021-12-24T06:57:33.928Z"
   },
   {
    "duration": 34,
    "start_time": "2021-12-24T06:57:38.544Z"
   },
   {
    "duration": 90,
    "start_time": "2021-12-24T06:57:44.112Z"
   },
   {
    "duration": 37,
    "start_time": "2021-12-24T06:57:45.871Z"
   },
   {
    "duration": 32,
    "start_time": "2021-12-24T06:57:49.111Z"
   },
   {
    "duration": 35,
    "start_time": "2021-12-24T06:57:51.207Z"
   },
   {
    "duration": 39,
    "start_time": "2021-12-24T06:58:03.556Z"
   },
   {
    "duration": 37,
    "start_time": "2021-12-24T06:58:50.552Z"
   },
   {
    "duration": 36,
    "start_time": "2021-12-24T06:58:51.215Z"
   },
   {
    "duration": 34,
    "start_time": "2021-12-24T06:59:11.768Z"
   },
   {
    "duration": 35,
    "start_time": "2021-12-24T06:59:18.087Z"
   },
   {
    "duration": 35,
    "start_time": "2021-12-24T06:59:25.855Z"
   },
   {
    "duration": 39,
    "start_time": "2021-12-24T06:59:32.839Z"
   },
   {
    "duration": 45,
    "start_time": "2021-12-24T06:59:36.048Z"
   },
   {
    "duration": 34,
    "start_time": "2021-12-24T06:59:39.087Z"
   },
   {
    "duration": 37,
    "start_time": "2021-12-24T06:59:42.703Z"
   },
   {
    "duration": 35,
    "start_time": "2021-12-24T06:59:46.951Z"
   },
   {
    "duration": 35,
    "start_time": "2021-12-24T06:59:52.615Z"
   },
   {
    "duration": 37,
    "start_time": "2021-12-24T06:59:56.855Z"
   },
   {
    "duration": 41,
    "start_time": "2021-12-24T07:00:22.895Z"
   },
   {
    "duration": 37,
    "start_time": "2021-12-24T07:00:28.103Z"
   },
   {
    "duration": 19,
    "start_time": "2021-12-24T07:28:56.082Z"
   },
   {
    "duration": 131,
    "start_time": "2021-12-24T07:33:34.074Z"
   },
   {
    "duration": 125,
    "start_time": "2021-12-24T07:34:31.065Z"
   },
   {
    "duration": 31,
    "start_time": "2021-12-24T07:35:10.289Z"
   },
   {
    "duration": 26,
    "start_time": "2021-12-24T07:35:33.840Z"
   },
   {
    "duration": 19,
    "start_time": "2021-12-24T07:36:15.655Z"
   },
   {
    "duration": 20,
    "start_time": "2021-12-24T07:36:22.335Z"
   },
   {
    "duration": 51,
    "start_time": "2021-12-24T07:37:30.415Z"
   },
   {
    "duration": 44,
    "start_time": "2021-12-24T07:37:53.263Z"
   },
   {
    "duration": 45,
    "start_time": "2021-12-24T07:38:01.103Z"
   },
   {
    "duration": 64,
    "start_time": "2021-12-24T07:38:49.663Z"
   },
   {
    "duration": 49,
    "start_time": "2021-12-24T07:39:50.503Z"
   },
   {
    "duration": 40,
    "start_time": "2021-12-24T07:41:33.142Z"
   },
   {
    "duration": 12,
    "start_time": "2021-12-24T07:46:23.643Z"
   },
   {
    "duration": 13,
    "start_time": "2021-12-24T07:46:29.661Z"
   },
   {
    "duration": 61,
    "start_time": "2021-12-24T07:47:25.158Z"
   },
   {
    "duration": 12,
    "start_time": "2021-12-24T07:47:53.310Z"
   },
   {
    "duration": 7,
    "start_time": "2021-12-24T07:48:12.876Z"
   },
   {
    "duration": 7,
    "start_time": "2021-12-24T07:51:18.236Z"
   },
   {
    "duration": 9,
    "start_time": "2021-12-24T07:51:22.700Z"
   },
   {
    "duration": 7,
    "start_time": "2021-12-24T07:51:28.563Z"
   },
   {
    "duration": 13,
    "start_time": "2021-12-24T07:53:12.979Z"
   },
   {
    "duration": 7,
    "start_time": "2021-12-24T07:55:26.100Z"
   },
   {
    "duration": 131,
    "start_time": "2021-12-24T07:55:29.340Z"
   },
   {
    "duration": 17,
    "start_time": "2021-12-24T07:55:51.100Z"
   },
   {
    "duration": 1977,
    "start_time": "2021-12-25T00:28:24.920Z"
   },
   {
    "duration": 181,
    "start_time": "2021-12-25T00:28:26.900Z"
   },
   {
    "duration": 137,
    "start_time": "2021-12-25T00:28:27.085Z"
   },
   {
    "duration": 183,
    "start_time": "2021-12-25T00:28:27.226Z"
   },
   {
    "duration": 207,
    "start_time": "2021-12-25T00:28:27.412Z"
   },
   {
    "duration": 43,
    "start_time": "2021-12-25T00:28:27.622Z"
   },
   {
    "duration": 16,
    "start_time": "2021-12-25T00:28:27.667Z"
   },
   {
    "duration": 8,
    "start_time": "2021-12-25T00:28:27.687Z"
   },
   {
    "duration": 24,
    "start_time": "2021-12-25T00:28:27.699Z"
   },
   {
    "duration": 2723,
    "start_time": "2021-12-25T00:28:27.725Z"
   },
   {
    "duration": 604,
    "start_time": "2021-12-25T00:28:30.451Z"
   },
   {
    "duration": 36,
    "start_time": "2021-12-25T00:28:31.062Z"
   },
   {
    "duration": 64,
    "start_time": "2021-12-25T00:28:31.101Z"
   },
   {
    "duration": 18,
    "start_time": "2021-12-25T00:28:31.168Z"
   },
   {
    "duration": 12,
    "start_time": "2021-12-25T00:28:31.189Z"
   },
   {
    "duration": 64,
    "start_time": "2021-12-25T00:28:31.204Z"
   },
   {
    "duration": 72,
    "start_time": "2021-12-25T00:28:31.270Z"
   },
   {
    "duration": 16,
    "start_time": "2021-12-25T00:28:31.362Z"
   },
   {
    "duration": 8,
    "start_time": "2021-12-25T00:28:31.380Z"
   },
   {
    "duration": 750,
    "start_time": "2021-12-25T00:28:31.390Z"
   },
   {
    "duration": 57,
    "start_time": "2021-12-25T00:28:32.143Z"
   },
   {
    "duration": 60,
    "start_time": "2021-12-25T00:28:32.203Z"
   },
   {
    "duration": 542,
    "start_time": "2021-12-25T00:28:32.268Z"
   },
   {
    "duration": -6848,
    "start_time": "2021-12-25T00:28:39.661Z"
   },
   {
    "duration": -6906,
    "start_time": "2021-12-25T00:28:39.720Z"
   },
   {
    "duration": -6917,
    "start_time": "2021-12-25T00:28:39.732Z"
   },
   {
    "duration": -6941,
    "start_time": "2021-12-25T00:28:39.758Z"
   },
   {
    "duration": -6951,
    "start_time": "2021-12-25T00:28:39.769Z"
   },
   {
    "duration": -6996,
    "start_time": "2021-12-25T00:28:39.815Z"
   },
   {
    "duration": -7015,
    "start_time": "2021-12-25T00:28:39.836Z"
   },
   {
    "duration": -7035,
    "start_time": "2021-12-25T00:28:39.857Z"
   },
   {
    "duration": -7077,
    "start_time": "2021-12-25T00:28:39.900Z"
   },
   {
    "duration": -7090,
    "start_time": "2021-12-25T00:28:39.914Z"
   },
   {
    "duration": 12,
    "start_time": "2021-12-25T00:31:24.327Z"
   },
   {
    "duration": 6,
    "start_time": "2021-12-25T00:31:34.493Z"
   },
   {
    "duration": 169,
    "start_time": "2021-12-25T00:31:34.502Z"
   },
   {
    "duration": 119,
    "start_time": "2021-12-25T00:31:34.674Z"
   },
   {
    "duration": 169,
    "start_time": "2021-12-25T00:31:34.795Z"
   },
   {
    "duration": 201,
    "start_time": "2021-12-25T00:31:34.966Z"
   },
   {
    "duration": 31,
    "start_time": "2021-12-25T00:31:35.169Z"
   },
   {
    "duration": 16,
    "start_time": "2021-12-25T00:31:35.202Z"
   },
   {
    "duration": 8,
    "start_time": "2021-12-25T00:31:35.220Z"
   },
   {
    "duration": 19,
    "start_time": "2021-12-25T00:31:35.265Z"
   },
   {
    "duration": 2754,
    "start_time": "2021-12-25T00:31:35.287Z"
   },
   {
    "duration": 579,
    "start_time": "2021-12-25T00:31:38.044Z"
   },
   {
    "duration": 42,
    "start_time": "2021-12-25T00:31:38.625Z"
   },
   {
    "duration": 46,
    "start_time": "2021-12-25T00:31:38.669Z"
   },
   {
    "duration": 16,
    "start_time": "2021-12-25T00:31:38.718Z"
   },
   {
    "duration": 13,
    "start_time": "2021-12-25T00:31:38.763Z"
   },
   {
    "duration": 30,
    "start_time": "2021-12-25T00:31:38.778Z"
   },
   {
    "duration": 93,
    "start_time": "2021-12-25T00:31:38.811Z"
   },
   {
    "duration": 14,
    "start_time": "2021-12-25T00:31:38.907Z"
   },
   {
    "duration": 142,
    "start_time": "2021-12-25T00:31:38.923Z"
   },
   {
    "duration": 187,
    "start_time": "2021-12-25T00:31:39.068Z"
   },
   {
    "duration": 43,
    "start_time": "2021-12-25T00:31:39.261Z"
   },
   {
    "duration": 8,
    "start_time": "2021-12-25T00:31:39.306Z"
   },
   {
    "duration": 15,
    "start_time": "2021-12-25T00:31:39.316Z"
   },
   {
    "duration": 31,
    "start_time": "2021-12-25T00:31:39.333Z"
   },
   {
    "duration": 62,
    "start_time": "2021-12-25T00:31:39.367Z"
   },
   {
    "duration": 31,
    "start_time": "2021-12-25T00:31:39.432Z"
   },
   {
    "duration": 9,
    "start_time": "2021-12-25T00:31:39.468Z"
   },
   {
    "duration": 46,
    "start_time": "2021-12-25T00:31:39.480Z"
   },
   {
    "duration": 104,
    "start_time": "2021-12-25T00:31:39.529Z"
   },
   {
    "duration": 46,
    "start_time": "2021-12-25T00:31:39.636Z"
   },
   {
    "duration": 34,
    "start_time": "2021-12-25T00:31:39.684Z"
   },
   {
    "duration": 65,
    "start_time": "2021-12-25T00:31:39.721Z"
   },
   {
    "duration": 19,
    "start_time": "2021-12-25T00:31:39.788Z"
   },
   {
    "duration": 59,
    "start_time": "2021-12-25T00:50:55.120Z"
   },
   {
    "duration": 36,
    "start_time": "2021-12-25T00:54:46.119Z"
   },
   {
    "duration": 10,
    "start_time": "2021-12-25T01:04:11.303Z"
   },
   {
    "duration": 14,
    "start_time": "2021-12-25T01:04:41.249Z"
   },
   {
    "duration": 34,
    "start_time": "2021-12-25T01:05:24.177Z"
   },
   {
    "duration": 38,
    "start_time": "2021-12-25T01:25:09.351Z"
   },
   {
    "duration": 38,
    "start_time": "2021-12-25T01:33:45.426Z"
   },
   {
    "duration": 38,
    "start_time": "2021-12-25T01:35:15.406Z"
   },
   {
    "duration": 37,
    "start_time": "2021-12-25T01:35:26.089Z"
   },
   {
    "duration": 38,
    "start_time": "2021-12-25T01:35:30.450Z"
   },
   {
    "duration": 34,
    "start_time": "2021-12-25T01:35:34.958Z"
   },
   {
    "duration": 38,
    "start_time": "2021-12-25T01:35:47.998Z"
   },
   {
    "duration": 34,
    "start_time": "2021-12-25T01:36:04.274Z"
   },
   {
    "duration": 1347,
    "start_time": "2021-12-25T09:22:09.279Z"
   },
   {
    "duration": 125,
    "start_time": "2021-12-25T09:22:10.628Z"
   },
   {
    "duration": 78,
    "start_time": "2021-12-25T09:22:10.756Z"
   },
   {
    "duration": 106,
    "start_time": "2021-12-25T09:22:10.836Z"
   },
   {
    "duration": 130,
    "start_time": "2021-12-25T09:22:10.944Z"
   },
   {
    "duration": 23,
    "start_time": "2021-12-25T09:22:11.075Z"
   },
   {
    "duration": 12,
    "start_time": "2021-12-25T09:22:11.099Z"
   },
   {
    "duration": 15,
    "start_time": "2021-12-25T09:22:11.113Z"
   },
   {
    "duration": 13,
    "start_time": "2021-12-25T09:22:11.130Z"
   },
   {
    "duration": 1635,
    "start_time": "2021-12-25T09:22:11.144Z"
   },
   {
    "duration": 333,
    "start_time": "2021-12-25T09:22:12.781Z"
   },
   {
    "duration": 31,
    "start_time": "2021-12-25T09:22:13.116Z"
   },
   {
    "duration": 33,
    "start_time": "2021-12-25T09:22:13.149Z"
   },
   {
    "duration": 11,
    "start_time": "2021-12-25T09:22:13.184Z"
   },
   {
    "duration": 7,
    "start_time": "2021-12-25T09:22:13.196Z"
   },
   {
    "duration": 38,
    "start_time": "2021-12-25T09:22:13.204Z"
   },
   {
    "duration": 46,
    "start_time": "2021-12-25T09:22:13.243Z"
   },
   {
    "duration": 8,
    "start_time": "2021-12-25T09:22:13.291Z"
   },
   {
    "duration": 27,
    "start_time": "2021-12-25T09:22:13.301Z"
   },
   {
    "duration": 470,
    "start_time": "2021-12-25T09:22:13.329Z"
   },
   {
    "duration": 44,
    "start_time": "2021-12-25T09:22:13.801Z"
   },
   {
    "duration": 4,
    "start_time": "2021-12-25T09:22:13.847Z"
   },
   {
    "duration": 10,
    "start_time": "2021-12-25T09:22:13.853Z"
   },
   {
    "duration": 104,
    "start_time": "2021-12-25T09:22:13.865Z"
   },
   {
    "duration": 59,
    "start_time": "2021-12-25T09:22:13.971Z"
   },
   {
    "duration": 31,
    "start_time": "2021-12-25T09:22:14.032Z"
   },
   {
    "duration": 106,
    "start_time": "2021-12-25T09:22:14.067Z"
   },
   {
    "duration": 28,
    "start_time": "2021-12-25T09:22:14.175Z"
   },
   {
    "duration": 41,
    "start_time": "2021-12-25T09:22:14.205Z"
   },
   {
    "duration": 25,
    "start_time": "2021-12-25T09:22:14.248Z"
   },
   {
    "duration": 1933,
    "start_time": "2021-12-26T04:33:18.649Z"
   },
   {
    "duration": 183,
    "start_time": "2021-12-26T04:33:20.585Z"
   },
   {
    "duration": 136,
    "start_time": "2021-12-26T04:33:20.771Z"
   },
   {
    "duration": 189,
    "start_time": "2021-12-26T04:33:20.910Z"
   },
   {
    "duration": 211,
    "start_time": "2021-12-26T04:33:21.101Z"
   },
   {
    "duration": 30,
    "start_time": "2021-12-26T04:33:21.314Z"
   },
   {
    "duration": 33,
    "start_time": "2021-12-26T04:33:21.347Z"
   },
   {
    "duration": 8,
    "start_time": "2021-12-26T04:33:21.384Z"
   },
   {
    "duration": 19,
    "start_time": "2021-12-26T04:33:21.396Z"
   },
   {
    "duration": 3181,
    "start_time": "2021-12-26T04:33:21.418Z"
   },
   {
    "duration": 636,
    "start_time": "2021-12-26T04:33:24.602Z"
   },
   {
    "duration": 45,
    "start_time": "2021-12-26T04:33:25.240Z"
   },
   {
    "duration": 47,
    "start_time": "2021-12-26T04:33:25.287Z"
   },
   {
    "duration": 31,
    "start_time": "2021-12-26T04:33:25.336Z"
   },
   {
    "duration": 12,
    "start_time": "2021-12-26T04:33:25.369Z"
   },
   {
    "duration": 30,
    "start_time": "2021-12-26T04:33:25.383Z"
   },
   {
    "duration": 110,
    "start_time": "2021-12-26T04:33:25.415Z"
   },
   {
    "duration": 14,
    "start_time": "2021-12-26T04:33:25.527Z"
   },
   {
    "duration": 25,
    "start_time": "2021-12-26T04:33:25.543Z"
   },
   {
    "duration": 6,
    "start_time": "2021-12-26T04:35:29.523Z"
   },
   {
    "duration": 178,
    "start_time": "2021-12-26T04:35:30.262Z"
   },
   {
    "duration": 114,
    "start_time": "2021-12-26T04:35:30.883Z"
   },
   {
    "duration": 165,
    "start_time": "2021-12-26T04:35:32.501Z"
   },
   {
    "duration": 206,
    "start_time": "2021-12-26T04:35:33.326Z"
   },
   {
    "duration": 33,
    "start_time": "2021-12-26T04:35:34.391Z"
   },
   {
    "duration": 16,
    "start_time": "2021-12-26T04:35:34.749Z"
   },
   {
    "duration": 9,
    "start_time": "2021-12-26T04:35:35.675Z"
   },
   {
    "duration": 21,
    "start_time": "2021-12-26T04:35:36.415Z"
   },
   {
    "duration": 3150,
    "start_time": "2021-12-26T04:35:37.273Z"
   },
   {
    "duration": 590,
    "start_time": "2021-12-26T04:35:40.426Z"
   },
   {
    "duration": 48,
    "start_time": "2021-12-26T04:35:41.021Z"
   },
   {
    "duration": 50,
    "start_time": "2021-12-26T04:35:41.073Z"
   },
   {
    "duration": 50,
    "start_time": "2021-12-26T04:35:41.126Z"
   },
   {
    "duration": 13,
    "start_time": "2021-12-26T04:35:41.179Z"
   },
   {
    "duration": 33,
    "start_time": "2021-12-26T04:35:43.060Z"
   },
   {
    "duration": 66,
    "start_time": "2021-12-26T04:35:44.297Z"
   },
   {
    "duration": 16,
    "start_time": "2021-12-26T04:35:45.056Z"
   },
   {
    "duration": 8,
    "start_time": "2021-12-26T04:35:46.305Z"
   },
   {
    "duration": 293,
    "start_time": "2021-12-26T04:35:46.704Z"
   },
   {
    "duration": 42,
    "start_time": "2021-12-26T04:35:49.250Z"
   },
   {
    "duration": 8,
    "start_time": "2021-12-26T04:35:50.734Z"
   },
   {
    "duration": 12,
    "start_time": "2021-12-26T04:35:51.019Z"
   },
   {
    "duration": 63,
    "start_time": "2021-12-26T04:35:53.024Z"
   },
   {
    "duration": 9,
    "start_time": "2021-12-26T04:35:55.076Z"
   },
   {
    "duration": 36,
    "start_time": "2021-12-26T04:35:55.619Z"
   },
   {
    "duration": 82,
    "start_time": "2021-12-26T04:35:57.037Z"
   },
   {
    "duration": 33,
    "start_time": "2021-12-26T04:35:57.863Z"
   },
   {
    "duration": 37,
    "start_time": "2021-12-26T04:35:58.789Z"
   },
   {
    "duration": 37,
    "start_time": "2021-12-26T04:35:59.758Z"
   },
   {
    "duration": 40,
    "start_time": "2021-12-26T04:36:31.765Z"
   },
   {
    "duration": 36,
    "start_time": "2021-12-26T04:36:38.825Z"
   },
   {
    "duration": 35,
    "start_time": "2021-12-26T04:36:52.082Z"
   },
   {
    "duration": 35,
    "start_time": "2021-12-26T04:36:56.495Z"
   },
   {
    "duration": 35,
    "start_time": "2021-12-26T04:37:04.446Z"
   },
   {
    "duration": 36,
    "start_time": "2021-12-26T04:37:11.307Z"
   },
   {
    "duration": 34,
    "start_time": "2021-12-26T04:37:15.876Z"
   },
   {
    "duration": 527,
    "start_time": "2021-12-26T04:49:15.722Z"
   },
   {
    "duration": 6,
    "start_time": "2021-12-26T04:50:15.521Z"
   },
   {
    "duration": 6,
    "start_time": "2021-12-26T04:52:16.711Z"
   },
   {
    "duration": 36,
    "start_time": "2021-12-26T04:52:54.963Z"
   },
   {
    "duration": 36,
    "start_time": "2021-12-26T04:53:02.511Z"
   },
   {
    "duration": 33,
    "start_time": "2021-12-26T04:53:09.278Z"
   },
   {
    "duration": 1492,
    "start_time": "2021-12-27T03:32:21.067Z"
   },
   {
    "duration": 133,
    "start_time": "2021-12-27T03:32:22.561Z"
   },
   {
    "duration": 87,
    "start_time": "2021-12-27T03:32:22.696Z"
   },
   {
    "duration": 117,
    "start_time": "2021-12-27T03:32:22.784Z"
   },
   {
    "duration": 135,
    "start_time": "2021-12-27T03:32:22.903Z"
   },
   {
    "duration": 27,
    "start_time": "2021-12-27T03:32:23.040Z"
   },
   {
    "duration": 13,
    "start_time": "2021-12-27T03:32:23.069Z"
   },
   {
    "duration": 13,
    "start_time": "2021-12-27T03:32:23.085Z"
   },
   {
    "duration": 27,
    "start_time": "2021-12-27T03:32:23.100Z"
   },
   {
    "duration": 1674,
    "start_time": "2021-12-27T03:32:23.129Z"
   },
   {
    "duration": 352,
    "start_time": "2021-12-27T03:32:24.805Z"
   },
   {
    "duration": 27,
    "start_time": "2021-12-27T03:32:25.161Z"
   },
   {
    "duration": 36,
    "start_time": "2021-12-27T03:32:25.189Z"
   },
   {
    "duration": 12,
    "start_time": "2021-12-27T03:32:25.227Z"
   },
   {
    "duration": 7,
    "start_time": "2021-12-27T03:32:25.261Z"
   },
   {
    "duration": 24,
    "start_time": "2021-12-27T03:32:25.270Z"
   },
   {
    "duration": 74,
    "start_time": "2021-12-27T03:32:25.295Z"
   },
   {
    "duration": 10,
    "start_time": "2021-12-27T03:32:25.371Z"
   },
   {
    "duration": 7,
    "start_time": "2021-12-27T03:32:25.383Z"
   },
   {
    "duration": 521,
    "start_time": "2021-12-27T03:32:25.391Z"
   },
   {
    "duration": 60,
    "start_time": "2021-12-27T03:32:25.913Z"
   },
   {
    "duration": 4,
    "start_time": "2021-12-27T03:32:25.975Z"
   },
   {
    "duration": 9,
    "start_time": "2021-12-27T03:32:25.982Z"
   },
   {
    "duration": 96,
    "start_time": "2021-12-27T03:32:25.993Z"
   },
   {
    "duration": 6,
    "start_time": "2021-12-27T03:32:26.091Z"
   },
   {
    "duration": 77,
    "start_time": "2021-12-27T03:32:26.098Z"
   },
   {
    "duration": 59,
    "start_time": "2021-12-27T03:32:26.176Z"
   },
   {
    "duration": 41,
    "start_time": "2021-12-27T03:32:26.237Z"
   },
   {
    "duration": 22,
    "start_time": "2021-12-27T03:32:26.280Z"
   },
   {
    "duration": 21,
    "start_time": "2021-12-27T03:32:26.304Z"
   },
   {
    "duration": 4,
    "start_time": "2021-12-27T03:45:48.870Z"
   },
   {
    "duration": 125,
    "start_time": "2021-12-27T03:45:49.655Z"
   },
   {
    "duration": 77,
    "start_time": "2021-12-27T03:45:54.775Z"
   },
   {
    "duration": 102,
    "start_time": "2021-12-27T03:46:08.165Z"
   },
   {
    "duration": 154,
    "start_time": "2021-12-27T03:46:19.798Z"
   },
   {
    "duration": 123,
    "start_time": "2021-12-27T03:46:48.734Z"
   },
   {
    "duration": 22,
    "start_time": "2021-12-27T03:47:00.245Z"
   },
   {
    "duration": 20,
    "start_time": "2021-12-27T03:47:01.934Z"
   },
   {
    "duration": 6,
    "start_time": "2021-12-27T03:47:12.493Z"
   },
   {
    "duration": 14,
    "start_time": "2021-12-27T03:47:18.957Z"
   },
   {
    "duration": 1717,
    "start_time": "2021-12-27T03:47:35.661Z"
   },
   {
    "duration": 329,
    "start_time": "2021-12-27T03:47:41.821Z"
   },
   {
    "duration": 25,
    "start_time": "2021-12-27T03:48:02.405Z"
   },
   {
    "duration": 16,
    "start_time": "2021-12-27T03:48:30.981Z"
   },
   {
    "duration": 36,
    "start_time": "2021-12-27T03:48:50.846Z"
   },
   {
    "duration": 37,
    "start_time": "2021-12-27T03:50:31.765Z"
   },
   {
    "duration": 11,
    "start_time": "2021-12-27T03:50:51.463Z"
   },
   {
    "duration": 8,
    "start_time": "2021-12-27T03:51:34.789Z"
   },
   {
    "duration": 24,
    "start_time": "2021-12-27T03:51:47.085Z"
   },
   {
    "duration": 48,
    "start_time": "2021-12-27T03:51:52.237Z"
   },
   {
    "duration": 49,
    "start_time": "2021-12-27T03:52:28.861Z"
   },
   {
    "duration": 11,
    "start_time": "2021-12-27T03:53:11.044Z"
   },
   {
    "duration": 6,
    "start_time": "2021-12-27T03:53:27.732Z"
   },
   {
    "duration": 218,
    "start_time": "2021-12-27T03:53:29.757Z"
   },
   {
    "duration": 32,
    "start_time": "2021-12-27T03:53:53.148Z"
   },
   {
    "duration": 5,
    "start_time": "2021-12-27T03:54:03.964Z"
   },
   {
    "duration": 9,
    "start_time": "2021-12-27T03:54:05.036Z"
   },
   {
    "duration": 43,
    "start_time": "2021-12-27T03:54:21.692Z"
   },
   {
    "duration": 6,
    "start_time": "2021-12-27T03:54:34.459Z"
   },
   {
    "duration": 22,
    "start_time": "2021-12-27T03:54:38.155Z"
   },
   {
    "duration": 57,
    "start_time": "2021-12-27T03:54:51.276Z"
   },
   {
    "duration": 22,
    "start_time": "2021-12-27T03:54:53.979Z"
   },
   {
    "duration": 24,
    "start_time": "2021-12-27T03:54:58.355Z"
   },
   {
    "duration": 24,
    "start_time": "2021-12-27T03:55:02.355Z"
   },
   {
    "duration": 23,
    "start_time": "2021-12-27T03:56:20.004Z"
   }
  ],
  "kernelspec": {
   "display_name": "Python 3",
   "language": "python",
   "name": "python3"
  },
  "language_info": {
   "codemirror_mode": {
    "name": "ipython",
    "version": 3
   },
   "file_extension": ".py",
   "mimetype": "text/x-python",
   "name": "python",
   "nbconvert_exporter": "python",
   "pygments_lexer": "ipython3",
   "version": "3.7.8"
  },
  "toc": {
   "base_numbering": 1,
   "nav_menu": {},
   "number_sections": true,
   "sideBar": true,
   "skip_h1_title": true,
   "title_cell": "Table of Contents",
   "title_sidebar": "Contents",
   "toc_cell": false,
   "toc_position": {},
   "toc_section_display": true,
   "toc_window_display": false
  }
 },
 "nbformat": 4,
 "nbformat_minor": 2
}
